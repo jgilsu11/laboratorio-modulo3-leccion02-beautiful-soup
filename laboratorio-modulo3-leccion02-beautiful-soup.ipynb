{
 "cells": [
  {
   "cell_type": "markdown",
   "metadata": {},
   "source": [
    "<div style=\"text-align: center;\">\n",
    "  <img src=\"https://github.com/Hack-io-Data/Imagenes/blob/main/01-LogosHackio/logo_naranja@4x.png?raw=true\" alt=\"esquema\" />\n",
    "</div>"
   ]
  },
  {
   "cell_type": "markdown",
   "metadata": {},
   "source": [
    "## Contexto\n",
    "\n",
    "**Descripción:**\n",
    "\n",
    "SetMagic Productions es una empresa especializada en la provisión de servicios integrales para la realización de rodajes cinematográficos y audiovisuales. Nos dedicamos a facilitar tanto el atrezzo necesario para las producciones como los lugares idóneos para llevar a cabo los rodajes, ya sea en entornos al aire libre o en interiores.\n",
    "\n",
    "**Servicios Ofrecidos:**\n",
    "\n",
    "- **Atrezzo Creativo:** Contamos con un extenso catálogo de atrezzo que abarca desde accesorios hasta muebles y objetos temáticos para ambientar cualquier tipo de  escena.\n",
    "\n",
    "- **Locaciones Únicas:** Nuestra empresa ofrece una amplia selección de locaciones, que incluyen desde escenarios naturales como playas, bosques y montañas, hasta espacios interiores como estudios, casas históricas y edificios emblemáticos.\n",
    "- **Servicios de Producción:** Además de proporcionar atrezzo y locaciones, también ofrecemos servicios de producción audiovisual, incluyendo equipos de filmación, personal técnico y servicios de postproducción.\n",
    "\n",
    "**Herramientas y Tecnologías:**\n",
    "\n",
    "Para recopilar información sobre nuevas locaciones y tendencias en atrezzo, utilizamos herramientas de web scraping como Beautiful Soup y Selenium para extraer datos de sitios web relevantes y redes sociales especializadas en cine y producción audiovisual. También integramos APIs de plataformas de alquiler de locaciones y bases de datos de atrezzo para acceder a información actualizada y detallada.\n",
    "\n",
    "**Almacenamiento de Datos:** (A trabajar la próxima semana)\n",
    "\n",
    "La información recopilada mediante web scraping y APIs se almacenará tanto en una base de datos relacional SQL como en una base de datos no relacional MongoDB . Estas base de datos nos permite organizar eficientemente la información sobre locaciones, atrezzo, clientes y proyectos en curso, facilitando su acceso y gestión.\n",
    "\n",
    "**Objetivo:**\n",
    "\n",
    "Nuestro objetivo principal es proporcionar a nuestros clientes una experiencia fluida y personalizada en la búsqueda y selección de locaciones y atrezzo para sus proyectos audiovisuales. Utilizando tecnologías avanzadas y una amplia red de contactos en la industria, nos esforzamos por ofrecer soluciones creativas y de alta calidad que satisfagan las necesidades específicas de cada producción.\n",
    "\n",
    "\n",
    "## Lab: Extracción de Información con Beautiful Soup\n",
    "\n",
    "En este laboratorio seguirás enriqueciendo la base de datos para ofrecer a tus clientes un servicio más completo y personalizado. Para lograr esto, extraerás información valiosa sobre objetos de atrezzo de una web especializada. Utilizarás técnicas de web scraping con la biblioteca **Beautiful Soup** para obtener y organizar los datos de manera eficiente.\n",
    "\n",
    "Trabajarás con la siguiente URL: [Atrezzo Vázquez](https://atrezzovazquez.es/shop.php?search_type=-1&search_terms=&limit=48&page=1). Esta página contiene una gran cantidad de objetos de atrezzo que pueden ser de interés para un proyecto de rodaje. Tu tarea será extraer información relevante de los productos listados en las primeras 100 páginas.\n",
    "\n",
    "1. **Navegación y Extracción de Múltiples Páginas**:\n",
    "\n",
    "   - La página web contiene varios elementos distribuidos en distintas páginas. Tu objetivo será iterar a través de las 100 primeras páginas y extraer la información deseada.\n",
    "\n",
    "   - Debes asegurarte de que tu código sea capaz de navegar automáticamente por estas páginas y extraer datos de manera continua.\n",
    "\n",
    "2. **Verificación del Código de Estado de la Respuesta**:\n",
    "\n",
    "   - Antes de extraer cualquier información, es fundamental verificar que la solicitud a la página web ha sido exitosa. Un código de estado 200 indica que la página se ha cargado correctamente.\n",
    "\n",
    "   - Si el código no es 200, debes imprimir un mensaje de error y detener la ejecución de la extracción para evitar problemas posteriores.\n",
    "\n",
    "3. **Extracción de Información Específica**:\n",
    "\n",
    "   De cada página, deberás extraer los siguientes detalles de los objetos de atrezzo:\n",
    "\n",
    "   - **Nombre del Objeto**: El nombre o identificador del objeto.\n",
    "\n",
    "   - **Categoría**: La categoría en la que se clasifica el objeto (ej.: mobiliario, decorado, utilería, etc.).\n",
    "\n",
    "   - **Sección**: La sección específica dentro de la categoría.\n",
    "\n",
    "   - **Descripción**: Una breve descripción del objeto que puede incluir detalles sobre su estilo, material o uso.\n",
    "\n",
    "   - **Dimensiones**: El tamaño del objeto en formato (largo x ancho x alto).\n",
    "\n",
    "   - **Enlace a la Imagen**: El link a la imagen del objeto, útil para tener una vista previa visual.\n",
    "\n",
    "4. **Organización de los Datos en un Diccionario**:\n",
    "\n",
    "   Una vez extraída la información, deberás organizarla en un diccionario con las siguientes claves:\n",
    "\n",
    "   - `\"nombre\"`: Nombres del objeto.\n",
    "\n",
    "   - `\"categoria\"`: Categoría a la que pertenece el objeto.\n",
    "\n",
    "   - `\"seccion\"`: Sección específica dentro de la categoría.\n",
    "\n",
    "   - `\"descripcion\"`: Breve descripción del objeto.\n",
    "\n",
    "   - `\"dimensiones\"`: Dimensiones del objeto en el formato adecuado.\n",
    "\n",
    "   - `\"imagen\"`: URL de la imagen del objeto.\n",
    "\n",
    "5. **Almacenamiento de la Información en un DataFrame**:\n",
    "\n",
    "   Una vez que tengas toda la información organizada en diccionarios, el siguiente paso es convertirla en un DataFrame de Pandas. Este DataFrame te permitirá manipular y analizar los datos con facilidad. Tu DataFrame debería verse similar al ejemplo proporcionado, donde cada fila representa un objeto diferente y cada columna contiene la información extraída:\n",
    "\n",
    "![Dataframe](https://github.com/Hack-io-Data/Imagenes/blob/main/02-Imagenes/BS/df_atrezzo.png?raw=true)\n",
    "\n",
    "\n",
    "6.  Consideraciones Adicionales:\n",
    "\n",
    "- Asegúrate de manejar posibles errores o excepciones durante el scraping, como tiempos de espera agotados, páginas inaccesibles o datos faltantes.\n",
    "\n",
    "- Recuerda que el scraping debe hacerse de manera respetuosa, evitando sobrecargar el servidor de la página web (puedes usar pausas entre solicitudes).\n",
    "\n",
    "- Finalmente, asegúrate de almacenar el DataFrame en un archivo CSV para que puedas reutilizar esta información en análisis futuros.\n"
   ]
  },
  {
   "cell_type": "code",
   "execution_count": 1,
   "metadata": {},
   "outputs": [],
   "source": [
    "import numpy as np\n",
    "import pandas as pd\n",
    "from bs4 import BeautifulSoup\n",
    "import requests\n",
    "from datetime import datetime"
   ]
  },
  {
   "cell_type": "markdown",
   "metadata": {},
   "source": [
    "1. **Navegación y Extracción de Múltiples Páginas**:\n",
    "\n",
    "   - La página web contiene varios elementos distribuidos en distintas páginas. Tu objetivo será iterar a través de las 100 primeras páginas y extraer la información deseada.\n",
    "\n",
    "   - Debes asegurarte de que tu código sea capaz de navegar automáticamente por estas páginas y extraer datos de manera continua."
   ]
  },
  {
   "cell_type": "code",
   "execution_count": 2,
   "metadata": {},
   "outputs": [],
   "source": [
    "url_atrezzo1= \"https://atrezzovazquez.es/shop.php?search_type=-1&search_terms=&limit=48&page=1\"\n",
    "res_atrezzo1= requests.get(url_atrezzo1)\n",
    "res_atrezzo1.status_code\n",
    "sopa_atrezzo1= BeautifulSoup(res_atrezzo1.content, \"html.parser\")"
   ]
  },
  {
   "cell_type": "code",
   "execution_count": 3,
   "metadata": {},
   "outputs": [
    {
     "data": {
      "text/plain": [
       "200"
      ]
     },
     "execution_count": 3,
     "metadata": {},
     "output_type": "execute_result"
    }
   ],
   "source": [
    "res_atrezzo1.status_code    \n",
    "\n",
    "# Nombre del Objeto, \n",
    "\n",
    "# Categoría(ej.: mobiliario, decorado, utilería, etc.),\n",
    "\n",
    "# Sección(La sección específica dentro de la categoría.)\n",
    "\n",
    "# Descripción**: Una breve descripción del objeto que puede incluir detalles sobre su estilo, material o uso.\n",
    "\n",
    "# Dimensiones El tamaño del objeto en formato (largo x ancho x alto).\n",
    "\n",
    "# Enlace a la Imagen El link a la imagen del objeto, útil para tener una vista previa visual."
   ]
  },
  {
   "cell_type": "markdown",
   "metadata": {},
   "source": [
    "Esta celda es para buscar lo que nos piden"
   ]
  },
  {
   "cell_type": "code",
   "execution_count": 4,
   "metadata": {},
   "outputs": [],
   "source": [
    "# lista_imagen= sopa_atrezzo1.find_all(\"img\")\n",
    "# imagen_at=[imagen.get(\"src\") for imagen in lista_imagen]\n",
    "# df_img_at= pd.DataFrame(imagen_at)\n",
    "# df_img_at"
   ]
  },
  {
   "cell_type": "code",
   "execution_count": 5,
   "metadata": {},
   "outputs": [],
   "source": [
    "# lista_imagen= sopa_atrezzo1.find_all(\"img\")\n",
    "# imagen_at=[imagen.get(\"src\") for imagen in lista_imagen]\n",
    "# df_img_at= pd.DataFrame(imagen_at)\n",
    "# df_img_at.drop(columns= 0, inplace= True)\n",
    "# df_img_atrezzo= df_img_at.copy()\n",
    "# df_img_atrezzo[\"imagen_atrezzo\"]= imagen_at\n",
    "# df_img_atrezzo.drop( [0,1] ,axis= 0, inplace= True)    \n",
    "# # df_img_atrezzo.drop( index ,axis= 1, inplace= True)\n",
    "# df_img_atrezzo.head().reset_index()"
   ]
  },
  {
   "cell_type": "code",
   "execution_count": 14,
   "metadata": {},
   "outputs": [
    {
     "data": {
      "text/plain": [
       "[<img alt=\"\" src=\"img/logo.png\"/>,\n",
       " <img alt=\"\" src=\"img/logo.png\"/>,\n",
       " <img alt=\"\" src=\"admin/img_prod/ALF1/ALF1-720x540.png\"/>,\n",
       " <img alt=\"\" src=\"admin/img_prod/ALF1/ALF1-720x540.png\"/>,\n",
       " <img alt=\"\" src=\"admin/img_prod/ADO1/ADO1-720x540.png\"/>,\n",
       " <img alt=\"\" src=\"admin/img_prod/ADO1/ADO1-720x540.png\"/>,\n",
       " <img alt=\"\" src=\"admin/img_prod/AFC1/AFC1-720x540.png\"/>,\n",
       " <img alt=\"\" src=\"admin/img_prod/AFC1/AFC1-720x540.png\"/>,\n",
       " <img alt=\"\" src=\"admin/img_prod/AP1/AP1-720x540.png\"/>,\n",
       " <img alt=\"\" src=\"admin/img_prod/AP1/AP1-720x540.png\"/>,\n",
       " <img alt=\"\" src=\"admin/img_prod/AST1/AST1-pie-720x540.png\"/>,\n",
       " <img alt=\"\" src=\"admin/img_prod/AST1/AST1-pie-720x540.png\"/>,\n",
       " <img alt=\"\" src=\"admin/img_prod/TOR1/TOR1-1-720x540.png\"/>,\n",
       " <img alt=\"\" src=\"admin/img_prod/TOR1/TOR1-2-720x540.png\"/>,\n",
       " <img alt=\"\" src=\"admin/img_prod/ARC1/ARC1-1-720x540.png\"/>,\n",
       " <img alt=\"\" src=\"admin/img_prod/ARC1/ARC1-2-720x540.png\"/>,\n",
       " <img alt=\"\" src=\"admin/img_prod/ARC1/ARC1-720x540.png\"/>,\n",
       " <img alt=\"\" src=\"admin/img_prod/AR1/AR1-720x540.png\"/>,\n",
       " <img alt=\"\" src=\"admin/img_prod/AR1/AR1-720x540.png\"/>,\n",
       " <img alt=\"\" src=\"admin/img_prod/ARM1/ARM1-1-720x540.png\"/>,\n",
       " <img alt=\"\" src=\"admin/img_prod/ARM1/ARM1-720x540.png\"/>,\n",
       " <img alt=\"\" src=\"admin/img_prod/ATD1/ATD1-1-720x540.png\"/>,\n",
       " <img alt=\"\" src=\"admin/img_prod/ATD1/ATD1-2-720x540.png\"/>,\n",
       " <img alt=\"\" src=\"admin/img_prod/ATD1/ATD1-720x540.png\"/>,\n",
       " <img alt=\"\" src=\"admin/img_prod/ATR1/ATR1-1-720x540.png\"/>,\n",
       " <img alt=\"\" src=\"admin/img_prod/ATR1/ATR1-720x540.png\"/>,\n",
       " <img alt=\"\" src=\"admin/img_prod/BL1/BL1-1-720x540.png\"/>,\n",
       " <img alt=\"\" src=\"admin/img_prod/BL1/BL1-720x540.png\"/>,\n",
       " <img alt=\"\" src=\"admin/img_prod/BAC1/BAC1-1-720x540.png\"/>,\n",
       " <img alt=\"\" src=\"admin/img_prod/BAC1/BAC1-720x540.png\"/>,\n",
       " <img alt=\"\" src=\"admin/img_prod/BAN1/BAN1-1-720x540.png\"/>,\n",
       " <img alt=\"\" src=\"admin/img_prod/BAN1/BAN1-2-720x540.png\"/>,\n",
       " <img alt=\"\" src=\"admin/img_prod/BAN1/BAN1-720x540.png\"/>,\n",
       " <img alt=\"\" src=\"admin/img_prod/M1/M1-1-720x540.png\"/>,\n",
       " <img alt=\"\" src=\"admin/img_prod/M1/M1-720x540.png\"/>,\n",
       " <img alt=\"\" src=\"admin/img_prod/BA1/BA1-1-720x540.png\"/>,\n",
       " <img alt=\"\" src=\"admin/img_prod/BA1/BA1-2-720x540.png\"/>,\n",
       " <img alt=\"\" src=\"admin/img_prod/BA1/BA1-3-720x540.png\"/>,\n",
       " <img alt=\"\" src=\"admin/img_prod/BAR1/BAR1-1-720x540.png\"/>,\n",
       " <img alt=\"\" src=\"admin/img_prod/BAR1/BAR1-2-720x540.png\"/>,\n",
       " <img alt=\"\" src=\"admin/img_prod/BAR1/BAR1-720x540.png\"/>,\n",
       " <img alt=\"\" src=\"admin/img_prod/BRL1/BRL1-1-720x540.png\"/>,\n",
       " <img alt=\"\" src=\"admin/img_prod/BRL1/BRL1-720x540.png\"/>,\n",
       " <img alt=\"\" src=\"admin/img_prod/BAS1/BAS1-1-720x540.png\"/>,\n",
       " <img alt=\"\" src=\"admin/img_prod/BAS1/BAS1-2-720x540.png\"/>,\n",
       " <img alt=\"\" src=\"admin/img_prod/BAS1/BAS1-720x540.png\"/>,\n",
       " <img alt=\"\" src=\"admin/img_prod/BAU1/BAU1-1-720x540.png\"/>,\n",
       " <img alt=\"\" src=\"admin/img_prod/BAU1/BAU1-2-720x540.png\"/>,\n",
       " <img alt=\"\" src=\"admin/img_prod/BAU1/BAU1-3-720x540.png\"/>,\n",
       " <img alt=\"\" src=\"admin/img_prod/BEB1/BEB1-720x540.png\"/>,\n",
       " <img alt=\"\" src=\"admin/img_prod/BEB1/BEB1-720x540.png\"/>,\n",
       " <img alt=\"\" src=\"admin/img_prod/PER1/PER1-720x540.png\"/>,\n",
       " <img alt=\"\" src=\"admin/img_prod/PER1/PER1-720x540.png\"/>,\n",
       " <img alt=\"\" src=\"admin/img_prod/ESC1/ESC1-720x540.png\"/>,\n",
       " <img alt=\"\" src=\"admin/img_prod/ESC1/ESC1-720x540.png\"/>,\n",
       " <img alt=\"\" src=\"admin/img_prod/BIO1/BIO1-1-720x540.png\"/>,\n",
       " <img alt=\"\" src=\"admin/img_prod/BIO1/BIO1-720x540.png\"/>,\n",
       " <img alt=\"\" src=\"admin/img_prod/BIS1/BIS1-1-720x540.png\"/>,\n",
       " <img alt=\"\" src=\"admin/img_prod/BIS1/BIS1-2-720x540.png\"/>,\n",
       " <img alt=\"\" src=\"admin/img_prod/BIS1/BIS1-720x540.png\"/>,\n",
       " <img alt=\"\" src=\"admin/img_prod/BRA1/BRA1-1-720x540.png\"/>,\n",
       " <img alt=\"\" src=\"admin/img_prod/BRA1/BRA1-720x540.png\"/>,\n",
       " <img alt=\"\" src=\"admin/img_prod/BUT1/BUT1-1-720x540.png\"/>,\n",
       " <img alt=\"\" src=\"admin/img_prod/BUT1/BUT1-2-720x540.png\"/>,\n",
       " <img alt=\"\" src=\"admin/img_prod/BUT1/BUT1-720x540.png\"/>,\n",
       " <img alt=\"\" src=\"admin/img_prod/CAB1/CAB1-1-720x540.png\"/>,\n",
       " <img alt=\"\" src=\"admin/img_prod/CAB1/CAB1-720x540.png\"/>,\n",
       " <img alt=\"\" src=\"admin/img_prod/CAR1/CAR1-1-720x540.png\"/>,\n",
       " <img alt=\"\" src=\"admin/img_prod/CAR1/CAR1-2-720x540.png\"/>,\n",
       " <img alt=\"\" src=\"admin/img_prod/CF1/CF1-720x540.png\"/>,\n",
       " <img alt=\"\" src=\"admin/img_prod/CF1/CF1-720x540.png\"/>,\n",
       " <img alt=\"\" src=\"admin/img_prod/CAJ1/CAJ1-1-720x540.png\"/>,\n",
       " <img alt=\"\" src=\"admin/img_prod/CAJ1/CAJ1-2-720x540.png\"/>,\n",
       " <img alt=\"\" src=\"admin/img_prod/CAJ1/CAJ1-720x540.png\"/>,\n",
       " <img alt=\"\" src=\"admin/img_prod/CA1/CA1-720x540.png\"/>,\n",
       " <img alt=\"\" src=\"admin/img_prod/CA1/CA1-720x540.png\"/>,\n",
       " <img alt=\"\" src=\"admin/img_prod/REC1/REC1-1-720x540.png\"/>,\n",
       " <img alt=\"\" src=\"admin/img_prod/REC1/REC1-2-720x540.png\"/>,\n",
       " <img alt=\"\" src=\"admin/img_prod/REC1/REC1-720x540.png\"/>,\n",
       " <img alt=\"\" src=\"admin/img_prod/CARR1/CARR1-1-720x540.png\"/>,\n",
       " <img alt=\"\" src=\"admin/img_prod/CARR1/CARR1-720x540.png\"/>,\n",
       " <img alt=\"\" src=\"admin/img_prod/CSE1/CSE1-1-720x540.png\"/>,\n",
       " <img alt=\"\" src=\"admin/img_prod/CSE1/CSE1-720x540.png\"/>,\n",
       " <img alt=\"\" src=\"admin/img_prod/CTN1/CT1-720x540.png\"/>,\n",
       " <img alt=\"\" src=\"admin/img_prod/CTN1/CT1-720x540.png\"/>,\n",
       " <img alt=\"\" src=\"admin/img_prod/CH1/CH1-720x540.png\"/>,\n",
       " <img alt=\"\" src=\"admin/img_prod/CH1/CH1-720x540.png\"/>,\n",
       " <img alt=\"\" src=\"admin/img_prod/CO1/CO1-2-720x540.png\"/>,\n",
       " <img alt=\"\" src=\"admin/img_prod/CO1/CO1-3-720x540.png\"/>,\n",
       " <img alt=\"\" src=\"admin/img_prod/CO1/CO1-720x540.png\"/>,\n",
       " <img alt=\"\" src=\"admin/img_prod/COM1/COM1-1-720x540.png\"/>,\n",
       " <img alt=\"\" src=\"admin/img_prod/COM1/COM1-2-720x540.png\"/>,\n",
       " <img alt=\"\" src=\"admin/img_prod/COM1/COM1-720x540.png\"/>,\n",
       " <img alt=\"\" src=\"admin/img_prod/CON1/CON1-1-720x540.png\"/>,\n",
       " <img alt=\"\" src=\"admin/img_prod/CON1/CON1-2-720x540.png\"/>,\n",
       " <img alt=\"\" src=\"admin/img_prod/CON1/CON1-720x540.png\"/>,\n",
       " <img alt=\"\" src=\"admin/img_prod/COS1/COS01.bmp\"/>,\n",
       " <img alt=\"\" src=\"admin/img_prod/COS1/COS01.bmp\"/>,\n",
       " <img alt=\"\" src=\"admin/img_prod/CU1/CU1-720x540.png\"/>,\n",
       " <img alt=\"\" src=\"admin/img_prod/CU1/CU1-720x540.png\"/>,\n",
       " <img alt=\"\" src=\"admin/img_prod/ANU1/ANU1-720x540.png\"/>,\n",
       " <img alt=\"\" src=\"admin/img_prod/ANU1/ANU1-720x540.png\"/>,\n",
       " <img alt=\"\" src=\"admin/img_prod/ESP1/ESP1-720x540.png\"/>,\n",
       " <img alt=\"\" src=\"admin/img_prod/ESP1/ESP1-720x540.png\"/>,\n",
       " <img alt=\"\" src=\"admin/img_prod/ES1/LOGOTIPO VAZQUEZ- 720x540.png\"/>,\n",
       " <img alt=\"\" src=\"admin/img_prod/ES1/LOGOTIPO VAZQUEZ- 720x540.png\"/>,\n",
       " <img alt=\"\" src=\"admin/img_prod/EST1/EST1-720x540.png\"/>,\n",
       " <img alt=\"\" src=\"admin/img_prod/EST1/EST1-720x540.png\"/>,\n",
       " <img alt=\"\" src=\"admin/img_prod/ESTAT1/ESTAT1-1-720x540.png\"/>,\n",
       " <img alt=\"\" src=\"admin/img_prod/ESTAT1/ESTAT1-2-720x540.png\"/>,\n",
       " <img alt=\"\" src=\"admin/img_prod/ASP1/ASP1-720x540.png\"/>,\n",
       " <img alt=\"\" src=\"admin/img_prod/ASP1/ASP1-720x540.png\"/>,\n",
       " <img class=\"gallery-img\" id=\"modal-img\"/>,\n",
       " <img alt=\"\" class=\"footer-logo\" src=\"img/logo-dark.png\"/>,\n",
       " <img alt=\"Los Angeles\" src=\"img/about.jpg\"/>,\n",
       " <img alt=\"Chicago\" src=\"img/about.jpg\"/>,\n",
       " <img alt=\"New York\" src=\"img/about.jpg\"/>]"
      ]
     },
     "execution_count": 14,
     "metadata": {},
     "output_type": "execute_result"
    }
   ],
   "source": [
    "lista_imagen= sopa_atrezzo1.find_all(\"img\")\n",
    "lista_imagen"
   ]
  },
  {
   "cell_type": "code",
   "execution_count": 17,
   "metadata": {},
   "outputs": [
    {
     "data": {
      "text/plain": [
       "[<img alt=\"\" src=\"admin/img_prod/ALF1/ALF1-720x540.png\"/>,\n",
       " <img alt=\"\" src=\"admin/img_prod/ADO1/ADO1-720x540.png\"/>,\n",
       " <img alt=\"\" src=\"admin/img_prod/AFC1/AFC1-720x540.png\"/>,\n",
       " <img alt=\"\" src=\"admin/img_prod/AP1/AP1-720x540.png\"/>,\n",
       " <img alt=\"\" src=\"admin/img_prod/AST1/AST1-pie-720x540.png\"/>,\n",
       " <img alt=\"\" src=\"admin/img_prod/TOR1/TOR1-1-720x540.png\"/>,\n",
       " <img alt=\"\" src=\"admin/img_prod/ARC1/ARC1-1-720x540.png\"/>,\n",
       " <img alt=\"\" src=\"admin/img_prod/ARC1/ARC1-720x540.png\"/>,\n",
       " <img alt=\"\" src=\"admin/img_prod/AR1/AR1-720x540.png\"/>,\n",
       " <img alt=\"\" src=\"admin/img_prod/ARM1/ARM1-720x540.png\"/>,\n",
       " <img alt=\"\" src=\"admin/img_prod/ATD1/ATD1-2-720x540.png\"/>,\n",
       " <img alt=\"\" src=\"admin/img_prod/ATR1/ATR1-1-720x540.png\"/>,\n",
       " <img alt=\"\" src=\"admin/img_prod/BL1/BL1-1-720x540.png\"/>,\n",
       " <img alt=\"\" src=\"admin/img_prod/BAC1/BAC1-1-720x540.png\"/>,\n",
       " <img alt=\"\" src=\"admin/img_prod/BAN1/BAN1-1-720x540.png\"/>,\n",
       " <img alt=\"\" src=\"admin/img_prod/BAN1/BAN1-720x540.png\"/>,\n",
       " <img alt=\"\" src=\"admin/img_prod/M1/M1-720x540.png\"/>,\n",
       " <img alt=\"\" src=\"admin/img_prod/BA1/BA1-2-720x540.png\"/>,\n",
       " <img alt=\"\" src=\"admin/img_prod/BAR1/BAR1-1-720x540.png\"/>,\n",
       " <img alt=\"\" src=\"admin/img_prod/BAR1/BAR1-720x540.png\"/>,\n",
       " <img alt=\"\" src=\"admin/img_prod/BRL1/BRL1-720x540.png\"/>,\n",
       " <img alt=\"\" src=\"admin/img_prod/BAS1/BAS1-2-720x540.png\"/>,\n",
       " <img alt=\"\" src=\"admin/img_prod/BAU1/BAU1-1-720x540.png\"/>,\n",
       " <img alt=\"\" src=\"admin/img_prod/BAU1/BAU1-3-720x540.png\"/>,\n",
       " <img alt=\"\" src=\"admin/img_prod/BEB1/BEB1-720x540.png\"/>,\n",
       " <img alt=\"\" src=\"admin/img_prod/PER1/PER1-720x540.png\"/>,\n",
       " <img alt=\"\" src=\"admin/img_prod/ESC1/ESC1-720x540.png\"/>,\n",
       " <img alt=\"\" src=\"admin/img_prod/BIO1/BIO1-720x540.png\"/>,\n",
       " <img alt=\"\" src=\"admin/img_prod/BIS1/BIS1-2-720x540.png\"/>,\n",
       " <img alt=\"\" src=\"admin/img_prod/BRA1/BRA1-1-720x540.png\"/>,\n",
       " <img alt=\"\" src=\"admin/img_prod/BUT1/BUT1-1-720x540.png\"/>,\n",
       " <img alt=\"\" src=\"admin/img_prod/BUT1/BUT1-720x540.png\"/>,\n",
       " <img alt=\"\" src=\"admin/img_prod/CAB1/CAB1-720x540.png\"/>,\n",
       " <img alt=\"\" src=\"admin/img_prod/CAR1/CAR1-2-720x540.png\"/>,\n",
       " <img alt=\"\" src=\"admin/img_prod/CF1/CF1-720x540.png\"/>,\n",
       " <img alt=\"\" src=\"admin/img_prod/CAJ1/CAJ1-2-720x540.png\"/>,\n",
       " <img alt=\"\" src=\"admin/img_prod/CA1/CA1-720x540.png\"/>,\n",
       " <img alt=\"\" src=\"admin/img_prod/REC1/REC1-1-720x540.png\"/>,\n",
       " <img alt=\"\" src=\"admin/img_prod/REC1/REC1-720x540.png\"/>,\n",
       " <img alt=\"\" src=\"admin/img_prod/CARR1/CARR1-720x540.png\"/>,\n",
       " <img alt=\"\" src=\"admin/img_prod/CSE1/CSE1-720x540.png\"/>,\n",
       " <img alt=\"\" src=\"admin/img_prod/CTN1/CT1-720x540.png\"/>,\n",
       " <img alt=\"\" src=\"admin/img_prod/CH1/CH1-720x540.png\"/>,\n",
       " <img alt=\"\" src=\"admin/img_prod/CO1/CO1-3-720x540.png\"/>,\n",
       " <img alt=\"\" src=\"admin/img_prod/COM1/COM1-1-720x540.png\"/>,\n",
       " <img alt=\"\" src=\"admin/img_prod/COM1/COM1-720x540.png\"/>,\n",
       " <img alt=\"\" src=\"admin/img_prod/CON1/CON1-2-720x540.png\"/>,\n",
       " <img alt=\"\" src=\"admin/img_prod/COS1/COS01.bmp\"/>,\n",
       " <img alt=\"\" src=\"admin/img_prod/CU1/CU1-720x540.png\"/>,\n",
       " <img alt=\"\" src=\"admin/img_prod/ANU1/ANU1-720x540.png\"/>,\n",
       " <img alt=\"\" src=\"admin/img_prod/ESP1/ESP1-720x540.png\"/>,\n",
       " <img alt=\"\" src=\"admin/img_prod/ES1/LOGOTIPO VAZQUEZ- 720x540.png\"/>,\n",
       " <img alt=\"\" src=\"admin/img_prod/EST1/EST1-720x540.png\"/>,\n",
       " <img alt=\"\" src=\"admin/img_prod/ESTAT1/ESTAT1-1-720x540.png\"/>,\n",
       " <img alt=\"\" src=\"admin/img_prod/ASP1/ASP1-720x540.png\"/>]"
      ]
     },
     "execution_count": 17,
     "metadata": {},
     "output_type": "execute_result"
    }
   ],
   "source": [
    "\n",
    "lista_imagen= sopa_atrezzo1.find_all(\"img\")\n",
    "lista_imagen=lista_imagen[2:-5]\n",
    "lista_nueva= []\n",
    "for i in range(0, len(lista_imagen), 2):\n",
    "    lista_nueva.append(lista_imagen[i])\n",
    "lista_nueva"
   ]
  },
  {
   "cell_type": "code",
   "execution_count": 28,
   "metadata": {},
   "outputs": [
    {
     "data": {
      "text/plain": [
       "[]"
      ]
     },
     "execution_count": 28,
     "metadata": {},
     "output_type": "execute_result"
    }
   ],
   "source": [
    "lista_box= sopa_atrezzo1.find_all(\"div\", class_ = \"product-image\" )\n",
    "for box in lista_box:\n",
    "    lista_nueva= box.find(\"img\")\n",
    "    imagen_at = []\n",
    "    for imagen in lista_nueva:\n",
    "        imagen_at.append(imagen.get(\"src\")) \n",
    "\n",
    "\n",
    "imagen_at\n",
    "\n",
    "\n",
    "# df_img_atrezzo.drop( [0,1] ,axis= 0, inplace= True)    \n",
    "# df_img_atrezzo.drop( \"index\" ,axis= 1, inplace= True)\n",
    "# df_img_atrezzo.head().reset_index()\n"
   ]
  },
  {
   "cell_type": "code",
   "execution_count": 33,
   "metadata": {},
   "outputs": [
    {
     "name": "stdout",
     "output_type": "stream",
     "text": [
      "admin/img_prod/ALF1/ALF1-720x540.png\n",
      "admin/img_prod/ADO1/ADO1-720x540.png\n",
      "admin/img_prod/AFC1/AFC1-720x540.png\n",
      "admin/img_prod/AP1/AP1-720x540.png\n",
      "admin/img_prod/AST1/AST1-pie-720x540.png\n",
      "admin/img_prod/TOR1/TOR1-1-720x540.png\n",
      "admin/img_prod/ARC1/ARC1-1-720x540.png\n",
      "admin/img_prod/AR1/AR1-720x540.png\n",
      "admin/img_prod/ARM1/ARM1-1-720x540.png\n",
      "admin/img_prod/ATD1/ATD1-1-720x540.png\n",
      "admin/img_prod/ATR1/ATR1-1-720x540.png\n",
      "admin/img_prod/BL1/BL1-1-720x540.png\n",
      "admin/img_prod/BAC1/BAC1-1-720x540.png\n",
      "admin/img_prod/BAN1/BAN1-1-720x540.png\n",
      "admin/img_prod/M1/M1-1-720x540.png\n",
      "admin/img_prod/BA1/BA1-1-720x540.png\n",
      "admin/img_prod/BAR1/BAR1-1-720x540.png\n",
      "admin/img_prod/BRL1/BRL1-1-720x540.png\n",
      "admin/img_prod/BAS1/BAS1-1-720x540.png\n",
      "admin/img_prod/BAU1/BAU1-1-720x540.png\n",
      "admin/img_prod/BEB1/BEB1-720x540.png\n",
      "admin/img_prod/PER1/PER1-720x540.png\n",
      "admin/img_prod/ESC1/ESC1-720x540.png\n",
      "admin/img_prod/BIO1/BIO1-1-720x540.png\n",
      "admin/img_prod/BIS1/BIS1-1-720x540.png\n",
      "admin/img_prod/BRA1/BRA1-1-720x540.png\n",
      "admin/img_prod/BUT1/BUT1-1-720x540.png\n",
      "admin/img_prod/CAB1/CAB1-1-720x540.png\n",
      "admin/img_prod/CAR1/CAR1-1-720x540.png\n",
      "admin/img_prod/CF1/CF1-720x540.png\n",
      "admin/img_prod/CAJ1/CAJ1-1-720x540.png\n",
      "admin/img_prod/CA1/CA1-720x540.png\n",
      "admin/img_prod/REC1/REC1-1-720x540.png\n",
      "admin/img_prod/CARR1/CARR1-1-720x540.png\n",
      "admin/img_prod/CSE1/CSE1-1-720x540.png\n",
      "admin/img_prod/CTN1/CT1-720x540.png\n",
      "admin/img_prod/CH1/CH1-720x540.png\n",
      "admin/img_prod/CO1/CO1-2-720x540.png\n",
      "admin/img_prod/COM1/COM1-1-720x540.png\n",
      "admin/img_prod/CON1/CON1-1-720x540.png\n",
      "admin/img_prod/COS1/COS01.bmp\n",
      "admin/img_prod/CU1/CU1-720x540.png\n",
      "admin/img_prod/ANU1/ANU1-720x540.png\n",
      "admin/img_prod/ESP1/ESP1-720x540.png\n",
      "admin/img_prod/ES1/LOGOTIPO VAZQUEZ- 720x540.png\n",
      "admin/img_prod/EST1/EST1-720x540.png\n",
      "admin/img_prod/ESTAT1/ESTAT1-1-720x540.png\n",
      "admin/img_prod/ASP1/ASP1-720x540.png\n"
     ]
    }
   ],
   "source": [
    "lista_box= sopa_atrezzo1.find_all(\"div\", class_ = \"product-image\" )\n",
    "for imegen in lista_box:\n",
    "    print(imegen.find(\"img\").get(\"src\"))"
   ]
  },
  {
   "cell_type": "code",
   "execution_count": 41,
   "metadata": {},
   "outputs": [
    {
     "data": {
      "text/html": [
       "<div>\n",
       "<style scoped>\n",
       "    .dataframe tbody tr th:only-of-type {\n",
       "        vertical-align: middle;\n",
       "    }\n",
       "\n",
       "    .dataframe tbody tr th {\n",
       "        vertical-align: top;\n",
       "    }\n",
       "\n",
       "    .dataframe thead th {\n",
       "        text-align: right;\n",
       "    }\n",
       "</style>\n",
       "<table border=\"1\" class=\"dataframe\">\n",
       "  <thead>\n",
       "    <tr style=\"text-align: right;\">\n",
       "      <th></th>\n",
       "      <th>imagen</th>\n",
       "      <th>nombre</th>\n",
       "    </tr>\n",
       "  </thead>\n",
       "  <tbody>\n",
       "    <tr>\n",
       "      <th>0</th>\n",
       "      <td>admin/img_prod/ALF1/ALF1-720x540.png</td>\n",
       "      <td>ALF1</td>\n",
       "    </tr>\n",
       "    <tr>\n",
       "      <th>1</th>\n",
       "      <td>admin/img_prod/ADO1/ADO1-720x540.png</td>\n",
       "      <td>ADO1</td>\n",
       "    </tr>\n",
       "    <tr>\n",
       "      <th>2</th>\n",
       "      <td>admin/img_prod/AFC1/AFC1-720x540.png</td>\n",
       "      <td>AFC1</td>\n",
       "    </tr>\n",
       "    <tr>\n",
       "      <th>3</th>\n",
       "      <td>admin/img_prod/AP1/AP1-720x540.png</td>\n",
       "      <td>AP1</td>\n",
       "    </tr>\n",
       "    <tr>\n",
       "      <th>4</th>\n",
       "      <td>admin/img_prod/AST1/AST1-pie-720x540.png</td>\n",
       "      <td>AST1</td>\n",
       "    </tr>\n",
       "    <tr>\n",
       "      <th>5</th>\n",
       "      <td>admin/img_prod/TOR1/TOR1-1-720x540.png</td>\n",
       "      <td>TOR1</td>\n",
       "    </tr>\n",
       "    <tr>\n",
       "      <th>6</th>\n",
       "      <td>admin/img_prod/ARC1/ARC1-1-720x540.png</td>\n",
       "      <td>ARC1</td>\n",
       "    </tr>\n",
       "    <tr>\n",
       "      <th>7</th>\n",
       "      <td>admin/img_prod/AR1/AR1-720x540.png</td>\n",
       "      <td>AR1</td>\n",
       "    </tr>\n",
       "    <tr>\n",
       "      <th>8</th>\n",
       "      <td>admin/img_prod/ARM1/ARM1-1-720x540.png</td>\n",
       "      <td>ARM1</td>\n",
       "    </tr>\n",
       "    <tr>\n",
       "      <th>9</th>\n",
       "      <td>admin/img_prod/ATD1/ATD1-1-720x540.png</td>\n",
       "      <td>ATD1</td>\n",
       "    </tr>\n",
       "    <tr>\n",
       "      <th>10</th>\n",
       "      <td>admin/img_prod/ATR1/ATR1-1-720x540.png</td>\n",
       "      <td>ATR1</td>\n",
       "    </tr>\n",
       "    <tr>\n",
       "      <th>11</th>\n",
       "      <td>admin/img_prod/BL1/BL1-1-720x540.png</td>\n",
       "      <td>BL1</td>\n",
       "    </tr>\n",
       "    <tr>\n",
       "      <th>12</th>\n",
       "      <td>admin/img_prod/BAC1/BAC1-1-720x540.png</td>\n",
       "      <td>BAC1</td>\n",
       "    </tr>\n",
       "    <tr>\n",
       "      <th>13</th>\n",
       "      <td>admin/img_prod/BAN1/BAN1-1-720x540.png</td>\n",
       "      <td>BAN1</td>\n",
       "    </tr>\n",
       "    <tr>\n",
       "      <th>14</th>\n",
       "      <td>admin/img_prod/M1/M1-1-720x540.png</td>\n",
       "      <td>M1</td>\n",
       "    </tr>\n",
       "    <tr>\n",
       "      <th>15</th>\n",
       "      <td>admin/img_prod/BA1/BA1-1-720x540.png</td>\n",
       "      <td>BA1</td>\n",
       "    </tr>\n",
       "    <tr>\n",
       "      <th>16</th>\n",
       "      <td>admin/img_prod/BAR1/BAR1-1-720x540.png</td>\n",
       "      <td>BAR1</td>\n",
       "    </tr>\n",
       "    <tr>\n",
       "      <th>17</th>\n",
       "      <td>admin/img_prod/BRL1/BRL1-1-720x540.png</td>\n",
       "      <td>BRL1</td>\n",
       "    </tr>\n",
       "    <tr>\n",
       "      <th>18</th>\n",
       "      <td>admin/img_prod/BAS1/BAS1-1-720x540.png</td>\n",
       "      <td>BAS1</td>\n",
       "    </tr>\n",
       "    <tr>\n",
       "      <th>19</th>\n",
       "      <td>admin/img_prod/BAU1/BAU1-1-720x540.png</td>\n",
       "      <td>BAU1</td>\n",
       "    </tr>\n",
       "    <tr>\n",
       "      <th>20</th>\n",
       "      <td>admin/img_prod/BEB1/BEB1-720x540.png</td>\n",
       "      <td>BEB1</td>\n",
       "    </tr>\n",
       "    <tr>\n",
       "      <th>21</th>\n",
       "      <td>admin/img_prod/PER1/PER1-720x540.png</td>\n",
       "      <td>PER1</td>\n",
       "    </tr>\n",
       "    <tr>\n",
       "      <th>22</th>\n",
       "      <td>admin/img_prod/ESC1/ESC1-720x540.png</td>\n",
       "      <td>ESC1</td>\n",
       "    </tr>\n",
       "    <tr>\n",
       "      <th>23</th>\n",
       "      <td>admin/img_prod/BIO1/BIO1-1-720x540.png</td>\n",
       "      <td>BIO1</td>\n",
       "    </tr>\n",
       "    <tr>\n",
       "      <th>24</th>\n",
       "      <td>admin/img_prod/BIS1/BIS1-1-720x540.png</td>\n",
       "      <td>BIS1</td>\n",
       "    </tr>\n",
       "    <tr>\n",
       "      <th>25</th>\n",
       "      <td>admin/img_prod/BRA1/BRA1-1-720x540.png</td>\n",
       "      <td>BRA1</td>\n",
       "    </tr>\n",
       "    <tr>\n",
       "      <th>26</th>\n",
       "      <td>admin/img_prod/BUT1/BUT1-1-720x540.png</td>\n",
       "      <td>BUT1</td>\n",
       "    </tr>\n",
       "    <tr>\n",
       "      <th>27</th>\n",
       "      <td>admin/img_prod/CAB1/CAB1-1-720x540.png</td>\n",
       "      <td>CAB1</td>\n",
       "    </tr>\n",
       "    <tr>\n",
       "      <th>28</th>\n",
       "      <td>admin/img_prod/CAR1/CAR1-1-720x540.png</td>\n",
       "      <td>CAR1</td>\n",
       "    </tr>\n",
       "    <tr>\n",
       "      <th>29</th>\n",
       "      <td>admin/img_prod/CF1/CF1-720x540.png</td>\n",
       "      <td>CF1</td>\n",
       "    </tr>\n",
       "    <tr>\n",
       "      <th>30</th>\n",
       "      <td>admin/img_prod/CAJ1/CAJ1-1-720x540.png</td>\n",
       "      <td>CAJ1</td>\n",
       "    </tr>\n",
       "    <tr>\n",
       "      <th>31</th>\n",
       "      <td>admin/img_prod/CA1/CA1-720x540.png</td>\n",
       "      <td>CA1</td>\n",
       "    </tr>\n",
       "    <tr>\n",
       "      <th>32</th>\n",
       "      <td>admin/img_prod/REC1/REC1-1-720x540.png</td>\n",
       "      <td>REC1</td>\n",
       "    </tr>\n",
       "    <tr>\n",
       "      <th>33</th>\n",
       "      <td>admin/img_prod/CARR1/CARR1-1-720x540.png</td>\n",
       "      <td>CARR1</td>\n",
       "    </tr>\n",
       "    <tr>\n",
       "      <th>34</th>\n",
       "      <td>admin/img_prod/CSE1/CSE1-1-720x540.png</td>\n",
       "      <td>CSE1</td>\n",
       "    </tr>\n",
       "    <tr>\n",
       "      <th>35</th>\n",
       "      <td>admin/img_prod/CTN1/CT1-720x540.png</td>\n",
       "      <td>CTN1</td>\n",
       "    </tr>\n",
       "    <tr>\n",
       "      <th>36</th>\n",
       "      <td>admin/img_prod/CH1/CH1-720x540.png</td>\n",
       "      <td>CH1</td>\n",
       "    </tr>\n",
       "    <tr>\n",
       "      <th>37</th>\n",
       "      <td>admin/img_prod/CO1/CO1-2-720x540.png</td>\n",
       "      <td>CO1</td>\n",
       "    </tr>\n",
       "    <tr>\n",
       "      <th>38</th>\n",
       "      <td>admin/img_prod/COM1/COM1-1-720x540.png</td>\n",
       "      <td>COM1</td>\n",
       "    </tr>\n",
       "    <tr>\n",
       "      <th>39</th>\n",
       "      <td>admin/img_prod/CON1/CON1-1-720x540.png</td>\n",
       "      <td>CON1</td>\n",
       "    </tr>\n",
       "    <tr>\n",
       "      <th>40</th>\n",
       "      <td>admin/img_prod/COS1/COS01.bmp</td>\n",
       "      <td>COS1</td>\n",
       "    </tr>\n",
       "    <tr>\n",
       "      <th>41</th>\n",
       "      <td>admin/img_prod/CU1/CU1-720x540.png</td>\n",
       "      <td>CU1</td>\n",
       "    </tr>\n",
       "    <tr>\n",
       "      <th>42</th>\n",
       "      <td>admin/img_prod/ANU1/ANU1-720x540.png</td>\n",
       "      <td>ANU1</td>\n",
       "    </tr>\n",
       "    <tr>\n",
       "      <th>43</th>\n",
       "      <td>admin/img_prod/ESP1/ESP1-720x540.png</td>\n",
       "      <td>ESP1</td>\n",
       "    </tr>\n",
       "    <tr>\n",
       "      <th>44</th>\n",
       "      <td>admin/img_prod/ES1/LOGOTIPO VAZQUEZ- 720x540.png</td>\n",
       "      <td>ES1</td>\n",
       "    </tr>\n",
       "    <tr>\n",
       "      <th>45</th>\n",
       "      <td>admin/img_prod/EST1/EST1-720x540.png</td>\n",
       "      <td>EST1</td>\n",
       "    </tr>\n",
       "    <tr>\n",
       "      <th>46</th>\n",
       "      <td>admin/img_prod/ESTAT1/ESTAT1-1-720x540.png</td>\n",
       "      <td>ESTAT1</td>\n",
       "    </tr>\n",
       "    <tr>\n",
       "      <th>47</th>\n",
       "      <td>admin/img_prod/ASP1/ASP1-720x540.png</td>\n",
       "      <td>ASP1</td>\n",
       "    </tr>\n",
       "  </tbody>\n",
       "</table>\n",
       "</div>"
      ],
      "text/plain": [
       "                                              imagen  nombre\n",
       "0               admin/img_prod/ALF1/ALF1-720x540.png    ALF1\n",
       "1               admin/img_prod/ADO1/ADO1-720x540.png    ADO1\n",
       "2               admin/img_prod/AFC1/AFC1-720x540.png    AFC1\n",
       "3                 admin/img_prod/AP1/AP1-720x540.png     AP1\n",
       "4           admin/img_prod/AST1/AST1-pie-720x540.png    AST1\n",
       "5             admin/img_prod/TOR1/TOR1-1-720x540.png    TOR1\n",
       "6             admin/img_prod/ARC1/ARC1-1-720x540.png    ARC1\n",
       "7                 admin/img_prod/AR1/AR1-720x540.png     AR1\n",
       "8             admin/img_prod/ARM1/ARM1-1-720x540.png    ARM1\n",
       "9             admin/img_prod/ATD1/ATD1-1-720x540.png    ATD1\n",
       "10            admin/img_prod/ATR1/ATR1-1-720x540.png    ATR1\n",
       "11              admin/img_prod/BL1/BL1-1-720x540.png     BL1\n",
       "12            admin/img_prod/BAC1/BAC1-1-720x540.png    BAC1\n",
       "13            admin/img_prod/BAN1/BAN1-1-720x540.png    BAN1\n",
       "14                admin/img_prod/M1/M1-1-720x540.png      M1\n",
       "15              admin/img_prod/BA1/BA1-1-720x540.png     BA1\n",
       "16            admin/img_prod/BAR1/BAR1-1-720x540.png    BAR1\n",
       "17            admin/img_prod/BRL1/BRL1-1-720x540.png    BRL1\n",
       "18            admin/img_prod/BAS1/BAS1-1-720x540.png    BAS1\n",
       "19            admin/img_prod/BAU1/BAU1-1-720x540.png    BAU1\n",
       "20              admin/img_prod/BEB1/BEB1-720x540.png    BEB1\n",
       "21              admin/img_prod/PER1/PER1-720x540.png    PER1\n",
       "22              admin/img_prod/ESC1/ESC1-720x540.png    ESC1\n",
       "23            admin/img_prod/BIO1/BIO1-1-720x540.png    BIO1\n",
       "24            admin/img_prod/BIS1/BIS1-1-720x540.png    BIS1\n",
       "25            admin/img_prod/BRA1/BRA1-1-720x540.png    BRA1\n",
       "26            admin/img_prod/BUT1/BUT1-1-720x540.png    BUT1\n",
       "27            admin/img_prod/CAB1/CAB1-1-720x540.png    CAB1\n",
       "28            admin/img_prod/CAR1/CAR1-1-720x540.png    CAR1\n",
       "29                admin/img_prod/CF1/CF1-720x540.png     CF1\n",
       "30            admin/img_prod/CAJ1/CAJ1-1-720x540.png    CAJ1\n",
       "31                admin/img_prod/CA1/CA1-720x540.png     CA1\n",
       "32            admin/img_prod/REC1/REC1-1-720x540.png    REC1\n",
       "33          admin/img_prod/CARR1/CARR1-1-720x540.png   CARR1\n",
       "34            admin/img_prod/CSE1/CSE1-1-720x540.png    CSE1\n",
       "35               admin/img_prod/CTN1/CT1-720x540.png    CTN1\n",
       "36                admin/img_prod/CH1/CH1-720x540.png     CH1\n",
       "37              admin/img_prod/CO1/CO1-2-720x540.png     CO1\n",
       "38            admin/img_prod/COM1/COM1-1-720x540.png    COM1\n",
       "39            admin/img_prod/CON1/CON1-1-720x540.png    CON1\n",
       "40                     admin/img_prod/COS1/COS01.bmp    COS1\n",
       "41                admin/img_prod/CU1/CU1-720x540.png     CU1\n",
       "42              admin/img_prod/ANU1/ANU1-720x540.png    ANU1\n",
       "43              admin/img_prod/ESP1/ESP1-720x540.png    ESP1\n",
       "44  admin/img_prod/ES1/LOGOTIPO VAZQUEZ- 720x540.png     ES1\n",
       "45              admin/img_prod/EST1/EST1-720x540.png    EST1\n",
       "46        admin/img_prod/ESTAT1/ESTAT1-1-720x540.png  ESTAT1\n",
       "47              admin/img_prod/ASP1/ASP1-720x540.png    ASP1"
      ]
     },
     "execution_count": 41,
     "metadata": {},
     "output_type": "execute_result"
    }
   ],
   "source": [
    "lista_box= sopa_atrezzo1.find_all(\"div\", class_ = \"product-image\" )\n",
    "list_imagenes = [imegen.find(\"img\").get(\"src\") for imegen in lista_box]\n",
    "df_de_cosas = pd.DataFrame(list_imagenes,columns = [\"imagen\"])\n",
    "df_de_cosas[\"nombre\"] = df_de_cosas[\"imagen\"].apply(lambda x: x.split(\"/\")[2])\n",
    "df_de_cosas"
   ]
  },
  {
   "cell_type": "code",
   "execution_count": 8,
   "metadata": {},
   "outputs": [
    {
     "data": {
      "text/html": [
       "<div>\n",
       "<style scoped>\n",
       "    .dataframe tbody tr th:only-of-type {\n",
       "        vertical-align: middle;\n",
       "    }\n",
       "\n",
       "    .dataframe tbody tr th {\n",
       "        vertical-align: top;\n",
       "    }\n",
       "\n",
       "    .dataframe thead th {\n",
       "        text-align: right;\n",
       "    }\n",
       "</style>\n",
       "<table border=\"1\" class=\"dataframe\">\n",
       "  <thead>\n",
       "    <tr style=\"text-align: right;\">\n",
       "      <th></th>\n",
       "      <th>imagen_atrezzo</th>\n",
       "    </tr>\n",
       "  </thead>\n",
       "  <tbody>\n",
       "    <tr>\n",
       "      <th>0</th>\n",
       "      <td>None</td>\n",
       "    </tr>\n",
       "    <tr>\n",
       "      <th>1</th>\n",
       "      <td>None</td>\n",
       "    </tr>\n",
       "    <tr>\n",
       "      <th>2</th>\n",
       "      <td>None</td>\n",
       "    </tr>\n",
       "    <tr>\n",
       "      <th>3</th>\n",
       "      <td>None</td>\n",
       "    </tr>\n",
       "    <tr>\n",
       "      <th>4</th>\n",
       "      <td>None</td>\n",
       "    </tr>\n",
       "  </tbody>\n",
       "</table>\n",
       "</div>"
      ],
      "text/plain": [
       "  imagen_atrezzo\n",
       "0           None\n",
       "1           None\n",
       "2           None\n",
       "3           None\n",
       "4           None"
      ]
     },
     "execution_count": 8,
     "metadata": {},
     "output_type": "execute_result"
    }
   ],
   "source": [
    "lista_imagen= sopa_atrezzo1.find_all(\"div\", {\"class\": \"product-image\"}) \n",
    "imagen_at=[imagen.get(\"src\") for imagen in lista_imagen]\n",
    "df_img_at= pd.DataFrame(imagen_at)\n",
    "df_img_at.drop(columns= 0, inplace= True)\n",
    "df_img_atrezzo= df_img_at.copy()\n",
    "df_img_atrezzo[\"imagen_atrezzo\"]= imagen_at\n",
    "# df_img_atrezzo = df_img_atrezzo.applymap(lambda x: x.replace(\"\\n\",\"\").replace(\"(cm)\",\"\"))\n",
    "df_img_atrezzo.head()\n",
    "\n"
   ]
  },
  {
   "cell_type": "markdown",
   "metadata": {},
   "source": [
    "Nombre todo junto"
   ]
  },
  {
   "cell_type": "code",
   "execution_count": 54,
   "metadata": {},
   "outputs": [
    {
     "data": {
      "text/plain": [
       "(48, 1)"
      ]
     },
     "execution_count": 54,
     "metadata": {},
     "output_type": "execute_result"
    }
   ],
   "source": [
    "lista_nombre_at= sopa_atrezzo1.find_all(\"a\", {\"class\": \"title\"})\n",
    "\n",
    "nombre_at=[nombre.getText() for nombre in lista_nombre_at]\n",
    "\n",
    "df_nombre_at= pd.DataFrame(nombre_at)\n",
    "\n",
    "df_nombre_at.drop(columns= 0, inplace=True)\n",
    "\n",
    "df_nombre_atrezzo= df_nombre_at.copy()\n",
    "\n",
    "df_nombre_atrezzo[\"nombre_atrezzo\"]= nombre_at\n",
    "df_nombre_atrezzo.shape"
   ]
  },
  {
   "cell_type": "markdown",
   "metadata": {},
   "source": [
    "categoria todo junto"
   ]
  },
  {
   "cell_type": "code",
   "execution_count": 55,
   "metadata": {},
   "outputs": [
    {
     "name": "stderr",
     "output_type": "stream",
     "text": [
      "C:\\Users\\jaime\\AppData\\Local\\Temp\\ipykernel_2812\\3621295832.py:7: FutureWarning: DataFrame.applymap has been deprecated. Use DataFrame.map instead.\n",
      "  df_cat_atrezzo = df_cat_atrezzo.applymap(lambda x: x.replace(\"\\n\",\"\"))\n"
     ]
    },
    {
     "data": {
      "text/plain": [
       "(47, 1)"
      ]
     },
     "execution_count": 55,
     "metadata": {},
     "output_type": "execute_result"
    }
   ],
   "source": [
    "lista_categoria= sopa_atrezzo1.find_all(\"a\", {\"class\": \"tag\"})\n",
    "categoria_at=[categoria.getText() for categoria in lista_categoria]\n",
    "df_cat_at= pd.DataFrame(categoria_at)\n",
    "df_cat_at.drop(columns= 0, inplace= True)\n",
    "df_cat_atrezzo= df_cat_at.copy()\n",
    "df_cat_atrezzo[\"categoria_atrezzo\"]= categoria_at\n",
    "df_cat_atrezzo = df_cat_atrezzo.applymap(lambda x: x.replace(\"\\n\",\"\"))\n",
    "df_cat_atrezzo.shape"
   ]
  },
  {
   "cell_type": "code",
   "execution_count": 58,
   "metadata": {},
   "outputs": [
    {
     "data": {
      "text/html": [
       "<div>\n",
       "<style scoped>\n",
       "    .dataframe tbody tr th:only-of-type {\n",
       "        vertical-align: middle;\n",
       "    }\n",
       "\n",
       "    .dataframe tbody tr th {\n",
       "        vertical-align: top;\n",
       "    }\n",
       "\n",
       "    .dataframe thead th {\n",
       "        text-align: right;\n",
       "    }\n",
       "</style>\n",
       "<table border=\"1\" class=\"dataframe\">\n",
       "  <thead>\n",
       "    <tr style=\"text-align: right;\">\n",
       "      <th></th>\n",
       "      <th>categoria_atrezzo</th>\n",
       "      <th>nombre_atrezzo</th>\n",
       "    </tr>\n",
       "  </thead>\n",
       "  <tbody>\n",
       "    <tr>\n",
       "      <th>0</th>\n",
       "      <td>Alfombra</td>\n",
       "      <td>ALF1</td>\n",
       "    </tr>\n",
       "    <tr>\n",
       "      <th>1</th>\n",
       "      <td>Adornos</td>\n",
       "      <td>ADO1</td>\n",
       "    </tr>\n",
       "    <tr>\n",
       "      <th>2</th>\n",
       "      <td>Alfombra de cama</td>\n",
       "      <td>AFC1</td>\n",
       "    </tr>\n",
       "    <tr>\n",
       "      <th>3</th>\n",
       "      <td>Aparador</td>\n",
       "      <td>AP1</td>\n",
       "    </tr>\n",
       "    <tr>\n",
       "      <th>4</th>\n",
       "      <td>Atrezzo astronomia</td>\n",
       "      <td>AST1</td>\n",
       "    </tr>\n",
       "    <tr>\n",
       "      <th>5</th>\n",
       "      <td>Tortura</td>\n",
       "      <td>TOR1</td>\n",
       "    </tr>\n",
       "    <tr>\n",
       "      <th>6</th>\n",
       "      <td>Arcon</td>\n",
       "      <td>ARC1</td>\n",
       "    </tr>\n",
       "    <tr>\n",
       "      <th>7</th>\n",
       "      <td>Armario</td>\n",
       "      <td>AR1</td>\n",
       "    </tr>\n",
       "    <tr>\n",
       "      <th>8</th>\n",
       "      <td>Armero</td>\n",
       "      <td>ARM1</td>\n",
       "    </tr>\n",
       "    <tr>\n",
       "      <th>9</th>\n",
       "      <td>Ataud</td>\n",
       "      <td>ATD1</td>\n",
       "    </tr>\n",
       "    <tr>\n",
       "      <th>10</th>\n",
       "      <td>Atril</td>\n",
       "      <td>ATR1</td>\n",
       "    </tr>\n",
       "    <tr>\n",
       "      <th>11</th>\n",
       "      <td>Balancin</td>\n",
       "      <td>BL1</td>\n",
       "    </tr>\n",
       "    <tr>\n",
       "      <th>12</th>\n",
       "      <td>Banco</td>\n",
       "      <td>BAC1</td>\n",
       "    </tr>\n",
       "    <tr>\n",
       "      <th>13</th>\n",
       "      <td>Banqueta</td>\n",
       "      <td>BAN1</td>\n",
       "    </tr>\n",
       "    <tr>\n",
       "      <th>14</th>\n",
       "      <td>Mesa</td>\n",
       "      <td>M1</td>\n",
       "    </tr>\n",
       "    <tr>\n",
       "      <th>15</th>\n",
       "      <td>Baño</td>\n",
       "      <td>BA1</td>\n",
       "    </tr>\n",
       "    <tr>\n",
       "      <th>16</th>\n",
       "      <td>Bargueño</td>\n",
       "      <td>BAR1</td>\n",
       "    </tr>\n",
       "    <tr>\n",
       "      <th>17</th>\n",
       "      <td>Barril</td>\n",
       "      <td>BRL1</td>\n",
       "    </tr>\n",
       "    <tr>\n",
       "      <th>18</th>\n",
       "      <td>Bascula</td>\n",
       "      <td>BAS1</td>\n",
       "    </tr>\n",
       "    <tr>\n",
       "      <th>19</th>\n",
       "      <td>Baul</td>\n",
       "      <td>BAU1</td>\n",
       "    </tr>\n",
       "    <tr>\n",
       "      <th>20</th>\n",
       "      <td>Bebé</td>\n",
       "      <td>BEB1</td>\n",
       "    </tr>\n",
       "    <tr>\n",
       "      <th>21</th>\n",
       "      <td>Perchero</td>\n",
       "      <td>PER1</td>\n",
       "    </tr>\n",
       "    <tr>\n",
       "      <th>22</th>\n",
       "      <td>Escaleras</td>\n",
       "      <td>ESC1</td>\n",
       "    </tr>\n",
       "    <tr>\n",
       "      <th>23</th>\n",
       "      <td>Biombo</td>\n",
       "      <td>BIO1</td>\n",
       "    </tr>\n",
       "    <tr>\n",
       "      <th>24</th>\n",
       "      <td>Bis a bis</td>\n",
       "      <td>BIS1</td>\n",
       "    </tr>\n",
       "    <tr>\n",
       "      <th>25</th>\n",
       "      <td>Brasero</td>\n",
       "      <td>BRA1</td>\n",
       "    </tr>\n",
       "    <tr>\n",
       "      <th>26</th>\n",
       "      <td>Butaca de cine</td>\n",
       "      <td>BUT1</td>\n",
       "    </tr>\n",
       "    <tr>\n",
       "      <th>27</th>\n",
       "      <td>Caballete</td>\n",
       "      <td>CAB1</td>\n",
       "    </tr>\n",
       "    <tr>\n",
       "      <th>28</th>\n",
       "      <td>Caja registradora</td>\n",
       "      <td>CAR1</td>\n",
       "    </tr>\n",
       "    <tr>\n",
       "      <th>29</th>\n",
       "      <td>Caja fuerte</td>\n",
       "      <td>CF1</td>\n",
       "    </tr>\n",
       "    <tr>\n",
       "      <th>30</th>\n",
       "      <td>Caja</td>\n",
       "      <td>CAJ1</td>\n",
       "    </tr>\n",
       "    <tr>\n",
       "      <th>31</th>\n",
       "      <td>Cama</td>\n",
       "      <td>CA1</td>\n",
       "    </tr>\n",
       "    <tr>\n",
       "      <th>32</th>\n",
       "      <td>Reclinatorio</td>\n",
       "      <td>REC1</td>\n",
       "    </tr>\n",
       "    <tr>\n",
       "      <th>33</th>\n",
       "      <td>Carretilla</td>\n",
       "      <td>CARR1</td>\n",
       "    </tr>\n",
       "    <tr>\n",
       "      <th>34</th>\n",
       "      <td>Carro de servicio</td>\n",
       "      <td>CSE1</td>\n",
       "    </tr>\n",
       "    <tr>\n",
       "      <th>35</th>\n",
       "      <td>Catenaria</td>\n",
       "      <td>CTN1</td>\n",
       "    </tr>\n",
       "    <tr>\n",
       "      <th>36</th>\n",
       "      <td>Chaiselongue</td>\n",
       "      <td>CH1</td>\n",
       "    </tr>\n",
       "    <tr>\n",
       "      <th>37</th>\n",
       "      <td>Cocinas</td>\n",
       "      <td>CO1</td>\n",
       "    </tr>\n",
       "    <tr>\n",
       "      <th>38</th>\n",
       "      <td>Comoda</td>\n",
       "      <td>COM1</td>\n",
       "    </tr>\n",
       "    <tr>\n",
       "      <th>39</th>\n",
       "      <td>Consola</td>\n",
       "      <td>CON1</td>\n",
       "    </tr>\n",
       "    <tr>\n",
       "      <th>40</th>\n",
       "      <td>Cuadro</td>\n",
       "      <td>COS1</td>\n",
       "    </tr>\n",
       "    <tr>\n",
       "      <th>41</th>\n",
       "      <td>Carteles y anuncios</td>\n",
       "      <td>CU1</td>\n",
       "    </tr>\n",
       "    <tr>\n",
       "      <th>42</th>\n",
       "      <td>Espejo</td>\n",
       "      <td>ANU1</td>\n",
       "    </tr>\n",
       "    <tr>\n",
       "      <th>43</th>\n",
       "      <td>Estanteria</td>\n",
       "      <td>ESP1</td>\n",
       "    </tr>\n",
       "    <tr>\n",
       "      <th>44</th>\n",
       "      <td>Estufa</td>\n",
       "      <td>ES1</td>\n",
       "    </tr>\n",
       "    <tr>\n",
       "      <th>45</th>\n",
       "      <td>Estatua</td>\n",
       "      <td>EST1</td>\n",
       "    </tr>\n",
       "    <tr>\n",
       "      <th>46</th>\n",
       "      <td>Aspiradoras</td>\n",
       "      <td>ESTAT1</td>\n",
       "    </tr>\n",
       "    <tr>\n",
       "      <th>47</th>\n",
       "      <td>NaN</td>\n",
       "      <td>ASP1</td>\n",
       "    </tr>\n",
       "  </tbody>\n",
       "</table>\n",
       "</div>"
      ],
      "text/plain": [
       "      categoria_atrezzo nombre_atrezzo\n",
       "0              Alfombra           ALF1\n",
       "1               Adornos           ADO1\n",
       "2      Alfombra de cama           AFC1\n",
       "3              Aparador            AP1\n",
       "4    Atrezzo astronomia           AST1\n",
       "5               Tortura           TOR1\n",
       "6                 Arcon           ARC1\n",
       "7               Armario            AR1\n",
       "8                Armero           ARM1\n",
       "9                 Ataud           ATD1\n",
       "10                Atril           ATR1\n",
       "11             Balancin            BL1\n",
       "12                Banco           BAC1\n",
       "13             Banqueta           BAN1\n",
       "14                 Mesa             M1\n",
       "15                 Baño            BA1\n",
       "16             Bargueño           BAR1\n",
       "17               Barril           BRL1\n",
       "18              Bascula           BAS1\n",
       "19                 Baul           BAU1\n",
       "20                 Bebé           BEB1\n",
       "21             Perchero           PER1\n",
       "22            Escaleras           ESC1\n",
       "23               Biombo           BIO1\n",
       "24            Bis a bis           BIS1\n",
       "25              Brasero           BRA1\n",
       "26       Butaca de cine           BUT1\n",
       "27            Caballete           CAB1\n",
       "28    Caja registradora           CAR1\n",
       "29          Caja fuerte            CF1\n",
       "30                 Caja           CAJ1\n",
       "31                 Cama            CA1\n",
       "32         Reclinatorio           REC1\n",
       "33           Carretilla          CARR1\n",
       "34    Carro de servicio           CSE1\n",
       "35            Catenaria           CTN1\n",
       "36         Chaiselongue            CH1\n",
       "37              Cocinas            CO1\n",
       "38               Comoda           COM1\n",
       "39              Consola           CON1\n",
       "40               Cuadro           COS1\n",
       "41  Carteles y anuncios            CU1\n",
       "42               Espejo           ANU1\n",
       "43           Estanteria           ESP1\n",
       "44               Estufa            ES1\n",
       "45              Estatua           EST1\n",
       "46          Aspiradoras         ESTAT1\n",
       "47                  NaN           ASP1"
      ]
     },
     "execution_count": 58,
     "metadata": {},
     "output_type": "execute_result"
    }
   ],
   "source": [
    "df_cat_atrezzoq=pd.concat([df_cat_atrezzo,df_nombre_atrezzo], axis= 1)\n",
    "df_cat_atrezzoq"
   ]
  },
  {
   "cell_type": "markdown",
   "metadata": {},
   "source": [
    "Sección todo junto"
   ]
  },
  {
   "cell_type": "code",
   "execution_count": 51,
   "metadata": {},
   "outputs": [
    {
     "name": "stderr",
     "output_type": "stream",
     "text": [
      "C:\\Users\\jaime\\AppData\\Local\\Temp\\ipykernel_2812\\1494277671.py:7: FutureWarning: DataFrame.applymap has been deprecated. Use DataFrame.map instead.\n",
      "  df_sec_atrezzo = df_sec_atrezzo.applymap(lambda x: x.replace(\"\\n\",\"\"))\n"
     ]
    },
    {
     "data": {
      "text/plain": [
       "(48, 1)"
      ]
     },
     "execution_count": 51,
     "metadata": {},
     "output_type": "execute_result"
    }
   ],
   "source": [
    "lista_seccion= sopa_atrezzo1.find_all(\"div\", {\"class\": \"cat-sec-box\"})  #Hemos cogido la box para que los indices coincidan (aunque haya algunos que vayan a tenerlo vacío por no tener seccion)\n",
    "seccion_at=[seccion.getText() for seccion in lista_seccion]\n",
    "df_sec_at= pd.DataFrame(seccion_at)\n",
    "df_sec_at.drop(columns= 0, inplace= True)\n",
    "df_sec_atrezzo= df_sec_at.copy()\n",
    "df_sec_atrezzo[\"seccion_atrezzo\"]= seccion_at\n",
    "df_sec_atrezzo = df_sec_atrezzo.applymap(lambda x: x.replace(\"\\n\",\"\"))\n",
    "df_sec_atrezzo.shape"
   ]
  },
  {
   "cell_type": "markdown",
   "metadata": {},
   "source": [
    "Descripcion todo junto"
   ]
  },
  {
   "cell_type": "code",
   "execution_count": 62,
   "metadata": {},
   "outputs": [
    {
     "name": "stderr",
     "output_type": "stream",
     "text": [
      "C:\\Users\\jaime\\AppData\\Local\\Temp\\ipykernel_2812\\173034480.py:7: FutureWarning: DataFrame.applymap has been deprecated. Use DataFrame.map instead.\n",
      "  df_des_atrezzo = df_des_atrezzo.applymap(lambda x: x.replace(\"\\n\",\"\"))\n"
     ]
    },
    {
     "data": {
      "text/plain": [
       "(48, 1)"
      ]
     },
     "execution_count": 62,
     "metadata": {},
     "output_type": "execute_result"
    }
   ],
   "source": [
    "lista_descripcion= sopa_atrezzo1.find_all(\"div\", {\"class\": \"product-slide-entry shift-image\"}) \n",
    "descripcion_at=[descripcion.contents[7].getText() for descripcion in lista_descripcion]\n",
    "df_des_at= pd.DataFrame(descripcion_at)\n",
    "df_des_at.drop(columns= 0, inplace= True)\n",
    "df_des_atrezzo= df_des_at.copy()\n",
    "df_des_atrezzo[\"descripcion_atrezzo\"]= descripcion_at\n",
    "df_des_atrezzo = df_des_atrezzo.applymap(lambda x: x.replace(\"\\n\",\"\"))\n",
    "df_des_atrezzo.shape"
   ]
  },
  {
   "cell_type": "markdown",
   "metadata": {},
   "source": [
    "Medidas todo junto"
   ]
  },
  {
   "cell_type": "code",
   "execution_count": 49,
   "metadata": {},
   "outputs": [
    {
     "name": "stderr",
     "output_type": "stream",
     "text": [
      "C:\\Users\\jaime\\AppData\\Local\\Temp\\ipykernel_2812\\2918996604.py:8: FutureWarning: DataFrame.applymap has been deprecated. Use DataFrame.map instead.\n",
      "  df_dim_atrezzo = df_dim_atrezzo.applymap(lambda x: x.replace(\"\\n\",\"\").replace(\"(cm)\",\"\")).astype(int)\n"
     ]
    },
    {
     "data": {
      "text/plain": [
       "(48, 3)"
      ]
     },
     "execution_count": 49,
     "metadata": {},
     "output_type": "execute_result"
    }
   ],
   "source": [
    "lista_dimension= sopa_atrezzo1.find_all(\"div\", {\"class\": \"price\"}) \n",
    "dimension_at=[dimension.getText() for dimension in lista_dimension]\n",
    "df_dim_at= pd.DataFrame(dimension_at)\n",
    "df_dim_atrezzo= df_dim_at.copy()\n",
    "df_dim_atrezzo[\"descripcion_atrezzo\"]= dimension_at\n",
    "df_dim_atrezzo = df_dim_atrezzo[\"descripcion_atrezzo\"].str.split(\"x\",expand=True)\n",
    "df_dim_atrezzo.columns = [\"largo\",\"ancho\",\"alto\"] \n",
    "df_dim_atrezzo = df_dim_atrezzo.applymap(lambda x: x.replace(\"\\n\",\"\").replace(\"(cm)\",\"\")).astype(int)\n",
    "df_dim_atrezzo.shape\n",
    "# df_dim_atrezzo.dtypes"
   ]
  },
  {
   "cell_type": "code",
   "execution_count": 77,
   "metadata": {},
   "outputs": [
    {
     "name": "stderr",
     "output_type": "stream",
     "text": [
      "C:\\Users\\jaime\\AppData\\Local\\Temp\\ipykernel_2812\\365118819.py:31: FutureWarning: DataFrame.applymap has been deprecated. Use DataFrame.map instead.\n",
      "  df_cat_atrezzo = df_cat_atrezzo.applymap(lambda x: x.replace(\"\\n\",\"\"))\n",
      "C:\\Users\\jaime\\AppData\\Local\\Temp\\ipykernel_2812\\365118819.py:40: FutureWarning: DataFrame.applymap has been deprecated. Use DataFrame.map instead.\n",
      "  df_sec_atrezzo = df_sec_atrezzo.applymap(lambda x: x.replace(\"\\n\",\"\"))\n",
      "C:\\Users\\jaime\\AppData\\Local\\Temp\\ipykernel_2812\\365118819.py:49: FutureWarning: DataFrame.applymap has been deprecated. Use DataFrame.map instead.\n",
      "  df_des_atrezzo = df_des_atrezzo.applymap(lambda x: x.replace(\"\\n\",\"\"))\n",
      "C:\\Users\\jaime\\AppData\\Local\\Temp\\ipykernel_2812\\365118819.py:58: FutureWarning: DataFrame.applymap has been deprecated. Use DataFrame.map instead.\n",
      "  df_dim_atrezzo = df_dim_atrezzo.applymap(lambda x: x.replace(\"\\n\",\"\").replace(\"(cm)\",\"\")).astype(int)\n"
     ]
    },
    {
     "data": {
      "text/html": [
       "<div>\n",
       "<style scoped>\n",
       "    .dataframe tbody tr th:only-of-type {\n",
       "        vertical-align: middle;\n",
       "    }\n",
       "\n",
       "    .dataframe tbody tr th {\n",
       "        vertical-align: top;\n",
       "    }\n",
       "\n",
       "    .dataframe thead th {\n",
       "        text-align: right;\n",
       "    }\n",
       "</style>\n",
       "<table border=\"1\" class=\"dataframe\">\n",
       "  <thead>\n",
       "    <tr style=\"text-align: right;\">\n",
       "      <th></th>\n",
       "      <th>nombre_atrezzo</th>\n",
       "      <th>url imagen</th>\n",
       "      <th>categoria_atrezzo</th>\n",
       "      <th>seccion_atrezzo</th>\n",
       "      <th>descripcion_atrezzo</th>\n",
       "      <th>largo</th>\n",
       "      <th>ancho</th>\n",
       "      <th>alto</th>\n",
       "    </tr>\n",
       "  </thead>\n",
       "  <tbody>\n",
       "    <tr>\n",
       "      <th>0</th>\n",
       "      <td>ALF1</td>\n",
       "      <td>https://atrezzovazquez.es/admin/img_prod/ALF1/...</td>\n",
       "      <td>Alfombra</td>\n",
       "      <td>Arabe</td>\n",
       "      <td>Alfombra persa marrón (tiene unas manchas que ...</td>\n",
       "      <td>460</td>\n",
       "      <td>340</td>\n",
       "      <td>1</td>\n",
       "    </tr>\n",
       "    <tr>\n",
       "      <th>1</th>\n",
       "      <td>ADO1</td>\n",
       "      <td>https://atrezzovazquez.es/admin/img_prod/ADO1/...</td>\n",
       "      <td>Adornos</td>\n",
       "      <td></td>\n",
       "      <td>Vitrina con abanico</td>\n",
       "      <td>100</td>\n",
       "      <td>10</td>\n",
       "      <td>60</td>\n",
       "    </tr>\n",
       "    <tr>\n",
       "      <th>2</th>\n",
       "      <td>AFC1</td>\n",
       "      <td>https://atrezzovazquez.es/admin/img_prod/AFC1/...</td>\n",
       "      <td>Alfombra de cama</td>\n",
       "      <td>Dormitorio</td>\n",
       "      <td>Alfombrín de cama círculos azules</td>\n",
       "      <td>150</td>\n",
       "      <td>72</td>\n",
       "      <td>1</td>\n",
       "    </tr>\n",
       "    <tr>\n",
       "      <th>3</th>\n",
       "      <td>AP1</td>\n",
       "      <td>https://atrezzovazquez.es/admin/img_prod/AP1/A...</td>\n",
       "      <td>Aparador</td>\n",
       "      <td>Alemán  Comedor</td>\n",
       "      <td>Aparador alemán 2 cuerpos</td>\n",
       "      <td>207</td>\n",
       "      <td>64</td>\n",
       "      <td>300</td>\n",
       "    </tr>\n",
       "    <tr>\n",
       "      <th>4</th>\n",
       "      <td>AST1</td>\n",
       "      <td>https://atrezzovazquez.es/admin/img_prod/AST1/...</td>\n",
       "      <td>Atrezzo astronomia</td>\n",
       "      <td>Astronomía</td>\n",
       "      <td>Pie de madera para astrolabio</td>\n",
       "      <td>78</td>\n",
       "      <td>78</td>\n",
       "      <td>130</td>\n",
       "    </tr>\n",
       "  </tbody>\n",
       "</table>\n",
       "</div>"
      ],
      "text/plain": [
       "  nombre_atrezzo                                         url imagen  \\\n",
       "0           ALF1  https://atrezzovazquez.es/admin/img_prod/ALF1/...   \n",
       "1           ADO1  https://atrezzovazquez.es/admin/img_prod/ADO1/...   \n",
       "2           AFC1  https://atrezzovazquez.es/admin/img_prod/AFC1/...   \n",
       "3            AP1  https://atrezzovazquez.es/admin/img_prod/AP1/A...   \n",
       "4           AST1  https://atrezzovazquez.es/admin/img_prod/AST1/...   \n",
       "\n",
       "    categoria_atrezzo    seccion_atrezzo  \\\n",
       "0            Alfombra            Arabe     \n",
       "1             Adornos                      \n",
       "2    Alfombra de cama       Dormitorio     \n",
       "3            Aparador  Alemán  Comedor     \n",
       "4  Atrezzo astronomia       Astronomía     \n",
       "\n",
       "                                 descripcion_atrezzo  largo  ancho  alto  \n",
       "0  Alfombra persa marrón (tiene unas manchas que ...    460    340     1  \n",
       "1                                Vitrina con abanico    100     10    60  \n",
       "2                  Alfombrín de cama círculos azules    150     72     1  \n",
       "3                          Aparador alemán 2 cuerpos    207     64   300  \n",
       "4                      Pie de madera para astrolabio     78     78   130  "
      ]
     },
     "execution_count": 77,
     "metadata": {},
     "output_type": "execute_result"
    }
   ],
   "source": [
    "def crear_df_pag(url):\n",
    "        try:    \n",
    "            df_pag_pag= pd.DataFrame()\n",
    "            resp= requests.get(url)\n",
    "            sopa_atrezzo1= BeautifulSoup(resp.content, \"html.parser\")\n",
    "\n",
    "            lista_nombre_at= sopa_atrezzo1.find_all(\"a\", {\"class\": \"title\"})\n",
    "\n",
    "            nombre_at=[nombre.getText() for nombre in lista_nombre_at]\n",
    "\n",
    "            df_nombre_at= pd.DataFrame(nombre_at)\n",
    "\n",
    "            df_nombre_at.drop(columns= 0, inplace=True)\n",
    "\n",
    "            df_nombre_atrezzo= df_nombre_at.copy()\n",
    "\n",
    "            df_nombre_atrezzo[\"nombre_atrezzo\"]= nombre_at\n",
    "\n",
    "            lista_box= sopa_atrezzo1.find_all(\"div\", class_ = \"product-image\" )\n",
    "            imagenes_atrezo = [f\"https://atrezzovazquez.es/{imagen.contents[0].get('src')}\" for imagen in lista_box]\n",
    "            df_de_imagen = pd.DataFrame(imagenes_atrezo,columns=[\"url imagen\"])\n",
    "            \n",
    "\n",
    "\n",
    "            lista_categoria= sopa_atrezzo1.find_all(\"a\", {\"class\": \"tag\"})\n",
    "            categoria_at=[categoria.getText() for categoria in lista_categoria]\n",
    "            df_cat_at= pd.DataFrame(categoria_at)\n",
    "            df_cat_at.drop(columns= 0, inplace= True)\n",
    "            df_cat_atrezzo= df_cat_at.copy()\n",
    "            df_cat_atrezzo[\"categoria_atrezzo\"]= categoria_at\n",
    "            df_cat_atrezzo = df_cat_atrezzo.applymap(lambda x: x.replace(\"\\n\",\"\"))\n",
    "\n",
    "\n",
    "            lista_seccion= sopa_atrezzo1.find_all(\"div\", {\"class\": \"cat-sec-box\"})  #Hemos cogido la box para que los indices coincidan (aunque haya algunos que vayan a tenerlo vacío por no tener seccion)\n",
    "            seccion_at=[seccion.getText() for seccion in lista_seccion]\n",
    "            df_sec_at= pd.DataFrame(seccion_at)\n",
    "            df_sec_at.drop(columns= 0, inplace= True)\n",
    "            df_sec_atrezzo= df_sec_at.copy()\n",
    "            df_sec_atrezzo[\"seccion_atrezzo\"]= seccion_at\n",
    "            df_sec_atrezzo = df_sec_atrezzo.applymap(lambda x: x.replace(\"\\n\",\"\"))\n",
    "\n",
    "\n",
    "            lista_descripcion= sopa_atrezzo1.find_all(\"div\", {\"class\": \"product-slide-entry shift-image\"}) \n",
    "            descripcion_at=[descripcion.contents[7].getText() for descripcion in lista_descripcion]\n",
    "            df_des_at= pd.DataFrame(descripcion_at)\n",
    "            df_des_at.drop(columns= 0, inplace= True)\n",
    "            df_des_atrezzo= df_des_at.copy()\n",
    "            df_des_atrezzo[\"descripcion_atrezzo\"]= descripcion_at\n",
    "            df_des_atrezzo = df_des_atrezzo.applymap(lambda x: x.replace(\"\\n\",\"\"))\n",
    "\n",
    "            lista_dimension= sopa_atrezzo1.find_all(\"div\", {\"class\": \"price\"}) \n",
    "            dimension_at=[dimension.getText() for dimension in lista_dimension]\n",
    "            df_dim_at= pd.DataFrame(dimension_at)\n",
    "            df_dim_atrezzo= df_dim_at.copy()\n",
    "            df_dim_atrezzo[\"descripcion_atrezzo\"]= dimension_at\n",
    "            df_dim_atrezzo = df_dim_atrezzo[\"descripcion_atrezzo\"].str.split(\"x\",expand=True)\n",
    "            df_dim_atrezzo.columns = [\"largo\",\"ancho\",\"alto\"] \n",
    "            df_dim_atrezzo = df_dim_atrezzo.applymap(lambda x: x.replace(\"\\n\",\"\").replace(\"(cm)\",\"\")).astype(int)\n",
    "\n",
    "            df_pag_pag =pd.concat([df_pag_pag,df_nombre_atrezzo,df_de_imagen,df_cat_atrezzo,df_sec_atrezzo,df_des_atrezzo,df_dim_atrezzo], axis= 1) \n",
    "\n",
    "            return df_pag_pag\n",
    "        \n",
    "        except:\n",
    "            pass\n",
    "\n",
    "crear_df_pag(\"https://atrezzovazquez.es/shop.php?search_type=-1&search_terms=&limit=48&page=1\").head()"
   ]
  },
  {
   "cell_type": "code",
   "execution_count": 78,
   "metadata": {},
   "outputs": [
    {
     "name": "stderr",
     "output_type": "stream",
     "text": [
      "C:\\Users\\jaime\\AppData\\Local\\Temp\\ipykernel_2812\\365118819.py:31: FutureWarning: DataFrame.applymap has been deprecated. Use DataFrame.map instead.\n",
      "  df_cat_atrezzo = df_cat_atrezzo.applymap(lambda x: x.replace(\"\\n\",\"\"))\n",
      "C:\\Users\\jaime\\AppData\\Local\\Temp\\ipykernel_2812\\365118819.py:40: FutureWarning: DataFrame.applymap has been deprecated. Use DataFrame.map instead.\n",
      "  df_sec_atrezzo = df_sec_atrezzo.applymap(lambda x: x.replace(\"\\n\",\"\"))\n",
      "C:\\Users\\jaime\\AppData\\Local\\Temp\\ipykernel_2812\\365118819.py:49: FutureWarning: DataFrame.applymap has been deprecated. Use DataFrame.map instead.\n",
      "  df_des_atrezzo = df_des_atrezzo.applymap(lambda x: x.replace(\"\\n\",\"\"))\n",
      "C:\\Users\\jaime\\AppData\\Local\\Temp\\ipykernel_2812\\365118819.py:58: FutureWarning: DataFrame.applymap has been deprecated. Use DataFrame.map instead.\n",
      "  df_dim_atrezzo = df_dim_atrezzo.applymap(lambda x: x.replace(\"\\n\",\"\").replace(\"(cm)\",\"\")).astype(int)\n",
      "C:\\Users\\jaime\\AppData\\Local\\Temp\\ipykernel_2812\\365118819.py:31: FutureWarning: DataFrame.applymap has been deprecated. Use DataFrame.map instead.\n",
      "  df_cat_atrezzo = df_cat_atrezzo.applymap(lambda x: x.replace(\"\\n\",\"\"))\n",
      "C:\\Users\\jaime\\AppData\\Local\\Temp\\ipykernel_2812\\365118819.py:40: FutureWarning: DataFrame.applymap has been deprecated. Use DataFrame.map instead.\n",
      "  df_sec_atrezzo = df_sec_atrezzo.applymap(lambda x: x.replace(\"\\n\",\"\"))\n",
      "C:\\Users\\jaime\\AppData\\Local\\Temp\\ipykernel_2812\\365118819.py:49: FutureWarning: DataFrame.applymap has been deprecated. Use DataFrame.map instead.\n",
      "  df_des_atrezzo = df_des_atrezzo.applymap(lambda x: x.replace(\"\\n\",\"\"))\n",
      "C:\\Users\\jaime\\AppData\\Local\\Temp\\ipykernel_2812\\365118819.py:58: FutureWarning: DataFrame.applymap has been deprecated. Use DataFrame.map instead.\n",
      "  df_dim_atrezzo = df_dim_atrezzo.applymap(lambda x: x.replace(\"\\n\",\"\").replace(\"(cm)\",\"\")).astype(int)\n",
      "C:\\Users\\jaime\\AppData\\Local\\Temp\\ipykernel_2812\\365118819.py:31: FutureWarning: DataFrame.applymap has been deprecated. Use DataFrame.map instead.\n",
      "  df_cat_atrezzo = df_cat_atrezzo.applymap(lambda x: x.replace(\"\\n\",\"\"))\n",
      "C:\\Users\\jaime\\AppData\\Local\\Temp\\ipykernel_2812\\365118819.py:40: FutureWarning: DataFrame.applymap has been deprecated. Use DataFrame.map instead.\n",
      "  df_sec_atrezzo = df_sec_atrezzo.applymap(lambda x: x.replace(\"\\n\",\"\"))\n",
      "C:\\Users\\jaime\\AppData\\Local\\Temp\\ipykernel_2812\\365118819.py:49: FutureWarning: DataFrame.applymap has been deprecated. Use DataFrame.map instead.\n",
      "  df_des_atrezzo = df_des_atrezzo.applymap(lambda x: x.replace(\"\\n\",\"\"))\n",
      "C:\\Users\\jaime\\AppData\\Local\\Temp\\ipykernel_2812\\365118819.py:58: FutureWarning: DataFrame.applymap has been deprecated. Use DataFrame.map instead.\n",
      "  df_dim_atrezzo = df_dim_atrezzo.applymap(lambda x: x.replace(\"\\n\",\"\").replace(\"(cm)\",\"\")).astype(int)\n",
      "C:\\Users\\jaime\\AppData\\Local\\Temp\\ipykernel_2812\\365118819.py:31: FutureWarning: DataFrame.applymap has been deprecated. Use DataFrame.map instead.\n",
      "  df_cat_atrezzo = df_cat_atrezzo.applymap(lambda x: x.replace(\"\\n\",\"\"))\n",
      "C:\\Users\\jaime\\AppData\\Local\\Temp\\ipykernel_2812\\365118819.py:40: FutureWarning: DataFrame.applymap has been deprecated. Use DataFrame.map instead.\n",
      "  df_sec_atrezzo = df_sec_atrezzo.applymap(lambda x: x.replace(\"\\n\",\"\"))\n",
      "C:\\Users\\jaime\\AppData\\Local\\Temp\\ipykernel_2812\\365118819.py:49: FutureWarning: DataFrame.applymap has been deprecated. Use DataFrame.map instead.\n",
      "  df_des_atrezzo = df_des_atrezzo.applymap(lambda x: x.replace(\"\\n\",\"\"))\n",
      "C:\\Users\\jaime\\AppData\\Local\\Temp\\ipykernel_2812\\365118819.py:58: FutureWarning: DataFrame.applymap has been deprecated. Use DataFrame.map instead.\n",
      "  df_dim_atrezzo = df_dim_atrezzo.applymap(lambda x: x.replace(\"\\n\",\"\").replace(\"(cm)\",\"\")).astype(int)\n",
      "C:\\Users\\jaime\\AppData\\Local\\Temp\\ipykernel_2812\\365118819.py:31: FutureWarning: DataFrame.applymap has been deprecated. Use DataFrame.map instead.\n",
      "  df_cat_atrezzo = df_cat_atrezzo.applymap(lambda x: x.replace(\"\\n\",\"\"))\n",
      "C:\\Users\\jaime\\AppData\\Local\\Temp\\ipykernel_2812\\365118819.py:40: FutureWarning: DataFrame.applymap has been deprecated. Use DataFrame.map instead.\n",
      "  df_sec_atrezzo = df_sec_atrezzo.applymap(lambda x: x.replace(\"\\n\",\"\"))\n",
      "C:\\Users\\jaime\\AppData\\Local\\Temp\\ipykernel_2812\\365118819.py:49: FutureWarning: DataFrame.applymap has been deprecated. Use DataFrame.map instead.\n",
      "  df_des_atrezzo = df_des_atrezzo.applymap(lambda x: x.replace(\"\\n\",\"\"))\n",
      "C:\\Users\\jaime\\AppData\\Local\\Temp\\ipykernel_2812\\365118819.py:58: FutureWarning: DataFrame.applymap has been deprecated. Use DataFrame.map instead.\n",
      "  df_dim_atrezzo = df_dim_atrezzo.applymap(lambda x: x.replace(\"\\n\",\"\").replace(\"(cm)\",\"\")).astype(int)\n",
      "C:\\Users\\jaime\\AppData\\Local\\Temp\\ipykernel_2812\\365118819.py:31: FutureWarning: DataFrame.applymap has been deprecated. Use DataFrame.map instead.\n",
      "  df_cat_atrezzo = df_cat_atrezzo.applymap(lambda x: x.replace(\"\\n\",\"\"))\n",
      "C:\\Users\\jaime\\AppData\\Local\\Temp\\ipykernel_2812\\365118819.py:40: FutureWarning: DataFrame.applymap has been deprecated. Use DataFrame.map instead.\n",
      "  df_sec_atrezzo = df_sec_atrezzo.applymap(lambda x: x.replace(\"\\n\",\"\"))\n",
      "C:\\Users\\jaime\\AppData\\Local\\Temp\\ipykernel_2812\\365118819.py:49: FutureWarning: DataFrame.applymap has been deprecated. Use DataFrame.map instead.\n",
      "  df_des_atrezzo = df_des_atrezzo.applymap(lambda x: x.replace(\"\\n\",\"\"))\n",
      "C:\\Users\\jaime\\AppData\\Local\\Temp\\ipykernel_2812\\365118819.py:58: FutureWarning: DataFrame.applymap has been deprecated. Use DataFrame.map instead.\n",
      "  df_dim_atrezzo = df_dim_atrezzo.applymap(lambda x: x.replace(\"\\n\",\"\").replace(\"(cm)\",\"\")).astype(int)\n",
      "C:\\Users\\jaime\\AppData\\Local\\Temp\\ipykernel_2812\\365118819.py:31: FutureWarning: DataFrame.applymap has been deprecated. Use DataFrame.map instead.\n",
      "  df_cat_atrezzo = df_cat_atrezzo.applymap(lambda x: x.replace(\"\\n\",\"\"))\n",
      "C:\\Users\\jaime\\AppData\\Local\\Temp\\ipykernel_2812\\365118819.py:40: FutureWarning: DataFrame.applymap has been deprecated. Use DataFrame.map instead.\n",
      "  df_sec_atrezzo = df_sec_atrezzo.applymap(lambda x: x.replace(\"\\n\",\"\"))\n",
      "C:\\Users\\jaime\\AppData\\Local\\Temp\\ipykernel_2812\\365118819.py:49: FutureWarning: DataFrame.applymap has been deprecated. Use DataFrame.map instead.\n",
      "  df_des_atrezzo = df_des_atrezzo.applymap(lambda x: x.replace(\"\\n\",\"\"))\n",
      "C:\\Users\\jaime\\AppData\\Local\\Temp\\ipykernel_2812\\365118819.py:58: FutureWarning: DataFrame.applymap has been deprecated. Use DataFrame.map instead.\n",
      "  df_dim_atrezzo = df_dim_atrezzo.applymap(lambda x: x.replace(\"\\n\",\"\").replace(\"(cm)\",\"\")).astype(int)\n",
      "C:\\Users\\jaime\\AppData\\Local\\Temp\\ipykernel_2812\\365118819.py:31: FutureWarning: DataFrame.applymap has been deprecated. Use DataFrame.map instead.\n",
      "  df_cat_atrezzo = df_cat_atrezzo.applymap(lambda x: x.replace(\"\\n\",\"\"))\n",
      "C:\\Users\\jaime\\AppData\\Local\\Temp\\ipykernel_2812\\365118819.py:40: FutureWarning: DataFrame.applymap has been deprecated. Use DataFrame.map instead.\n",
      "  df_sec_atrezzo = df_sec_atrezzo.applymap(lambda x: x.replace(\"\\n\",\"\"))\n",
      "C:\\Users\\jaime\\AppData\\Local\\Temp\\ipykernel_2812\\365118819.py:49: FutureWarning: DataFrame.applymap has been deprecated. Use DataFrame.map instead.\n",
      "  df_des_atrezzo = df_des_atrezzo.applymap(lambda x: x.replace(\"\\n\",\"\"))\n",
      "C:\\Users\\jaime\\AppData\\Local\\Temp\\ipykernel_2812\\365118819.py:58: FutureWarning: DataFrame.applymap has been deprecated. Use DataFrame.map instead.\n",
      "  df_dim_atrezzo = df_dim_atrezzo.applymap(lambda x: x.replace(\"\\n\",\"\").replace(\"(cm)\",\"\")).astype(int)\n",
      "C:\\Users\\jaime\\AppData\\Local\\Temp\\ipykernel_2812\\365118819.py:31: FutureWarning: DataFrame.applymap has been deprecated. Use DataFrame.map instead.\n",
      "  df_cat_atrezzo = df_cat_atrezzo.applymap(lambda x: x.replace(\"\\n\",\"\"))\n",
      "C:\\Users\\jaime\\AppData\\Local\\Temp\\ipykernel_2812\\365118819.py:40: FutureWarning: DataFrame.applymap has been deprecated. Use DataFrame.map instead.\n",
      "  df_sec_atrezzo = df_sec_atrezzo.applymap(lambda x: x.replace(\"\\n\",\"\"))\n",
      "C:\\Users\\jaime\\AppData\\Local\\Temp\\ipykernel_2812\\365118819.py:49: FutureWarning: DataFrame.applymap has been deprecated. Use DataFrame.map instead.\n",
      "  df_des_atrezzo = df_des_atrezzo.applymap(lambda x: x.replace(\"\\n\",\"\"))\n",
      "C:\\Users\\jaime\\AppData\\Local\\Temp\\ipykernel_2812\\365118819.py:58: FutureWarning: DataFrame.applymap has been deprecated. Use DataFrame.map instead.\n",
      "  df_dim_atrezzo = df_dim_atrezzo.applymap(lambda x: x.replace(\"\\n\",\"\").replace(\"(cm)\",\"\")).astype(int)\n",
      "C:\\Users\\jaime\\AppData\\Local\\Temp\\ipykernel_2812\\365118819.py:31: FutureWarning: DataFrame.applymap has been deprecated. Use DataFrame.map instead.\n",
      "  df_cat_atrezzo = df_cat_atrezzo.applymap(lambda x: x.replace(\"\\n\",\"\"))\n",
      "C:\\Users\\jaime\\AppData\\Local\\Temp\\ipykernel_2812\\365118819.py:40: FutureWarning: DataFrame.applymap has been deprecated. Use DataFrame.map instead.\n",
      "  df_sec_atrezzo = df_sec_atrezzo.applymap(lambda x: x.replace(\"\\n\",\"\"))\n",
      "C:\\Users\\jaime\\AppData\\Local\\Temp\\ipykernel_2812\\365118819.py:49: FutureWarning: DataFrame.applymap has been deprecated. Use DataFrame.map instead.\n",
      "  df_des_atrezzo = df_des_atrezzo.applymap(lambda x: x.replace(\"\\n\",\"\"))\n",
      "C:\\Users\\jaime\\AppData\\Local\\Temp\\ipykernel_2812\\365118819.py:58: FutureWarning: DataFrame.applymap has been deprecated. Use DataFrame.map instead.\n",
      "  df_dim_atrezzo = df_dim_atrezzo.applymap(lambda x: x.replace(\"\\n\",\"\").replace(\"(cm)\",\"\")).astype(int)\n",
      "C:\\Users\\jaime\\AppData\\Local\\Temp\\ipykernel_2812\\365118819.py:31: FutureWarning: DataFrame.applymap has been deprecated. Use DataFrame.map instead.\n",
      "  df_cat_atrezzo = df_cat_atrezzo.applymap(lambda x: x.replace(\"\\n\",\"\"))\n",
      "C:\\Users\\jaime\\AppData\\Local\\Temp\\ipykernel_2812\\365118819.py:40: FutureWarning: DataFrame.applymap has been deprecated. Use DataFrame.map instead.\n",
      "  df_sec_atrezzo = df_sec_atrezzo.applymap(lambda x: x.replace(\"\\n\",\"\"))\n",
      "C:\\Users\\jaime\\AppData\\Local\\Temp\\ipykernel_2812\\365118819.py:49: FutureWarning: DataFrame.applymap has been deprecated. Use DataFrame.map instead.\n",
      "  df_des_atrezzo = df_des_atrezzo.applymap(lambda x: x.replace(\"\\n\",\"\"))\n",
      "C:\\Users\\jaime\\AppData\\Local\\Temp\\ipykernel_2812\\365118819.py:58: FutureWarning: DataFrame.applymap has been deprecated. Use DataFrame.map instead.\n",
      "  df_dim_atrezzo = df_dim_atrezzo.applymap(lambda x: x.replace(\"\\n\",\"\").replace(\"(cm)\",\"\")).astype(int)\n",
      "C:\\Users\\jaime\\AppData\\Local\\Temp\\ipykernel_2812\\365118819.py:31: FutureWarning: DataFrame.applymap has been deprecated. Use DataFrame.map instead.\n",
      "  df_cat_atrezzo = df_cat_atrezzo.applymap(lambda x: x.replace(\"\\n\",\"\"))\n",
      "C:\\Users\\jaime\\AppData\\Local\\Temp\\ipykernel_2812\\365118819.py:40: FutureWarning: DataFrame.applymap has been deprecated. Use DataFrame.map instead.\n",
      "  df_sec_atrezzo = df_sec_atrezzo.applymap(lambda x: x.replace(\"\\n\",\"\"))\n",
      "C:\\Users\\jaime\\AppData\\Local\\Temp\\ipykernel_2812\\365118819.py:49: FutureWarning: DataFrame.applymap has been deprecated. Use DataFrame.map instead.\n",
      "  df_des_atrezzo = df_des_atrezzo.applymap(lambda x: x.replace(\"\\n\",\"\"))\n",
      "C:\\Users\\jaime\\AppData\\Local\\Temp\\ipykernel_2812\\365118819.py:58: FutureWarning: DataFrame.applymap has been deprecated. Use DataFrame.map instead.\n",
      "  df_dim_atrezzo = df_dim_atrezzo.applymap(lambda x: x.replace(\"\\n\",\"\").replace(\"(cm)\",\"\")).astype(int)\n",
      "C:\\Users\\jaime\\AppData\\Local\\Temp\\ipykernel_2812\\365118819.py:31: FutureWarning: DataFrame.applymap has been deprecated. Use DataFrame.map instead.\n",
      "  df_cat_atrezzo = df_cat_atrezzo.applymap(lambda x: x.replace(\"\\n\",\"\"))\n",
      "C:\\Users\\jaime\\AppData\\Local\\Temp\\ipykernel_2812\\365118819.py:40: FutureWarning: DataFrame.applymap has been deprecated. Use DataFrame.map instead.\n",
      "  df_sec_atrezzo = df_sec_atrezzo.applymap(lambda x: x.replace(\"\\n\",\"\"))\n",
      "C:\\Users\\jaime\\AppData\\Local\\Temp\\ipykernel_2812\\365118819.py:49: FutureWarning: DataFrame.applymap has been deprecated. Use DataFrame.map instead.\n",
      "  df_des_atrezzo = df_des_atrezzo.applymap(lambda x: x.replace(\"\\n\",\"\"))\n",
      "C:\\Users\\jaime\\AppData\\Local\\Temp\\ipykernel_2812\\365118819.py:58: FutureWarning: DataFrame.applymap has been deprecated. Use DataFrame.map instead.\n",
      "  df_dim_atrezzo = df_dim_atrezzo.applymap(lambda x: x.replace(\"\\n\",\"\").replace(\"(cm)\",\"\")).astype(int)\n",
      "C:\\Users\\jaime\\AppData\\Local\\Temp\\ipykernel_2812\\365118819.py:31: FutureWarning: DataFrame.applymap has been deprecated. Use DataFrame.map instead.\n",
      "  df_cat_atrezzo = df_cat_atrezzo.applymap(lambda x: x.replace(\"\\n\",\"\"))\n",
      "C:\\Users\\jaime\\AppData\\Local\\Temp\\ipykernel_2812\\365118819.py:40: FutureWarning: DataFrame.applymap has been deprecated. Use DataFrame.map instead.\n",
      "  df_sec_atrezzo = df_sec_atrezzo.applymap(lambda x: x.replace(\"\\n\",\"\"))\n",
      "C:\\Users\\jaime\\AppData\\Local\\Temp\\ipykernel_2812\\365118819.py:49: FutureWarning: DataFrame.applymap has been deprecated. Use DataFrame.map instead.\n",
      "  df_des_atrezzo = df_des_atrezzo.applymap(lambda x: x.replace(\"\\n\",\"\"))\n",
      "C:\\Users\\jaime\\AppData\\Local\\Temp\\ipykernel_2812\\365118819.py:58: FutureWarning: DataFrame.applymap has been deprecated. Use DataFrame.map instead.\n",
      "  df_dim_atrezzo = df_dim_atrezzo.applymap(lambda x: x.replace(\"\\n\",\"\").replace(\"(cm)\",\"\")).astype(int)\n",
      "C:\\Users\\jaime\\AppData\\Local\\Temp\\ipykernel_2812\\365118819.py:31: FutureWarning: DataFrame.applymap has been deprecated. Use DataFrame.map instead.\n",
      "  df_cat_atrezzo = df_cat_atrezzo.applymap(lambda x: x.replace(\"\\n\",\"\"))\n",
      "C:\\Users\\jaime\\AppData\\Local\\Temp\\ipykernel_2812\\365118819.py:40: FutureWarning: DataFrame.applymap has been deprecated. Use DataFrame.map instead.\n",
      "  df_sec_atrezzo = df_sec_atrezzo.applymap(lambda x: x.replace(\"\\n\",\"\"))\n",
      "C:\\Users\\jaime\\AppData\\Local\\Temp\\ipykernel_2812\\365118819.py:49: FutureWarning: DataFrame.applymap has been deprecated. Use DataFrame.map instead.\n",
      "  df_des_atrezzo = df_des_atrezzo.applymap(lambda x: x.replace(\"\\n\",\"\"))\n",
      "C:\\Users\\jaime\\AppData\\Local\\Temp\\ipykernel_2812\\365118819.py:58: FutureWarning: DataFrame.applymap has been deprecated. Use DataFrame.map instead.\n",
      "  df_dim_atrezzo = df_dim_atrezzo.applymap(lambda x: x.replace(\"\\n\",\"\").replace(\"(cm)\",\"\")).astype(int)\n",
      "C:\\Users\\jaime\\AppData\\Local\\Temp\\ipykernel_2812\\365118819.py:31: FutureWarning: DataFrame.applymap has been deprecated. Use DataFrame.map instead.\n",
      "  df_cat_atrezzo = df_cat_atrezzo.applymap(lambda x: x.replace(\"\\n\",\"\"))\n",
      "C:\\Users\\jaime\\AppData\\Local\\Temp\\ipykernel_2812\\365118819.py:40: FutureWarning: DataFrame.applymap has been deprecated. Use DataFrame.map instead.\n",
      "  df_sec_atrezzo = df_sec_atrezzo.applymap(lambda x: x.replace(\"\\n\",\"\"))\n",
      "C:\\Users\\jaime\\AppData\\Local\\Temp\\ipykernel_2812\\365118819.py:49: FutureWarning: DataFrame.applymap has been deprecated. Use DataFrame.map instead.\n",
      "  df_des_atrezzo = df_des_atrezzo.applymap(lambda x: x.replace(\"\\n\",\"\"))\n",
      "C:\\Users\\jaime\\AppData\\Local\\Temp\\ipykernel_2812\\365118819.py:58: FutureWarning: DataFrame.applymap has been deprecated. Use DataFrame.map instead.\n",
      "  df_dim_atrezzo = df_dim_atrezzo.applymap(lambda x: x.replace(\"\\n\",\"\").replace(\"(cm)\",\"\")).astype(int)\n",
      "C:\\Users\\jaime\\AppData\\Local\\Temp\\ipykernel_2812\\365118819.py:31: FutureWarning: DataFrame.applymap has been deprecated. Use DataFrame.map instead.\n",
      "  df_cat_atrezzo = df_cat_atrezzo.applymap(lambda x: x.replace(\"\\n\",\"\"))\n",
      "C:\\Users\\jaime\\AppData\\Local\\Temp\\ipykernel_2812\\365118819.py:40: FutureWarning: DataFrame.applymap has been deprecated. Use DataFrame.map instead.\n",
      "  df_sec_atrezzo = df_sec_atrezzo.applymap(lambda x: x.replace(\"\\n\",\"\"))\n",
      "C:\\Users\\jaime\\AppData\\Local\\Temp\\ipykernel_2812\\365118819.py:49: FutureWarning: DataFrame.applymap has been deprecated. Use DataFrame.map instead.\n",
      "  df_des_atrezzo = df_des_atrezzo.applymap(lambda x: x.replace(\"\\n\",\"\"))\n",
      "C:\\Users\\jaime\\AppData\\Local\\Temp\\ipykernel_2812\\365118819.py:58: FutureWarning: DataFrame.applymap has been deprecated. Use DataFrame.map instead.\n",
      "  df_dim_atrezzo = df_dim_atrezzo.applymap(lambda x: x.replace(\"\\n\",\"\").replace(\"(cm)\",\"\")).astype(int)\n",
      "C:\\Users\\jaime\\AppData\\Local\\Temp\\ipykernel_2812\\365118819.py:31: FutureWarning: DataFrame.applymap has been deprecated. Use DataFrame.map instead.\n",
      "  df_cat_atrezzo = df_cat_atrezzo.applymap(lambda x: x.replace(\"\\n\",\"\"))\n",
      "C:\\Users\\jaime\\AppData\\Local\\Temp\\ipykernel_2812\\365118819.py:40: FutureWarning: DataFrame.applymap has been deprecated. Use DataFrame.map instead.\n",
      "  df_sec_atrezzo = df_sec_atrezzo.applymap(lambda x: x.replace(\"\\n\",\"\"))\n",
      "C:\\Users\\jaime\\AppData\\Local\\Temp\\ipykernel_2812\\365118819.py:49: FutureWarning: DataFrame.applymap has been deprecated. Use DataFrame.map instead.\n",
      "  df_des_atrezzo = df_des_atrezzo.applymap(lambda x: x.replace(\"\\n\",\"\"))\n",
      "C:\\Users\\jaime\\AppData\\Local\\Temp\\ipykernel_2812\\365118819.py:58: FutureWarning: DataFrame.applymap has been deprecated. Use DataFrame.map instead.\n",
      "  df_dim_atrezzo = df_dim_atrezzo.applymap(lambda x: x.replace(\"\\n\",\"\").replace(\"(cm)\",\"\")).astype(int)\n",
      "C:\\Users\\jaime\\AppData\\Local\\Temp\\ipykernel_2812\\365118819.py:31: FutureWarning: DataFrame.applymap has been deprecated. Use DataFrame.map instead.\n",
      "  df_cat_atrezzo = df_cat_atrezzo.applymap(lambda x: x.replace(\"\\n\",\"\"))\n",
      "C:\\Users\\jaime\\AppData\\Local\\Temp\\ipykernel_2812\\365118819.py:40: FutureWarning: DataFrame.applymap has been deprecated. Use DataFrame.map instead.\n",
      "  df_sec_atrezzo = df_sec_atrezzo.applymap(lambda x: x.replace(\"\\n\",\"\"))\n",
      "C:\\Users\\jaime\\AppData\\Local\\Temp\\ipykernel_2812\\365118819.py:49: FutureWarning: DataFrame.applymap has been deprecated. Use DataFrame.map instead.\n",
      "  df_des_atrezzo = df_des_atrezzo.applymap(lambda x: x.replace(\"\\n\",\"\"))\n",
      "C:\\Users\\jaime\\AppData\\Local\\Temp\\ipykernel_2812\\365118819.py:58: FutureWarning: DataFrame.applymap has been deprecated. Use DataFrame.map instead.\n",
      "  df_dim_atrezzo = df_dim_atrezzo.applymap(lambda x: x.replace(\"\\n\",\"\").replace(\"(cm)\",\"\")).astype(int)\n",
      "C:\\Users\\jaime\\AppData\\Local\\Temp\\ipykernel_2812\\365118819.py:31: FutureWarning: DataFrame.applymap has been deprecated. Use DataFrame.map instead.\n",
      "  df_cat_atrezzo = df_cat_atrezzo.applymap(lambda x: x.replace(\"\\n\",\"\"))\n",
      "C:\\Users\\jaime\\AppData\\Local\\Temp\\ipykernel_2812\\365118819.py:40: FutureWarning: DataFrame.applymap has been deprecated. Use DataFrame.map instead.\n",
      "  df_sec_atrezzo = df_sec_atrezzo.applymap(lambda x: x.replace(\"\\n\",\"\"))\n",
      "C:\\Users\\jaime\\AppData\\Local\\Temp\\ipykernel_2812\\365118819.py:49: FutureWarning: DataFrame.applymap has been deprecated. Use DataFrame.map instead.\n",
      "  df_des_atrezzo = df_des_atrezzo.applymap(lambda x: x.replace(\"\\n\",\"\"))\n",
      "C:\\Users\\jaime\\AppData\\Local\\Temp\\ipykernel_2812\\365118819.py:58: FutureWarning: DataFrame.applymap has been deprecated. Use DataFrame.map instead.\n",
      "  df_dim_atrezzo = df_dim_atrezzo.applymap(lambda x: x.replace(\"\\n\",\"\").replace(\"(cm)\",\"\")).astype(int)\n",
      "C:\\Users\\jaime\\AppData\\Local\\Temp\\ipykernel_2812\\365118819.py:31: FutureWarning: DataFrame.applymap has been deprecated. Use DataFrame.map instead.\n",
      "  df_cat_atrezzo = df_cat_atrezzo.applymap(lambda x: x.replace(\"\\n\",\"\"))\n",
      "C:\\Users\\jaime\\AppData\\Local\\Temp\\ipykernel_2812\\365118819.py:40: FutureWarning: DataFrame.applymap has been deprecated. Use DataFrame.map instead.\n",
      "  df_sec_atrezzo = df_sec_atrezzo.applymap(lambda x: x.replace(\"\\n\",\"\"))\n",
      "C:\\Users\\jaime\\AppData\\Local\\Temp\\ipykernel_2812\\365118819.py:49: FutureWarning: DataFrame.applymap has been deprecated. Use DataFrame.map instead.\n",
      "  df_des_atrezzo = df_des_atrezzo.applymap(lambda x: x.replace(\"\\n\",\"\"))\n",
      "C:\\Users\\jaime\\AppData\\Local\\Temp\\ipykernel_2812\\365118819.py:58: FutureWarning: DataFrame.applymap has been deprecated. Use DataFrame.map instead.\n",
      "  df_dim_atrezzo = df_dim_atrezzo.applymap(lambda x: x.replace(\"\\n\",\"\").replace(\"(cm)\",\"\")).astype(int)\n",
      "C:\\Users\\jaime\\AppData\\Local\\Temp\\ipykernel_2812\\365118819.py:31: FutureWarning: DataFrame.applymap has been deprecated. Use DataFrame.map instead.\n",
      "  df_cat_atrezzo = df_cat_atrezzo.applymap(lambda x: x.replace(\"\\n\",\"\"))\n",
      "C:\\Users\\jaime\\AppData\\Local\\Temp\\ipykernel_2812\\365118819.py:40: FutureWarning: DataFrame.applymap has been deprecated. Use DataFrame.map instead.\n",
      "  df_sec_atrezzo = df_sec_atrezzo.applymap(lambda x: x.replace(\"\\n\",\"\"))\n",
      "C:\\Users\\jaime\\AppData\\Local\\Temp\\ipykernel_2812\\365118819.py:49: FutureWarning: DataFrame.applymap has been deprecated. Use DataFrame.map instead.\n",
      "  df_des_atrezzo = df_des_atrezzo.applymap(lambda x: x.replace(\"\\n\",\"\"))\n",
      "C:\\Users\\jaime\\AppData\\Local\\Temp\\ipykernel_2812\\365118819.py:58: FutureWarning: DataFrame.applymap has been deprecated. Use DataFrame.map instead.\n",
      "  df_dim_atrezzo = df_dim_atrezzo.applymap(lambda x: x.replace(\"\\n\",\"\").replace(\"(cm)\",\"\")).astype(int)\n",
      "C:\\Users\\jaime\\AppData\\Local\\Temp\\ipykernel_2812\\365118819.py:31: FutureWarning: DataFrame.applymap has been deprecated. Use DataFrame.map instead.\n",
      "  df_cat_atrezzo = df_cat_atrezzo.applymap(lambda x: x.replace(\"\\n\",\"\"))\n",
      "C:\\Users\\jaime\\AppData\\Local\\Temp\\ipykernel_2812\\365118819.py:40: FutureWarning: DataFrame.applymap has been deprecated. Use DataFrame.map instead.\n",
      "  df_sec_atrezzo = df_sec_atrezzo.applymap(lambda x: x.replace(\"\\n\",\"\"))\n",
      "C:\\Users\\jaime\\AppData\\Local\\Temp\\ipykernel_2812\\365118819.py:49: FutureWarning: DataFrame.applymap has been deprecated. Use DataFrame.map instead.\n",
      "  df_des_atrezzo = df_des_atrezzo.applymap(lambda x: x.replace(\"\\n\",\"\"))\n",
      "C:\\Users\\jaime\\AppData\\Local\\Temp\\ipykernel_2812\\365118819.py:58: FutureWarning: DataFrame.applymap has been deprecated. Use DataFrame.map instead.\n",
      "  df_dim_atrezzo = df_dim_atrezzo.applymap(lambda x: x.replace(\"\\n\",\"\").replace(\"(cm)\",\"\")).astype(int)\n",
      "C:\\Users\\jaime\\AppData\\Local\\Temp\\ipykernel_2812\\365118819.py:31: FutureWarning: DataFrame.applymap has been deprecated. Use DataFrame.map instead.\n",
      "  df_cat_atrezzo = df_cat_atrezzo.applymap(lambda x: x.replace(\"\\n\",\"\"))\n",
      "C:\\Users\\jaime\\AppData\\Local\\Temp\\ipykernel_2812\\365118819.py:40: FutureWarning: DataFrame.applymap has been deprecated. Use DataFrame.map instead.\n",
      "  df_sec_atrezzo = df_sec_atrezzo.applymap(lambda x: x.replace(\"\\n\",\"\"))\n",
      "C:\\Users\\jaime\\AppData\\Local\\Temp\\ipykernel_2812\\365118819.py:49: FutureWarning: DataFrame.applymap has been deprecated. Use DataFrame.map instead.\n",
      "  df_des_atrezzo = df_des_atrezzo.applymap(lambda x: x.replace(\"\\n\",\"\"))\n",
      "C:\\Users\\jaime\\AppData\\Local\\Temp\\ipykernel_2812\\365118819.py:58: FutureWarning: DataFrame.applymap has been deprecated. Use DataFrame.map instead.\n",
      "  df_dim_atrezzo = df_dim_atrezzo.applymap(lambda x: x.replace(\"\\n\",\"\").replace(\"(cm)\",\"\")).astype(int)\n",
      "C:\\Users\\jaime\\AppData\\Local\\Temp\\ipykernel_2812\\365118819.py:31: FutureWarning: DataFrame.applymap has been deprecated. Use DataFrame.map instead.\n",
      "  df_cat_atrezzo = df_cat_atrezzo.applymap(lambda x: x.replace(\"\\n\",\"\"))\n",
      "C:\\Users\\jaime\\AppData\\Local\\Temp\\ipykernel_2812\\365118819.py:40: FutureWarning: DataFrame.applymap has been deprecated. Use DataFrame.map instead.\n",
      "  df_sec_atrezzo = df_sec_atrezzo.applymap(lambda x: x.replace(\"\\n\",\"\"))\n",
      "C:\\Users\\jaime\\AppData\\Local\\Temp\\ipykernel_2812\\365118819.py:49: FutureWarning: DataFrame.applymap has been deprecated. Use DataFrame.map instead.\n",
      "  df_des_atrezzo = df_des_atrezzo.applymap(lambda x: x.replace(\"\\n\",\"\"))\n",
      "C:\\Users\\jaime\\AppData\\Local\\Temp\\ipykernel_2812\\365118819.py:58: FutureWarning: DataFrame.applymap has been deprecated. Use DataFrame.map instead.\n",
      "  df_dim_atrezzo = df_dim_atrezzo.applymap(lambda x: x.replace(\"\\n\",\"\").replace(\"(cm)\",\"\")).astype(int)\n",
      "C:\\Users\\jaime\\AppData\\Local\\Temp\\ipykernel_2812\\365118819.py:31: FutureWarning: DataFrame.applymap has been deprecated. Use DataFrame.map instead.\n",
      "  df_cat_atrezzo = df_cat_atrezzo.applymap(lambda x: x.replace(\"\\n\",\"\"))\n",
      "C:\\Users\\jaime\\AppData\\Local\\Temp\\ipykernel_2812\\365118819.py:40: FutureWarning: DataFrame.applymap has been deprecated. Use DataFrame.map instead.\n",
      "  df_sec_atrezzo = df_sec_atrezzo.applymap(lambda x: x.replace(\"\\n\",\"\"))\n",
      "C:\\Users\\jaime\\AppData\\Local\\Temp\\ipykernel_2812\\365118819.py:49: FutureWarning: DataFrame.applymap has been deprecated. Use DataFrame.map instead.\n",
      "  df_des_atrezzo = df_des_atrezzo.applymap(lambda x: x.replace(\"\\n\",\"\"))\n",
      "C:\\Users\\jaime\\AppData\\Local\\Temp\\ipykernel_2812\\365118819.py:58: FutureWarning: DataFrame.applymap has been deprecated. Use DataFrame.map instead.\n",
      "  df_dim_atrezzo = df_dim_atrezzo.applymap(lambda x: x.replace(\"\\n\",\"\").replace(\"(cm)\",\"\")).astype(int)\n",
      "C:\\Users\\jaime\\AppData\\Local\\Temp\\ipykernel_2812\\365118819.py:31: FutureWarning: DataFrame.applymap has been deprecated. Use DataFrame.map instead.\n",
      "  df_cat_atrezzo = df_cat_atrezzo.applymap(lambda x: x.replace(\"\\n\",\"\"))\n",
      "C:\\Users\\jaime\\AppData\\Local\\Temp\\ipykernel_2812\\365118819.py:40: FutureWarning: DataFrame.applymap has been deprecated. Use DataFrame.map instead.\n",
      "  df_sec_atrezzo = df_sec_atrezzo.applymap(lambda x: x.replace(\"\\n\",\"\"))\n",
      "C:\\Users\\jaime\\AppData\\Local\\Temp\\ipykernel_2812\\365118819.py:49: FutureWarning: DataFrame.applymap has been deprecated. Use DataFrame.map instead.\n",
      "  df_des_atrezzo = df_des_atrezzo.applymap(lambda x: x.replace(\"\\n\",\"\"))\n",
      "C:\\Users\\jaime\\AppData\\Local\\Temp\\ipykernel_2812\\365118819.py:58: FutureWarning: DataFrame.applymap has been deprecated. Use DataFrame.map instead.\n",
      "  df_dim_atrezzo = df_dim_atrezzo.applymap(lambda x: x.replace(\"\\n\",\"\").replace(\"(cm)\",\"\")).astype(int)\n",
      "C:\\Users\\jaime\\AppData\\Local\\Temp\\ipykernel_2812\\365118819.py:31: FutureWarning: DataFrame.applymap has been deprecated. Use DataFrame.map instead.\n",
      "  df_cat_atrezzo = df_cat_atrezzo.applymap(lambda x: x.replace(\"\\n\",\"\"))\n",
      "C:\\Users\\jaime\\AppData\\Local\\Temp\\ipykernel_2812\\365118819.py:40: FutureWarning: DataFrame.applymap has been deprecated. Use DataFrame.map instead.\n",
      "  df_sec_atrezzo = df_sec_atrezzo.applymap(lambda x: x.replace(\"\\n\",\"\"))\n",
      "C:\\Users\\jaime\\AppData\\Local\\Temp\\ipykernel_2812\\365118819.py:49: FutureWarning: DataFrame.applymap has been deprecated. Use DataFrame.map instead.\n",
      "  df_des_atrezzo = df_des_atrezzo.applymap(lambda x: x.replace(\"\\n\",\"\"))\n",
      "C:\\Users\\jaime\\AppData\\Local\\Temp\\ipykernel_2812\\365118819.py:58: FutureWarning: DataFrame.applymap has been deprecated. Use DataFrame.map instead.\n",
      "  df_dim_atrezzo = df_dim_atrezzo.applymap(lambda x: x.replace(\"\\n\",\"\").replace(\"(cm)\",\"\")).astype(int)\n",
      "C:\\Users\\jaime\\AppData\\Local\\Temp\\ipykernel_2812\\365118819.py:31: FutureWarning: DataFrame.applymap has been deprecated. Use DataFrame.map instead.\n",
      "  df_cat_atrezzo = df_cat_atrezzo.applymap(lambda x: x.replace(\"\\n\",\"\"))\n",
      "C:\\Users\\jaime\\AppData\\Local\\Temp\\ipykernel_2812\\365118819.py:40: FutureWarning: DataFrame.applymap has been deprecated. Use DataFrame.map instead.\n",
      "  df_sec_atrezzo = df_sec_atrezzo.applymap(lambda x: x.replace(\"\\n\",\"\"))\n",
      "C:\\Users\\jaime\\AppData\\Local\\Temp\\ipykernel_2812\\365118819.py:49: FutureWarning: DataFrame.applymap has been deprecated. Use DataFrame.map instead.\n",
      "  df_des_atrezzo = df_des_atrezzo.applymap(lambda x: x.replace(\"\\n\",\"\"))\n",
      "C:\\Users\\jaime\\AppData\\Local\\Temp\\ipykernel_2812\\365118819.py:58: FutureWarning: DataFrame.applymap has been deprecated. Use DataFrame.map instead.\n",
      "  df_dim_atrezzo = df_dim_atrezzo.applymap(lambda x: x.replace(\"\\n\",\"\").replace(\"(cm)\",\"\")).astype(int)\n",
      "C:\\Users\\jaime\\AppData\\Local\\Temp\\ipykernel_2812\\365118819.py:31: FutureWarning: DataFrame.applymap has been deprecated. Use DataFrame.map instead.\n",
      "  df_cat_atrezzo = df_cat_atrezzo.applymap(lambda x: x.replace(\"\\n\",\"\"))\n",
      "C:\\Users\\jaime\\AppData\\Local\\Temp\\ipykernel_2812\\365118819.py:40: FutureWarning: DataFrame.applymap has been deprecated. Use DataFrame.map instead.\n",
      "  df_sec_atrezzo = df_sec_atrezzo.applymap(lambda x: x.replace(\"\\n\",\"\"))\n",
      "C:\\Users\\jaime\\AppData\\Local\\Temp\\ipykernel_2812\\365118819.py:49: FutureWarning: DataFrame.applymap has been deprecated. Use DataFrame.map instead.\n",
      "  df_des_atrezzo = df_des_atrezzo.applymap(lambda x: x.replace(\"\\n\",\"\"))\n",
      "C:\\Users\\jaime\\AppData\\Local\\Temp\\ipykernel_2812\\365118819.py:58: FutureWarning: DataFrame.applymap has been deprecated. Use DataFrame.map instead.\n",
      "  df_dim_atrezzo = df_dim_atrezzo.applymap(lambda x: x.replace(\"\\n\",\"\").replace(\"(cm)\",\"\")).astype(int)\n",
      "C:\\Users\\jaime\\AppData\\Local\\Temp\\ipykernel_2812\\365118819.py:31: FutureWarning: DataFrame.applymap has been deprecated. Use DataFrame.map instead.\n",
      "  df_cat_atrezzo = df_cat_atrezzo.applymap(lambda x: x.replace(\"\\n\",\"\"))\n",
      "C:\\Users\\jaime\\AppData\\Local\\Temp\\ipykernel_2812\\365118819.py:40: FutureWarning: DataFrame.applymap has been deprecated. Use DataFrame.map instead.\n",
      "  df_sec_atrezzo = df_sec_atrezzo.applymap(lambda x: x.replace(\"\\n\",\"\"))\n",
      "C:\\Users\\jaime\\AppData\\Local\\Temp\\ipykernel_2812\\365118819.py:49: FutureWarning: DataFrame.applymap has been deprecated. Use DataFrame.map instead.\n",
      "  df_des_atrezzo = df_des_atrezzo.applymap(lambda x: x.replace(\"\\n\",\"\"))\n",
      "C:\\Users\\jaime\\AppData\\Local\\Temp\\ipykernel_2812\\365118819.py:58: FutureWarning: DataFrame.applymap has been deprecated. Use DataFrame.map instead.\n",
      "  df_dim_atrezzo = df_dim_atrezzo.applymap(lambda x: x.replace(\"\\n\",\"\").replace(\"(cm)\",\"\")).astype(int)\n",
      "C:\\Users\\jaime\\AppData\\Local\\Temp\\ipykernel_2812\\365118819.py:31: FutureWarning: DataFrame.applymap has been deprecated. Use DataFrame.map instead.\n",
      "  df_cat_atrezzo = df_cat_atrezzo.applymap(lambda x: x.replace(\"\\n\",\"\"))\n",
      "C:\\Users\\jaime\\AppData\\Local\\Temp\\ipykernel_2812\\365118819.py:40: FutureWarning: DataFrame.applymap has been deprecated. Use DataFrame.map instead.\n",
      "  df_sec_atrezzo = df_sec_atrezzo.applymap(lambda x: x.replace(\"\\n\",\"\"))\n",
      "C:\\Users\\jaime\\AppData\\Local\\Temp\\ipykernel_2812\\365118819.py:49: FutureWarning: DataFrame.applymap has been deprecated. Use DataFrame.map instead.\n",
      "  df_des_atrezzo = df_des_atrezzo.applymap(lambda x: x.replace(\"\\n\",\"\"))\n",
      "C:\\Users\\jaime\\AppData\\Local\\Temp\\ipykernel_2812\\365118819.py:58: FutureWarning: DataFrame.applymap has been deprecated. Use DataFrame.map instead.\n",
      "  df_dim_atrezzo = df_dim_atrezzo.applymap(lambda x: x.replace(\"\\n\",\"\").replace(\"(cm)\",\"\")).astype(int)\n",
      "C:\\Users\\jaime\\AppData\\Local\\Temp\\ipykernel_2812\\365118819.py:31: FutureWarning: DataFrame.applymap has been deprecated. Use DataFrame.map instead.\n",
      "  df_cat_atrezzo = df_cat_atrezzo.applymap(lambda x: x.replace(\"\\n\",\"\"))\n",
      "C:\\Users\\jaime\\AppData\\Local\\Temp\\ipykernel_2812\\365118819.py:40: FutureWarning: DataFrame.applymap has been deprecated. Use DataFrame.map instead.\n",
      "  df_sec_atrezzo = df_sec_atrezzo.applymap(lambda x: x.replace(\"\\n\",\"\"))\n",
      "C:\\Users\\jaime\\AppData\\Local\\Temp\\ipykernel_2812\\365118819.py:49: FutureWarning: DataFrame.applymap has been deprecated. Use DataFrame.map instead.\n",
      "  df_des_atrezzo = df_des_atrezzo.applymap(lambda x: x.replace(\"\\n\",\"\"))\n",
      "C:\\Users\\jaime\\AppData\\Local\\Temp\\ipykernel_2812\\365118819.py:58: FutureWarning: DataFrame.applymap has been deprecated. Use DataFrame.map instead.\n",
      "  df_dim_atrezzo = df_dim_atrezzo.applymap(lambda x: x.replace(\"\\n\",\"\").replace(\"(cm)\",\"\")).astype(int)\n",
      "C:\\Users\\jaime\\AppData\\Local\\Temp\\ipykernel_2812\\365118819.py:31: FutureWarning: DataFrame.applymap has been deprecated. Use DataFrame.map instead.\n",
      "  df_cat_atrezzo = df_cat_atrezzo.applymap(lambda x: x.replace(\"\\n\",\"\"))\n",
      "C:\\Users\\jaime\\AppData\\Local\\Temp\\ipykernel_2812\\365118819.py:40: FutureWarning: DataFrame.applymap has been deprecated. Use DataFrame.map instead.\n",
      "  df_sec_atrezzo = df_sec_atrezzo.applymap(lambda x: x.replace(\"\\n\",\"\"))\n",
      "C:\\Users\\jaime\\AppData\\Local\\Temp\\ipykernel_2812\\365118819.py:49: FutureWarning: DataFrame.applymap has been deprecated. Use DataFrame.map instead.\n",
      "  df_des_atrezzo = df_des_atrezzo.applymap(lambda x: x.replace(\"\\n\",\"\"))\n",
      "C:\\Users\\jaime\\AppData\\Local\\Temp\\ipykernel_2812\\365118819.py:58: FutureWarning: DataFrame.applymap has been deprecated. Use DataFrame.map instead.\n",
      "  df_dim_atrezzo = df_dim_atrezzo.applymap(lambda x: x.replace(\"\\n\",\"\").replace(\"(cm)\",\"\")).astype(int)\n",
      "C:\\Users\\jaime\\AppData\\Local\\Temp\\ipykernel_2812\\365118819.py:31: FutureWarning: DataFrame.applymap has been deprecated. Use DataFrame.map instead.\n",
      "  df_cat_atrezzo = df_cat_atrezzo.applymap(lambda x: x.replace(\"\\n\",\"\"))\n",
      "C:\\Users\\jaime\\AppData\\Local\\Temp\\ipykernel_2812\\365118819.py:40: FutureWarning: DataFrame.applymap has been deprecated. Use DataFrame.map instead.\n",
      "  df_sec_atrezzo = df_sec_atrezzo.applymap(lambda x: x.replace(\"\\n\",\"\"))\n",
      "C:\\Users\\jaime\\AppData\\Local\\Temp\\ipykernel_2812\\365118819.py:49: FutureWarning: DataFrame.applymap has been deprecated. Use DataFrame.map instead.\n",
      "  df_des_atrezzo = df_des_atrezzo.applymap(lambda x: x.replace(\"\\n\",\"\"))\n",
      "C:\\Users\\jaime\\AppData\\Local\\Temp\\ipykernel_2812\\365118819.py:58: FutureWarning: DataFrame.applymap has been deprecated. Use DataFrame.map instead.\n",
      "  df_dim_atrezzo = df_dim_atrezzo.applymap(lambda x: x.replace(\"\\n\",\"\").replace(\"(cm)\",\"\")).astype(int)\n",
      "C:\\Users\\jaime\\AppData\\Local\\Temp\\ipykernel_2812\\365118819.py:31: FutureWarning: DataFrame.applymap has been deprecated. Use DataFrame.map instead.\n",
      "  df_cat_atrezzo = df_cat_atrezzo.applymap(lambda x: x.replace(\"\\n\",\"\"))\n",
      "C:\\Users\\jaime\\AppData\\Local\\Temp\\ipykernel_2812\\365118819.py:40: FutureWarning: DataFrame.applymap has been deprecated. Use DataFrame.map instead.\n",
      "  df_sec_atrezzo = df_sec_atrezzo.applymap(lambda x: x.replace(\"\\n\",\"\"))\n",
      "C:\\Users\\jaime\\AppData\\Local\\Temp\\ipykernel_2812\\365118819.py:49: FutureWarning: DataFrame.applymap has been deprecated. Use DataFrame.map instead.\n",
      "  df_des_atrezzo = df_des_atrezzo.applymap(lambda x: x.replace(\"\\n\",\"\"))\n",
      "C:\\Users\\jaime\\AppData\\Local\\Temp\\ipykernel_2812\\365118819.py:58: FutureWarning: DataFrame.applymap has been deprecated. Use DataFrame.map instead.\n",
      "  df_dim_atrezzo = df_dim_atrezzo.applymap(lambda x: x.replace(\"\\n\",\"\").replace(\"(cm)\",\"\")).astype(int)\n",
      "C:\\Users\\jaime\\AppData\\Local\\Temp\\ipykernel_2812\\365118819.py:31: FutureWarning: DataFrame.applymap has been deprecated. Use DataFrame.map instead.\n",
      "  df_cat_atrezzo = df_cat_atrezzo.applymap(lambda x: x.replace(\"\\n\",\"\"))\n",
      "C:\\Users\\jaime\\AppData\\Local\\Temp\\ipykernel_2812\\365118819.py:40: FutureWarning: DataFrame.applymap has been deprecated. Use DataFrame.map instead.\n",
      "  df_sec_atrezzo = df_sec_atrezzo.applymap(lambda x: x.replace(\"\\n\",\"\"))\n",
      "C:\\Users\\jaime\\AppData\\Local\\Temp\\ipykernel_2812\\365118819.py:49: FutureWarning: DataFrame.applymap has been deprecated. Use DataFrame.map instead.\n",
      "  df_des_atrezzo = df_des_atrezzo.applymap(lambda x: x.replace(\"\\n\",\"\"))\n",
      "C:\\Users\\jaime\\AppData\\Local\\Temp\\ipykernel_2812\\365118819.py:58: FutureWarning: DataFrame.applymap has been deprecated. Use DataFrame.map instead.\n",
      "  df_dim_atrezzo = df_dim_atrezzo.applymap(lambda x: x.replace(\"\\n\",\"\").replace(\"(cm)\",\"\")).astype(int)\n",
      "C:\\Users\\jaime\\AppData\\Local\\Temp\\ipykernel_2812\\365118819.py:31: FutureWarning: DataFrame.applymap has been deprecated. Use DataFrame.map instead.\n",
      "  df_cat_atrezzo = df_cat_atrezzo.applymap(lambda x: x.replace(\"\\n\",\"\"))\n",
      "C:\\Users\\jaime\\AppData\\Local\\Temp\\ipykernel_2812\\365118819.py:40: FutureWarning: DataFrame.applymap has been deprecated. Use DataFrame.map instead.\n",
      "  df_sec_atrezzo = df_sec_atrezzo.applymap(lambda x: x.replace(\"\\n\",\"\"))\n",
      "C:\\Users\\jaime\\AppData\\Local\\Temp\\ipykernel_2812\\365118819.py:49: FutureWarning: DataFrame.applymap has been deprecated. Use DataFrame.map instead.\n",
      "  df_des_atrezzo = df_des_atrezzo.applymap(lambda x: x.replace(\"\\n\",\"\"))\n",
      "C:\\Users\\jaime\\AppData\\Local\\Temp\\ipykernel_2812\\365118819.py:58: FutureWarning: DataFrame.applymap has been deprecated. Use DataFrame.map instead.\n",
      "  df_dim_atrezzo = df_dim_atrezzo.applymap(lambda x: x.replace(\"\\n\",\"\").replace(\"(cm)\",\"\")).astype(int)\n",
      "C:\\Users\\jaime\\AppData\\Local\\Temp\\ipykernel_2812\\365118819.py:31: FutureWarning: DataFrame.applymap has been deprecated. Use DataFrame.map instead.\n",
      "  df_cat_atrezzo = df_cat_atrezzo.applymap(lambda x: x.replace(\"\\n\",\"\"))\n",
      "C:\\Users\\jaime\\AppData\\Local\\Temp\\ipykernel_2812\\365118819.py:40: FutureWarning: DataFrame.applymap has been deprecated. Use DataFrame.map instead.\n",
      "  df_sec_atrezzo = df_sec_atrezzo.applymap(lambda x: x.replace(\"\\n\",\"\"))\n",
      "C:\\Users\\jaime\\AppData\\Local\\Temp\\ipykernel_2812\\365118819.py:49: FutureWarning: DataFrame.applymap has been deprecated. Use DataFrame.map instead.\n",
      "  df_des_atrezzo = df_des_atrezzo.applymap(lambda x: x.replace(\"\\n\",\"\"))\n",
      "C:\\Users\\jaime\\AppData\\Local\\Temp\\ipykernel_2812\\365118819.py:58: FutureWarning: DataFrame.applymap has been deprecated. Use DataFrame.map instead.\n",
      "  df_dim_atrezzo = df_dim_atrezzo.applymap(lambda x: x.replace(\"\\n\",\"\").replace(\"(cm)\",\"\")).astype(int)\n",
      "C:\\Users\\jaime\\AppData\\Local\\Temp\\ipykernel_2812\\365118819.py:31: FutureWarning: DataFrame.applymap has been deprecated. Use DataFrame.map instead.\n",
      "  df_cat_atrezzo = df_cat_atrezzo.applymap(lambda x: x.replace(\"\\n\",\"\"))\n",
      "C:\\Users\\jaime\\AppData\\Local\\Temp\\ipykernel_2812\\365118819.py:40: FutureWarning: DataFrame.applymap has been deprecated. Use DataFrame.map instead.\n",
      "  df_sec_atrezzo = df_sec_atrezzo.applymap(lambda x: x.replace(\"\\n\",\"\"))\n",
      "C:\\Users\\jaime\\AppData\\Local\\Temp\\ipykernel_2812\\365118819.py:49: FutureWarning: DataFrame.applymap has been deprecated. Use DataFrame.map instead.\n",
      "  df_des_atrezzo = df_des_atrezzo.applymap(lambda x: x.replace(\"\\n\",\"\"))\n",
      "C:\\Users\\jaime\\AppData\\Local\\Temp\\ipykernel_2812\\365118819.py:58: FutureWarning: DataFrame.applymap has been deprecated. Use DataFrame.map instead.\n",
      "  df_dim_atrezzo = df_dim_atrezzo.applymap(lambda x: x.replace(\"\\n\",\"\").replace(\"(cm)\",\"\")).astype(int)\n",
      "C:\\Users\\jaime\\AppData\\Local\\Temp\\ipykernel_2812\\365118819.py:31: FutureWarning: DataFrame.applymap has been deprecated. Use DataFrame.map instead.\n",
      "  df_cat_atrezzo = df_cat_atrezzo.applymap(lambda x: x.replace(\"\\n\",\"\"))\n",
      "C:\\Users\\jaime\\AppData\\Local\\Temp\\ipykernel_2812\\365118819.py:40: FutureWarning: DataFrame.applymap has been deprecated. Use DataFrame.map instead.\n",
      "  df_sec_atrezzo = df_sec_atrezzo.applymap(lambda x: x.replace(\"\\n\",\"\"))\n",
      "C:\\Users\\jaime\\AppData\\Local\\Temp\\ipykernel_2812\\365118819.py:49: FutureWarning: DataFrame.applymap has been deprecated. Use DataFrame.map instead.\n",
      "  df_des_atrezzo = df_des_atrezzo.applymap(lambda x: x.replace(\"\\n\",\"\"))\n",
      "C:\\Users\\jaime\\AppData\\Local\\Temp\\ipykernel_2812\\365118819.py:58: FutureWarning: DataFrame.applymap has been deprecated. Use DataFrame.map instead.\n",
      "  df_dim_atrezzo = df_dim_atrezzo.applymap(lambda x: x.replace(\"\\n\",\"\").replace(\"(cm)\",\"\")).astype(int)\n",
      "C:\\Users\\jaime\\AppData\\Local\\Temp\\ipykernel_2812\\365118819.py:31: FutureWarning: DataFrame.applymap has been deprecated. Use DataFrame.map instead.\n",
      "  df_cat_atrezzo = df_cat_atrezzo.applymap(lambda x: x.replace(\"\\n\",\"\"))\n",
      "C:\\Users\\jaime\\AppData\\Local\\Temp\\ipykernel_2812\\365118819.py:40: FutureWarning: DataFrame.applymap has been deprecated. Use DataFrame.map instead.\n",
      "  df_sec_atrezzo = df_sec_atrezzo.applymap(lambda x: x.replace(\"\\n\",\"\"))\n",
      "C:\\Users\\jaime\\AppData\\Local\\Temp\\ipykernel_2812\\365118819.py:49: FutureWarning: DataFrame.applymap has been deprecated. Use DataFrame.map instead.\n",
      "  df_des_atrezzo = df_des_atrezzo.applymap(lambda x: x.replace(\"\\n\",\"\"))\n",
      "C:\\Users\\jaime\\AppData\\Local\\Temp\\ipykernel_2812\\365118819.py:58: FutureWarning: DataFrame.applymap has been deprecated. Use DataFrame.map instead.\n",
      "  df_dim_atrezzo = df_dim_atrezzo.applymap(lambda x: x.replace(\"\\n\",\"\").replace(\"(cm)\",\"\")).astype(int)\n",
      "C:\\Users\\jaime\\AppData\\Local\\Temp\\ipykernel_2812\\365118819.py:31: FutureWarning: DataFrame.applymap has been deprecated. Use DataFrame.map instead.\n",
      "  df_cat_atrezzo = df_cat_atrezzo.applymap(lambda x: x.replace(\"\\n\",\"\"))\n",
      "C:\\Users\\jaime\\AppData\\Local\\Temp\\ipykernel_2812\\365118819.py:40: FutureWarning: DataFrame.applymap has been deprecated. Use DataFrame.map instead.\n",
      "  df_sec_atrezzo = df_sec_atrezzo.applymap(lambda x: x.replace(\"\\n\",\"\"))\n",
      "C:\\Users\\jaime\\AppData\\Local\\Temp\\ipykernel_2812\\365118819.py:49: FutureWarning: DataFrame.applymap has been deprecated. Use DataFrame.map instead.\n",
      "  df_des_atrezzo = df_des_atrezzo.applymap(lambda x: x.replace(\"\\n\",\"\"))\n",
      "C:\\Users\\jaime\\AppData\\Local\\Temp\\ipykernel_2812\\365118819.py:58: FutureWarning: DataFrame.applymap has been deprecated. Use DataFrame.map instead.\n",
      "  df_dim_atrezzo = df_dim_atrezzo.applymap(lambda x: x.replace(\"\\n\",\"\").replace(\"(cm)\",\"\")).astype(int)\n",
      "C:\\Users\\jaime\\AppData\\Local\\Temp\\ipykernel_2812\\365118819.py:31: FutureWarning: DataFrame.applymap has been deprecated. Use DataFrame.map instead.\n",
      "  df_cat_atrezzo = df_cat_atrezzo.applymap(lambda x: x.replace(\"\\n\",\"\"))\n",
      "C:\\Users\\jaime\\AppData\\Local\\Temp\\ipykernel_2812\\365118819.py:40: FutureWarning: DataFrame.applymap has been deprecated. Use DataFrame.map instead.\n",
      "  df_sec_atrezzo = df_sec_atrezzo.applymap(lambda x: x.replace(\"\\n\",\"\"))\n",
      "C:\\Users\\jaime\\AppData\\Local\\Temp\\ipykernel_2812\\365118819.py:49: FutureWarning: DataFrame.applymap has been deprecated. Use DataFrame.map instead.\n",
      "  df_des_atrezzo = df_des_atrezzo.applymap(lambda x: x.replace(\"\\n\",\"\"))\n",
      "C:\\Users\\jaime\\AppData\\Local\\Temp\\ipykernel_2812\\365118819.py:58: FutureWarning: DataFrame.applymap has been deprecated. Use DataFrame.map instead.\n",
      "  df_dim_atrezzo = df_dim_atrezzo.applymap(lambda x: x.replace(\"\\n\",\"\").replace(\"(cm)\",\"\")).astype(int)\n",
      "C:\\Users\\jaime\\AppData\\Local\\Temp\\ipykernel_2812\\365118819.py:31: FutureWarning: DataFrame.applymap has been deprecated. Use DataFrame.map instead.\n",
      "  df_cat_atrezzo = df_cat_atrezzo.applymap(lambda x: x.replace(\"\\n\",\"\"))\n",
      "C:\\Users\\jaime\\AppData\\Local\\Temp\\ipykernel_2812\\365118819.py:40: FutureWarning: DataFrame.applymap has been deprecated. Use DataFrame.map instead.\n",
      "  df_sec_atrezzo = df_sec_atrezzo.applymap(lambda x: x.replace(\"\\n\",\"\"))\n",
      "C:\\Users\\jaime\\AppData\\Local\\Temp\\ipykernel_2812\\365118819.py:49: FutureWarning: DataFrame.applymap has been deprecated. Use DataFrame.map instead.\n",
      "  df_des_atrezzo = df_des_atrezzo.applymap(lambda x: x.replace(\"\\n\",\"\"))\n",
      "C:\\Users\\jaime\\AppData\\Local\\Temp\\ipykernel_2812\\365118819.py:58: FutureWarning: DataFrame.applymap has been deprecated. Use DataFrame.map instead.\n",
      "  df_dim_atrezzo = df_dim_atrezzo.applymap(lambda x: x.replace(\"\\n\",\"\").replace(\"(cm)\",\"\")).astype(int)\n",
      "C:\\Users\\jaime\\AppData\\Local\\Temp\\ipykernel_2812\\365118819.py:31: FutureWarning: DataFrame.applymap has been deprecated. Use DataFrame.map instead.\n",
      "  df_cat_atrezzo = df_cat_atrezzo.applymap(lambda x: x.replace(\"\\n\",\"\"))\n",
      "C:\\Users\\jaime\\AppData\\Local\\Temp\\ipykernel_2812\\365118819.py:40: FutureWarning: DataFrame.applymap has been deprecated. Use DataFrame.map instead.\n",
      "  df_sec_atrezzo = df_sec_atrezzo.applymap(lambda x: x.replace(\"\\n\",\"\"))\n",
      "C:\\Users\\jaime\\AppData\\Local\\Temp\\ipykernel_2812\\365118819.py:49: FutureWarning: DataFrame.applymap has been deprecated. Use DataFrame.map instead.\n",
      "  df_des_atrezzo = df_des_atrezzo.applymap(lambda x: x.replace(\"\\n\",\"\"))\n",
      "C:\\Users\\jaime\\AppData\\Local\\Temp\\ipykernel_2812\\365118819.py:58: FutureWarning: DataFrame.applymap has been deprecated. Use DataFrame.map instead.\n",
      "  df_dim_atrezzo = df_dim_atrezzo.applymap(lambda x: x.replace(\"\\n\",\"\").replace(\"(cm)\",\"\")).astype(int)\n",
      "C:\\Users\\jaime\\AppData\\Local\\Temp\\ipykernel_2812\\365118819.py:31: FutureWarning: DataFrame.applymap has been deprecated. Use DataFrame.map instead.\n",
      "  df_cat_atrezzo = df_cat_atrezzo.applymap(lambda x: x.replace(\"\\n\",\"\"))\n",
      "C:\\Users\\jaime\\AppData\\Local\\Temp\\ipykernel_2812\\365118819.py:40: FutureWarning: DataFrame.applymap has been deprecated. Use DataFrame.map instead.\n",
      "  df_sec_atrezzo = df_sec_atrezzo.applymap(lambda x: x.replace(\"\\n\",\"\"))\n",
      "C:\\Users\\jaime\\AppData\\Local\\Temp\\ipykernel_2812\\365118819.py:49: FutureWarning: DataFrame.applymap has been deprecated. Use DataFrame.map instead.\n",
      "  df_des_atrezzo = df_des_atrezzo.applymap(lambda x: x.replace(\"\\n\",\"\"))\n",
      "C:\\Users\\jaime\\AppData\\Local\\Temp\\ipykernel_2812\\365118819.py:58: FutureWarning: DataFrame.applymap has been deprecated. Use DataFrame.map instead.\n",
      "  df_dim_atrezzo = df_dim_atrezzo.applymap(lambda x: x.replace(\"\\n\",\"\").replace(\"(cm)\",\"\")).astype(int)\n",
      "C:\\Users\\jaime\\AppData\\Local\\Temp\\ipykernel_2812\\365118819.py:31: FutureWarning: DataFrame.applymap has been deprecated. Use DataFrame.map instead.\n",
      "  df_cat_atrezzo = df_cat_atrezzo.applymap(lambda x: x.replace(\"\\n\",\"\"))\n",
      "C:\\Users\\jaime\\AppData\\Local\\Temp\\ipykernel_2812\\365118819.py:40: FutureWarning: DataFrame.applymap has been deprecated. Use DataFrame.map instead.\n",
      "  df_sec_atrezzo = df_sec_atrezzo.applymap(lambda x: x.replace(\"\\n\",\"\"))\n",
      "C:\\Users\\jaime\\AppData\\Local\\Temp\\ipykernel_2812\\365118819.py:49: FutureWarning: DataFrame.applymap has been deprecated. Use DataFrame.map instead.\n",
      "  df_des_atrezzo = df_des_atrezzo.applymap(lambda x: x.replace(\"\\n\",\"\"))\n",
      "C:\\Users\\jaime\\AppData\\Local\\Temp\\ipykernel_2812\\365118819.py:58: FutureWarning: DataFrame.applymap has been deprecated. Use DataFrame.map instead.\n",
      "  df_dim_atrezzo = df_dim_atrezzo.applymap(lambda x: x.replace(\"\\n\",\"\").replace(\"(cm)\",\"\")).astype(int)\n",
      "C:\\Users\\jaime\\AppData\\Local\\Temp\\ipykernel_2812\\365118819.py:31: FutureWarning: DataFrame.applymap has been deprecated. Use DataFrame.map instead.\n",
      "  df_cat_atrezzo = df_cat_atrezzo.applymap(lambda x: x.replace(\"\\n\",\"\"))\n",
      "C:\\Users\\jaime\\AppData\\Local\\Temp\\ipykernel_2812\\365118819.py:40: FutureWarning: DataFrame.applymap has been deprecated. Use DataFrame.map instead.\n",
      "  df_sec_atrezzo = df_sec_atrezzo.applymap(lambda x: x.replace(\"\\n\",\"\"))\n",
      "C:\\Users\\jaime\\AppData\\Local\\Temp\\ipykernel_2812\\365118819.py:49: FutureWarning: DataFrame.applymap has been deprecated. Use DataFrame.map instead.\n",
      "  df_des_atrezzo = df_des_atrezzo.applymap(lambda x: x.replace(\"\\n\",\"\"))\n",
      "C:\\Users\\jaime\\AppData\\Local\\Temp\\ipykernel_2812\\365118819.py:58: FutureWarning: DataFrame.applymap has been deprecated. Use DataFrame.map instead.\n",
      "  df_dim_atrezzo = df_dim_atrezzo.applymap(lambda x: x.replace(\"\\n\",\"\").replace(\"(cm)\",\"\")).astype(int)\n",
      "C:\\Users\\jaime\\AppData\\Local\\Temp\\ipykernel_2812\\365118819.py:31: FutureWarning: DataFrame.applymap has been deprecated. Use DataFrame.map instead.\n",
      "  df_cat_atrezzo = df_cat_atrezzo.applymap(lambda x: x.replace(\"\\n\",\"\"))\n",
      "C:\\Users\\jaime\\AppData\\Local\\Temp\\ipykernel_2812\\365118819.py:40: FutureWarning: DataFrame.applymap has been deprecated. Use DataFrame.map instead.\n",
      "  df_sec_atrezzo = df_sec_atrezzo.applymap(lambda x: x.replace(\"\\n\",\"\"))\n",
      "C:\\Users\\jaime\\AppData\\Local\\Temp\\ipykernel_2812\\365118819.py:49: FutureWarning: DataFrame.applymap has been deprecated. Use DataFrame.map instead.\n",
      "  df_des_atrezzo = df_des_atrezzo.applymap(lambda x: x.replace(\"\\n\",\"\"))\n",
      "C:\\Users\\jaime\\AppData\\Local\\Temp\\ipykernel_2812\\365118819.py:58: FutureWarning: DataFrame.applymap has been deprecated. Use DataFrame.map instead.\n",
      "  df_dim_atrezzo = df_dim_atrezzo.applymap(lambda x: x.replace(\"\\n\",\"\").replace(\"(cm)\",\"\")).astype(int)\n",
      "C:\\Users\\jaime\\AppData\\Local\\Temp\\ipykernel_2812\\365118819.py:31: FutureWarning: DataFrame.applymap has been deprecated. Use DataFrame.map instead.\n",
      "  df_cat_atrezzo = df_cat_atrezzo.applymap(lambda x: x.replace(\"\\n\",\"\"))\n",
      "C:\\Users\\jaime\\AppData\\Local\\Temp\\ipykernel_2812\\365118819.py:40: FutureWarning: DataFrame.applymap has been deprecated. Use DataFrame.map instead.\n",
      "  df_sec_atrezzo = df_sec_atrezzo.applymap(lambda x: x.replace(\"\\n\",\"\"))\n",
      "C:\\Users\\jaime\\AppData\\Local\\Temp\\ipykernel_2812\\365118819.py:49: FutureWarning: DataFrame.applymap has been deprecated. Use DataFrame.map instead.\n",
      "  df_des_atrezzo = df_des_atrezzo.applymap(lambda x: x.replace(\"\\n\",\"\"))\n",
      "C:\\Users\\jaime\\AppData\\Local\\Temp\\ipykernel_2812\\365118819.py:58: FutureWarning: DataFrame.applymap has been deprecated. Use DataFrame.map instead.\n",
      "  df_dim_atrezzo = df_dim_atrezzo.applymap(lambda x: x.replace(\"\\n\",\"\").replace(\"(cm)\",\"\")).astype(int)\n",
      "C:\\Users\\jaime\\AppData\\Local\\Temp\\ipykernel_2812\\365118819.py:31: FutureWarning: DataFrame.applymap has been deprecated. Use DataFrame.map instead.\n",
      "  df_cat_atrezzo = df_cat_atrezzo.applymap(lambda x: x.replace(\"\\n\",\"\"))\n",
      "C:\\Users\\jaime\\AppData\\Local\\Temp\\ipykernel_2812\\365118819.py:40: FutureWarning: DataFrame.applymap has been deprecated. Use DataFrame.map instead.\n",
      "  df_sec_atrezzo = df_sec_atrezzo.applymap(lambda x: x.replace(\"\\n\",\"\"))\n",
      "C:\\Users\\jaime\\AppData\\Local\\Temp\\ipykernel_2812\\365118819.py:49: FutureWarning: DataFrame.applymap has been deprecated. Use DataFrame.map instead.\n",
      "  df_des_atrezzo = df_des_atrezzo.applymap(lambda x: x.replace(\"\\n\",\"\"))\n",
      "C:\\Users\\jaime\\AppData\\Local\\Temp\\ipykernel_2812\\365118819.py:58: FutureWarning: DataFrame.applymap has been deprecated. Use DataFrame.map instead.\n",
      "  df_dim_atrezzo = df_dim_atrezzo.applymap(lambda x: x.replace(\"\\n\",\"\").replace(\"(cm)\",\"\")).astype(int)\n",
      "C:\\Users\\jaime\\AppData\\Local\\Temp\\ipykernel_2812\\365118819.py:31: FutureWarning: DataFrame.applymap has been deprecated. Use DataFrame.map instead.\n",
      "  df_cat_atrezzo = df_cat_atrezzo.applymap(lambda x: x.replace(\"\\n\",\"\"))\n",
      "C:\\Users\\jaime\\AppData\\Local\\Temp\\ipykernel_2812\\365118819.py:40: FutureWarning: DataFrame.applymap has been deprecated. Use DataFrame.map instead.\n",
      "  df_sec_atrezzo = df_sec_atrezzo.applymap(lambda x: x.replace(\"\\n\",\"\"))\n",
      "C:\\Users\\jaime\\AppData\\Local\\Temp\\ipykernel_2812\\365118819.py:49: FutureWarning: DataFrame.applymap has been deprecated. Use DataFrame.map instead.\n",
      "  df_des_atrezzo = df_des_atrezzo.applymap(lambda x: x.replace(\"\\n\",\"\"))\n",
      "C:\\Users\\jaime\\AppData\\Local\\Temp\\ipykernel_2812\\365118819.py:58: FutureWarning: DataFrame.applymap has been deprecated. Use DataFrame.map instead.\n",
      "  df_dim_atrezzo = df_dim_atrezzo.applymap(lambda x: x.replace(\"\\n\",\"\").replace(\"(cm)\",\"\")).astype(int)\n",
      "C:\\Users\\jaime\\AppData\\Local\\Temp\\ipykernel_2812\\365118819.py:31: FutureWarning: DataFrame.applymap has been deprecated. Use DataFrame.map instead.\n",
      "  df_cat_atrezzo = df_cat_atrezzo.applymap(lambda x: x.replace(\"\\n\",\"\"))\n",
      "C:\\Users\\jaime\\AppData\\Local\\Temp\\ipykernel_2812\\365118819.py:40: FutureWarning: DataFrame.applymap has been deprecated. Use DataFrame.map instead.\n",
      "  df_sec_atrezzo = df_sec_atrezzo.applymap(lambda x: x.replace(\"\\n\",\"\"))\n",
      "C:\\Users\\jaime\\AppData\\Local\\Temp\\ipykernel_2812\\365118819.py:49: FutureWarning: DataFrame.applymap has been deprecated. Use DataFrame.map instead.\n",
      "  df_des_atrezzo = df_des_atrezzo.applymap(lambda x: x.replace(\"\\n\",\"\"))\n",
      "C:\\Users\\jaime\\AppData\\Local\\Temp\\ipykernel_2812\\365118819.py:58: FutureWarning: DataFrame.applymap has been deprecated. Use DataFrame.map instead.\n",
      "  df_dim_atrezzo = df_dim_atrezzo.applymap(lambda x: x.replace(\"\\n\",\"\").replace(\"(cm)\",\"\")).astype(int)\n",
      "C:\\Users\\jaime\\AppData\\Local\\Temp\\ipykernel_2812\\365118819.py:31: FutureWarning: DataFrame.applymap has been deprecated. Use DataFrame.map instead.\n",
      "  df_cat_atrezzo = df_cat_atrezzo.applymap(lambda x: x.replace(\"\\n\",\"\"))\n",
      "C:\\Users\\jaime\\AppData\\Local\\Temp\\ipykernel_2812\\365118819.py:40: FutureWarning: DataFrame.applymap has been deprecated. Use DataFrame.map instead.\n",
      "  df_sec_atrezzo = df_sec_atrezzo.applymap(lambda x: x.replace(\"\\n\",\"\"))\n",
      "C:\\Users\\jaime\\AppData\\Local\\Temp\\ipykernel_2812\\365118819.py:49: FutureWarning: DataFrame.applymap has been deprecated. Use DataFrame.map instead.\n",
      "  df_des_atrezzo = df_des_atrezzo.applymap(lambda x: x.replace(\"\\n\",\"\"))\n",
      "C:\\Users\\jaime\\AppData\\Local\\Temp\\ipykernel_2812\\365118819.py:58: FutureWarning: DataFrame.applymap has been deprecated. Use DataFrame.map instead.\n",
      "  df_dim_atrezzo = df_dim_atrezzo.applymap(lambda x: x.replace(\"\\n\",\"\").replace(\"(cm)\",\"\")).astype(int)\n",
      "C:\\Users\\jaime\\AppData\\Local\\Temp\\ipykernel_2812\\365118819.py:31: FutureWarning: DataFrame.applymap has been deprecated. Use DataFrame.map instead.\n",
      "  df_cat_atrezzo = df_cat_atrezzo.applymap(lambda x: x.replace(\"\\n\",\"\"))\n",
      "C:\\Users\\jaime\\AppData\\Local\\Temp\\ipykernel_2812\\365118819.py:40: FutureWarning: DataFrame.applymap has been deprecated. Use DataFrame.map instead.\n",
      "  df_sec_atrezzo = df_sec_atrezzo.applymap(lambda x: x.replace(\"\\n\",\"\"))\n",
      "C:\\Users\\jaime\\AppData\\Local\\Temp\\ipykernel_2812\\365118819.py:49: FutureWarning: DataFrame.applymap has been deprecated. Use DataFrame.map instead.\n",
      "  df_des_atrezzo = df_des_atrezzo.applymap(lambda x: x.replace(\"\\n\",\"\"))\n",
      "C:\\Users\\jaime\\AppData\\Local\\Temp\\ipykernel_2812\\365118819.py:58: FutureWarning: DataFrame.applymap has been deprecated. Use DataFrame.map instead.\n",
      "  df_dim_atrezzo = df_dim_atrezzo.applymap(lambda x: x.replace(\"\\n\",\"\").replace(\"(cm)\",\"\")).astype(int)\n",
      "C:\\Users\\jaime\\AppData\\Local\\Temp\\ipykernel_2812\\365118819.py:31: FutureWarning: DataFrame.applymap has been deprecated. Use DataFrame.map instead.\n",
      "  df_cat_atrezzo = df_cat_atrezzo.applymap(lambda x: x.replace(\"\\n\",\"\"))\n",
      "C:\\Users\\jaime\\AppData\\Local\\Temp\\ipykernel_2812\\365118819.py:40: FutureWarning: DataFrame.applymap has been deprecated. Use DataFrame.map instead.\n",
      "  df_sec_atrezzo = df_sec_atrezzo.applymap(lambda x: x.replace(\"\\n\",\"\"))\n",
      "C:\\Users\\jaime\\AppData\\Local\\Temp\\ipykernel_2812\\365118819.py:49: FutureWarning: DataFrame.applymap has been deprecated. Use DataFrame.map instead.\n",
      "  df_des_atrezzo = df_des_atrezzo.applymap(lambda x: x.replace(\"\\n\",\"\"))\n",
      "C:\\Users\\jaime\\AppData\\Local\\Temp\\ipykernel_2812\\365118819.py:58: FutureWarning: DataFrame.applymap has been deprecated. Use DataFrame.map instead.\n",
      "  df_dim_atrezzo = df_dim_atrezzo.applymap(lambda x: x.replace(\"\\n\",\"\").replace(\"(cm)\",\"\")).astype(int)\n",
      "C:\\Users\\jaime\\AppData\\Local\\Temp\\ipykernel_2812\\365118819.py:31: FutureWarning: DataFrame.applymap has been deprecated. Use DataFrame.map instead.\n",
      "  df_cat_atrezzo = df_cat_atrezzo.applymap(lambda x: x.replace(\"\\n\",\"\"))\n",
      "C:\\Users\\jaime\\AppData\\Local\\Temp\\ipykernel_2812\\365118819.py:40: FutureWarning: DataFrame.applymap has been deprecated. Use DataFrame.map instead.\n",
      "  df_sec_atrezzo = df_sec_atrezzo.applymap(lambda x: x.replace(\"\\n\",\"\"))\n",
      "C:\\Users\\jaime\\AppData\\Local\\Temp\\ipykernel_2812\\365118819.py:49: FutureWarning: DataFrame.applymap has been deprecated. Use DataFrame.map instead.\n",
      "  df_des_atrezzo = df_des_atrezzo.applymap(lambda x: x.replace(\"\\n\",\"\"))\n",
      "C:\\Users\\jaime\\AppData\\Local\\Temp\\ipykernel_2812\\365118819.py:58: FutureWarning: DataFrame.applymap has been deprecated. Use DataFrame.map instead.\n",
      "  df_dim_atrezzo = df_dim_atrezzo.applymap(lambda x: x.replace(\"\\n\",\"\").replace(\"(cm)\",\"\")).astype(int)\n",
      "C:\\Users\\jaime\\AppData\\Local\\Temp\\ipykernel_2812\\365118819.py:31: FutureWarning: DataFrame.applymap has been deprecated. Use DataFrame.map instead.\n",
      "  df_cat_atrezzo = df_cat_atrezzo.applymap(lambda x: x.replace(\"\\n\",\"\"))\n",
      "C:\\Users\\jaime\\AppData\\Local\\Temp\\ipykernel_2812\\365118819.py:40: FutureWarning: DataFrame.applymap has been deprecated. Use DataFrame.map instead.\n",
      "  df_sec_atrezzo = df_sec_atrezzo.applymap(lambda x: x.replace(\"\\n\",\"\"))\n",
      "C:\\Users\\jaime\\AppData\\Local\\Temp\\ipykernel_2812\\365118819.py:49: FutureWarning: DataFrame.applymap has been deprecated. Use DataFrame.map instead.\n",
      "  df_des_atrezzo = df_des_atrezzo.applymap(lambda x: x.replace(\"\\n\",\"\"))\n",
      "C:\\Users\\jaime\\AppData\\Local\\Temp\\ipykernel_2812\\365118819.py:58: FutureWarning: DataFrame.applymap has been deprecated. Use DataFrame.map instead.\n",
      "  df_dim_atrezzo = df_dim_atrezzo.applymap(lambda x: x.replace(\"\\n\",\"\").replace(\"(cm)\",\"\")).astype(int)\n",
      "C:\\Users\\jaime\\AppData\\Local\\Temp\\ipykernel_2812\\365118819.py:31: FutureWarning: DataFrame.applymap has been deprecated. Use DataFrame.map instead.\n",
      "  df_cat_atrezzo = df_cat_atrezzo.applymap(lambda x: x.replace(\"\\n\",\"\"))\n",
      "C:\\Users\\jaime\\AppData\\Local\\Temp\\ipykernel_2812\\365118819.py:40: FutureWarning: DataFrame.applymap has been deprecated. Use DataFrame.map instead.\n",
      "  df_sec_atrezzo = df_sec_atrezzo.applymap(lambda x: x.replace(\"\\n\",\"\"))\n",
      "C:\\Users\\jaime\\AppData\\Local\\Temp\\ipykernel_2812\\365118819.py:49: FutureWarning: DataFrame.applymap has been deprecated. Use DataFrame.map instead.\n",
      "  df_des_atrezzo = df_des_atrezzo.applymap(lambda x: x.replace(\"\\n\",\"\"))\n",
      "C:\\Users\\jaime\\AppData\\Local\\Temp\\ipykernel_2812\\365118819.py:58: FutureWarning: DataFrame.applymap has been deprecated. Use DataFrame.map instead.\n",
      "  df_dim_atrezzo = df_dim_atrezzo.applymap(lambda x: x.replace(\"\\n\",\"\").replace(\"(cm)\",\"\")).astype(int)\n",
      "C:\\Users\\jaime\\AppData\\Local\\Temp\\ipykernel_2812\\365118819.py:31: FutureWarning: DataFrame.applymap has been deprecated. Use DataFrame.map instead.\n",
      "  df_cat_atrezzo = df_cat_atrezzo.applymap(lambda x: x.replace(\"\\n\",\"\"))\n",
      "C:\\Users\\jaime\\AppData\\Local\\Temp\\ipykernel_2812\\365118819.py:40: FutureWarning: DataFrame.applymap has been deprecated. Use DataFrame.map instead.\n",
      "  df_sec_atrezzo = df_sec_atrezzo.applymap(lambda x: x.replace(\"\\n\",\"\"))\n",
      "C:\\Users\\jaime\\AppData\\Local\\Temp\\ipykernel_2812\\365118819.py:49: FutureWarning: DataFrame.applymap has been deprecated. Use DataFrame.map instead.\n",
      "  df_des_atrezzo = df_des_atrezzo.applymap(lambda x: x.replace(\"\\n\",\"\"))\n",
      "C:\\Users\\jaime\\AppData\\Local\\Temp\\ipykernel_2812\\365118819.py:58: FutureWarning: DataFrame.applymap has been deprecated. Use DataFrame.map instead.\n",
      "  df_dim_atrezzo = df_dim_atrezzo.applymap(lambda x: x.replace(\"\\n\",\"\").replace(\"(cm)\",\"\")).astype(int)\n",
      "C:\\Users\\jaime\\AppData\\Local\\Temp\\ipykernel_2812\\365118819.py:31: FutureWarning: DataFrame.applymap has been deprecated. Use DataFrame.map instead.\n",
      "  df_cat_atrezzo = df_cat_atrezzo.applymap(lambda x: x.replace(\"\\n\",\"\"))\n",
      "C:\\Users\\jaime\\AppData\\Local\\Temp\\ipykernel_2812\\365118819.py:40: FutureWarning: DataFrame.applymap has been deprecated. Use DataFrame.map instead.\n",
      "  df_sec_atrezzo = df_sec_atrezzo.applymap(lambda x: x.replace(\"\\n\",\"\"))\n",
      "C:\\Users\\jaime\\AppData\\Local\\Temp\\ipykernel_2812\\365118819.py:49: FutureWarning: DataFrame.applymap has been deprecated. Use DataFrame.map instead.\n",
      "  df_des_atrezzo = df_des_atrezzo.applymap(lambda x: x.replace(\"\\n\",\"\"))\n",
      "C:\\Users\\jaime\\AppData\\Local\\Temp\\ipykernel_2812\\365118819.py:58: FutureWarning: DataFrame.applymap has been deprecated. Use DataFrame.map instead.\n",
      "  df_dim_atrezzo = df_dim_atrezzo.applymap(lambda x: x.replace(\"\\n\",\"\").replace(\"(cm)\",\"\")).astype(int)\n",
      "C:\\Users\\jaime\\AppData\\Local\\Temp\\ipykernel_2812\\365118819.py:31: FutureWarning: DataFrame.applymap has been deprecated. Use DataFrame.map instead.\n",
      "  df_cat_atrezzo = df_cat_atrezzo.applymap(lambda x: x.replace(\"\\n\",\"\"))\n",
      "C:\\Users\\jaime\\AppData\\Local\\Temp\\ipykernel_2812\\365118819.py:40: FutureWarning: DataFrame.applymap has been deprecated. Use DataFrame.map instead.\n",
      "  df_sec_atrezzo = df_sec_atrezzo.applymap(lambda x: x.replace(\"\\n\",\"\"))\n",
      "C:\\Users\\jaime\\AppData\\Local\\Temp\\ipykernel_2812\\365118819.py:49: FutureWarning: DataFrame.applymap has been deprecated. Use DataFrame.map instead.\n",
      "  df_des_atrezzo = df_des_atrezzo.applymap(lambda x: x.replace(\"\\n\",\"\"))\n",
      "C:\\Users\\jaime\\AppData\\Local\\Temp\\ipykernel_2812\\365118819.py:58: FutureWarning: DataFrame.applymap has been deprecated. Use DataFrame.map instead.\n",
      "  df_dim_atrezzo = df_dim_atrezzo.applymap(lambda x: x.replace(\"\\n\",\"\").replace(\"(cm)\",\"\")).astype(int)\n",
      "C:\\Users\\jaime\\AppData\\Local\\Temp\\ipykernel_2812\\365118819.py:31: FutureWarning: DataFrame.applymap has been deprecated. Use DataFrame.map instead.\n",
      "  df_cat_atrezzo = df_cat_atrezzo.applymap(lambda x: x.replace(\"\\n\",\"\"))\n",
      "C:\\Users\\jaime\\AppData\\Local\\Temp\\ipykernel_2812\\365118819.py:40: FutureWarning: DataFrame.applymap has been deprecated. Use DataFrame.map instead.\n",
      "  df_sec_atrezzo = df_sec_atrezzo.applymap(lambda x: x.replace(\"\\n\",\"\"))\n",
      "C:\\Users\\jaime\\AppData\\Local\\Temp\\ipykernel_2812\\365118819.py:49: FutureWarning: DataFrame.applymap has been deprecated. Use DataFrame.map instead.\n",
      "  df_des_atrezzo = df_des_atrezzo.applymap(lambda x: x.replace(\"\\n\",\"\"))\n",
      "C:\\Users\\jaime\\AppData\\Local\\Temp\\ipykernel_2812\\365118819.py:58: FutureWarning: DataFrame.applymap has been deprecated. Use DataFrame.map instead.\n",
      "  df_dim_atrezzo = df_dim_atrezzo.applymap(lambda x: x.replace(\"\\n\",\"\").replace(\"(cm)\",\"\")).astype(int)\n",
      "C:\\Users\\jaime\\AppData\\Local\\Temp\\ipykernel_2812\\365118819.py:31: FutureWarning: DataFrame.applymap has been deprecated. Use DataFrame.map instead.\n",
      "  df_cat_atrezzo = df_cat_atrezzo.applymap(lambda x: x.replace(\"\\n\",\"\"))\n",
      "C:\\Users\\jaime\\AppData\\Local\\Temp\\ipykernel_2812\\365118819.py:40: FutureWarning: DataFrame.applymap has been deprecated. Use DataFrame.map instead.\n",
      "  df_sec_atrezzo = df_sec_atrezzo.applymap(lambda x: x.replace(\"\\n\",\"\"))\n",
      "C:\\Users\\jaime\\AppData\\Local\\Temp\\ipykernel_2812\\365118819.py:49: FutureWarning: DataFrame.applymap has been deprecated. Use DataFrame.map instead.\n",
      "  df_des_atrezzo = df_des_atrezzo.applymap(lambda x: x.replace(\"\\n\",\"\"))\n",
      "C:\\Users\\jaime\\AppData\\Local\\Temp\\ipykernel_2812\\365118819.py:58: FutureWarning: DataFrame.applymap has been deprecated. Use DataFrame.map instead.\n",
      "  df_dim_atrezzo = df_dim_atrezzo.applymap(lambda x: x.replace(\"\\n\",\"\").replace(\"(cm)\",\"\")).astype(int)\n",
      "C:\\Users\\jaime\\AppData\\Local\\Temp\\ipykernel_2812\\365118819.py:31: FutureWarning: DataFrame.applymap has been deprecated. Use DataFrame.map instead.\n",
      "  df_cat_atrezzo = df_cat_atrezzo.applymap(lambda x: x.replace(\"\\n\",\"\"))\n",
      "C:\\Users\\jaime\\AppData\\Local\\Temp\\ipykernel_2812\\365118819.py:40: FutureWarning: DataFrame.applymap has been deprecated. Use DataFrame.map instead.\n",
      "  df_sec_atrezzo = df_sec_atrezzo.applymap(lambda x: x.replace(\"\\n\",\"\"))\n",
      "C:\\Users\\jaime\\AppData\\Local\\Temp\\ipykernel_2812\\365118819.py:49: FutureWarning: DataFrame.applymap has been deprecated. Use DataFrame.map instead.\n",
      "  df_des_atrezzo = df_des_atrezzo.applymap(lambda x: x.replace(\"\\n\",\"\"))\n",
      "C:\\Users\\jaime\\AppData\\Local\\Temp\\ipykernel_2812\\365118819.py:58: FutureWarning: DataFrame.applymap has been deprecated. Use DataFrame.map instead.\n",
      "  df_dim_atrezzo = df_dim_atrezzo.applymap(lambda x: x.replace(\"\\n\",\"\").replace(\"(cm)\",\"\")).astype(int)\n",
      "C:\\Users\\jaime\\AppData\\Local\\Temp\\ipykernel_2812\\365118819.py:31: FutureWarning: DataFrame.applymap has been deprecated. Use DataFrame.map instead.\n",
      "  df_cat_atrezzo = df_cat_atrezzo.applymap(lambda x: x.replace(\"\\n\",\"\"))\n",
      "C:\\Users\\jaime\\AppData\\Local\\Temp\\ipykernel_2812\\365118819.py:40: FutureWarning: DataFrame.applymap has been deprecated. Use DataFrame.map instead.\n",
      "  df_sec_atrezzo = df_sec_atrezzo.applymap(lambda x: x.replace(\"\\n\",\"\"))\n",
      "C:\\Users\\jaime\\AppData\\Local\\Temp\\ipykernel_2812\\365118819.py:49: FutureWarning: DataFrame.applymap has been deprecated. Use DataFrame.map instead.\n",
      "  df_des_atrezzo = df_des_atrezzo.applymap(lambda x: x.replace(\"\\n\",\"\"))\n",
      "C:\\Users\\jaime\\AppData\\Local\\Temp\\ipykernel_2812\\365118819.py:58: FutureWarning: DataFrame.applymap has been deprecated. Use DataFrame.map instead.\n",
      "  df_dim_atrezzo = df_dim_atrezzo.applymap(lambda x: x.replace(\"\\n\",\"\").replace(\"(cm)\",\"\")).astype(int)\n",
      "C:\\Users\\jaime\\AppData\\Local\\Temp\\ipykernel_2812\\365118819.py:31: FutureWarning: DataFrame.applymap has been deprecated. Use DataFrame.map instead.\n",
      "  df_cat_atrezzo = df_cat_atrezzo.applymap(lambda x: x.replace(\"\\n\",\"\"))\n",
      "C:\\Users\\jaime\\AppData\\Local\\Temp\\ipykernel_2812\\365118819.py:40: FutureWarning: DataFrame.applymap has been deprecated. Use DataFrame.map instead.\n",
      "  df_sec_atrezzo = df_sec_atrezzo.applymap(lambda x: x.replace(\"\\n\",\"\"))\n",
      "C:\\Users\\jaime\\AppData\\Local\\Temp\\ipykernel_2812\\365118819.py:49: FutureWarning: DataFrame.applymap has been deprecated. Use DataFrame.map instead.\n",
      "  df_des_atrezzo = df_des_atrezzo.applymap(lambda x: x.replace(\"\\n\",\"\"))\n",
      "C:\\Users\\jaime\\AppData\\Local\\Temp\\ipykernel_2812\\365118819.py:58: FutureWarning: DataFrame.applymap has been deprecated. Use DataFrame.map instead.\n",
      "  df_dim_atrezzo = df_dim_atrezzo.applymap(lambda x: x.replace(\"\\n\",\"\").replace(\"(cm)\",\"\")).astype(int)\n",
      "C:\\Users\\jaime\\AppData\\Local\\Temp\\ipykernel_2812\\365118819.py:31: FutureWarning: DataFrame.applymap has been deprecated. Use DataFrame.map instead.\n",
      "  df_cat_atrezzo = df_cat_atrezzo.applymap(lambda x: x.replace(\"\\n\",\"\"))\n",
      "C:\\Users\\jaime\\AppData\\Local\\Temp\\ipykernel_2812\\365118819.py:40: FutureWarning: DataFrame.applymap has been deprecated. Use DataFrame.map instead.\n",
      "  df_sec_atrezzo = df_sec_atrezzo.applymap(lambda x: x.replace(\"\\n\",\"\"))\n",
      "C:\\Users\\jaime\\AppData\\Local\\Temp\\ipykernel_2812\\365118819.py:49: FutureWarning: DataFrame.applymap has been deprecated. Use DataFrame.map instead.\n",
      "  df_des_atrezzo = df_des_atrezzo.applymap(lambda x: x.replace(\"\\n\",\"\"))\n",
      "C:\\Users\\jaime\\AppData\\Local\\Temp\\ipykernel_2812\\365118819.py:58: FutureWarning: DataFrame.applymap has been deprecated. Use DataFrame.map instead.\n",
      "  df_dim_atrezzo = df_dim_atrezzo.applymap(lambda x: x.replace(\"\\n\",\"\").replace(\"(cm)\",\"\")).astype(int)\n",
      "C:\\Users\\jaime\\AppData\\Local\\Temp\\ipykernel_2812\\365118819.py:31: FutureWarning: DataFrame.applymap has been deprecated. Use DataFrame.map instead.\n",
      "  df_cat_atrezzo = df_cat_atrezzo.applymap(lambda x: x.replace(\"\\n\",\"\"))\n",
      "C:\\Users\\jaime\\AppData\\Local\\Temp\\ipykernel_2812\\365118819.py:40: FutureWarning: DataFrame.applymap has been deprecated. Use DataFrame.map instead.\n",
      "  df_sec_atrezzo = df_sec_atrezzo.applymap(lambda x: x.replace(\"\\n\",\"\"))\n",
      "C:\\Users\\jaime\\AppData\\Local\\Temp\\ipykernel_2812\\365118819.py:49: FutureWarning: DataFrame.applymap has been deprecated. Use DataFrame.map instead.\n",
      "  df_des_atrezzo = df_des_atrezzo.applymap(lambda x: x.replace(\"\\n\",\"\"))\n",
      "C:\\Users\\jaime\\AppData\\Local\\Temp\\ipykernel_2812\\365118819.py:58: FutureWarning: DataFrame.applymap has been deprecated. Use DataFrame.map instead.\n",
      "  df_dim_atrezzo = df_dim_atrezzo.applymap(lambda x: x.replace(\"\\n\",\"\").replace(\"(cm)\",\"\")).astype(int)\n",
      "C:\\Users\\jaime\\AppData\\Local\\Temp\\ipykernel_2812\\365118819.py:31: FutureWarning: DataFrame.applymap has been deprecated. Use DataFrame.map instead.\n",
      "  df_cat_atrezzo = df_cat_atrezzo.applymap(lambda x: x.replace(\"\\n\",\"\"))\n",
      "C:\\Users\\jaime\\AppData\\Local\\Temp\\ipykernel_2812\\365118819.py:40: FutureWarning: DataFrame.applymap has been deprecated. Use DataFrame.map instead.\n",
      "  df_sec_atrezzo = df_sec_atrezzo.applymap(lambda x: x.replace(\"\\n\",\"\"))\n",
      "C:\\Users\\jaime\\AppData\\Local\\Temp\\ipykernel_2812\\365118819.py:49: FutureWarning: DataFrame.applymap has been deprecated. Use DataFrame.map instead.\n",
      "  df_des_atrezzo = df_des_atrezzo.applymap(lambda x: x.replace(\"\\n\",\"\"))\n",
      "C:\\Users\\jaime\\AppData\\Local\\Temp\\ipykernel_2812\\365118819.py:58: FutureWarning: DataFrame.applymap has been deprecated. Use DataFrame.map instead.\n",
      "  df_dim_atrezzo = df_dim_atrezzo.applymap(lambda x: x.replace(\"\\n\",\"\").replace(\"(cm)\",\"\")).astype(int)\n",
      "C:\\Users\\jaime\\AppData\\Local\\Temp\\ipykernel_2812\\365118819.py:31: FutureWarning: DataFrame.applymap has been deprecated. Use DataFrame.map instead.\n",
      "  df_cat_atrezzo = df_cat_atrezzo.applymap(lambda x: x.replace(\"\\n\",\"\"))\n",
      "C:\\Users\\jaime\\AppData\\Local\\Temp\\ipykernel_2812\\365118819.py:40: FutureWarning: DataFrame.applymap has been deprecated. Use DataFrame.map instead.\n",
      "  df_sec_atrezzo = df_sec_atrezzo.applymap(lambda x: x.replace(\"\\n\",\"\"))\n",
      "C:\\Users\\jaime\\AppData\\Local\\Temp\\ipykernel_2812\\365118819.py:49: FutureWarning: DataFrame.applymap has been deprecated. Use DataFrame.map instead.\n",
      "  df_des_atrezzo = df_des_atrezzo.applymap(lambda x: x.replace(\"\\n\",\"\"))\n",
      "C:\\Users\\jaime\\AppData\\Local\\Temp\\ipykernel_2812\\365118819.py:58: FutureWarning: DataFrame.applymap has been deprecated. Use DataFrame.map instead.\n",
      "  df_dim_atrezzo = df_dim_atrezzo.applymap(lambda x: x.replace(\"\\n\",\"\").replace(\"(cm)\",\"\")).astype(int)\n",
      "C:\\Users\\jaime\\AppData\\Local\\Temp\\ipykernel_2812\\365118819.py:31: FutureWarning: DataFrame.applymap has been deprecated. Use DataFrame.map instead.\n",
      "  df_cat_atrezzo = df_cat_atrezzo.applymap(lambda x: x.replace(\"\\n\",\"\"))\n",
      "C:\\Users\\jaime\\AppData\\Local\\Temp\\ipykernel_2812\\365118819.py:40: FutureWarning: DataFrame.applymap has been deprecated. Use DataFrame.map instead.\n",
      "  df_sec_atrezzo = df_sec_atrezzo.applymap(lambda x: x.replace(\"\\n\",\"\"))\n",
      "C:\\Users\\jaime\\AppData\\Local\\Temp\\ipykernel_2812\\365118819.py:49: FutureWarning: DataFrame.applymap has been deprecated. Use DataFrame.map instead.\n",
      "  df_des_atrezzo = df_des_atrezzo.applymap(lambda x: x.replace(\"\\n\",\"\"))\n",
      "C:\\Users\\jaime\\AppData\\Local\\Temp\\ipykernel_2812\\365118819.py:58: FutureWarning: DataFrame.applymap has been deprecated. Use DataFrame.map instead.\n",
      "  df_dim_atrezzo = df_dim_atrezzo.applymap(lambda x: x.replace(\"\\n\",\"\").replace(\"(cm)\",\"\")).astype(int)\n",
      "C:\\Users\\jaime\\AppData\\Local\\Temp\\ipykernel_2812\\365118819.py:31: FutureWarning: DataFrame.applymap has been deprecated. Use DataFrame.map instead.\n",
      "  df_cat_atrezzo = df_cat_atrezzo.applymap(lambda x: x.replace(\"\\n\",\"\"))\n",
      "C:\\Users\\jaime\\AppData\\Local\\Temp\\ipykernel_2812\\365118819.py:40: FutureWarning: DataFrame.applymap has been deprecated. Use DataFrame.map instead.\n",
      "  df_sec_atrezzo = df_sec_atrezzo.applymap(lambda x: x.replace(\"\\n\",\"\"))\n",
      "C:\\Users\\jaime\\AppData\\Local\\Temp\\ipykernel_2812\\365118819.py:49: FutureWarning: DataFrame.applymap has been deprecated. Use DataFrame.map instead.\n",
      "  df_des_atrezzo = df_des_atrezzo.applymap(lambda x: x.replace(\"\\n\",\"\"))\n",
      "C:\\Users\\jaime\\AppData\\Local\\Temp\\ipykernel_2812\\365118819.py:58: FutureWarning: DataFrame.applymap has been deprecated. Use DataFrame.map instead.\n",
      "  df_dim_atrezzo = df_dim_atrezzo.applymap(lambda x: x.replace(\"\\n\",\"\").replace(\"(cm)\",\"\")).astype(int)\n",
      "C:\\Users\\jaime\\AppData\\Local\\Temp\\ipykernel_2812\\365118819.py:31: FutureWarning: DataFrame.applymap has been deprecated. Use DataFrame.map instead.\n",
      "  df_cat_atrezzo = df_cat_atrezzo.applymap(lambda x: x.replace(\"\\n\",\"\"))\n",
      "C:\\Users\\jaime\\AppData\\Local\\Temp\\ipykernel_2812\\365118819.py:40: FutureWarning: DataFrame.applymap has been deprecated. Use DataFrame.map instead.\n",
      "  df_sec_atrezzo = df_sec_atrezzo.applymap(lambda x: x.replace(\"\\n\",\"\"))\n",
      "C:\\Users\\jaime\\AppData\\Local\\Temp\\ipykernel_2812\\365118819.py:49: FutureWarning: DataFrame.applymap has been deprecated. Use DataFrame.map instead.\n",
      "  df_des_atrezzo = df_des_atrezzo.applymap(lambda x: x.replace(\"\\n\",\"\"))\n",
      "C:\\Users\\jaime\\AppData\\Local\\Temp\\ipykernel_2812\\365118819.py:58: FutureWarning: DataFrame.applymap has been deprecated. Use DataFrame.map instead.\n",
      "  df_dim_atrezzo = df_dim_atrezzo.applymap(lambda x: x.replace(\"\\n\",\"\").replace(\"(cm)\",\"\")).astype(int)\n",
      "C:\\Users\\jaime\\AppData\\Local\\Temp\\ipykernel_2812\\365118819.py:31: FutureWarning: DataFrame.applymap has been deprecated. Use DataFrame.map instead.\n",
      "  df_cat_atrezzo = df_cat_atrezzo.applymap(lambda x: x.replace(\"\\n\",\"\"))\n",
      "C:\\Users\\jaime\\AppData\\Local\\Temp\\ipykernel_2812\\365118819.py:40: FutureWarning: DataFrame.applymap has been deprecated. Use DataFrame.map instead.\n",
      "  df_sec_atrezzo = df_sec_atrezzo.applymap(lambda x: x.replace(\"\\n\",\"\"))\n",
      "C:\\Users\\jaime\\AppData\\Local\\Temp\\ipykernel_2812\\365118819.py:49: FutureWarning: DataFrame.applymap has been deprecated. Use DataFrame.map instead.\n",
      "  df_des_atrezzo = df_des_atrezzo.applymap(lambda x: x.replace(\"\\n\",\"\"))\n",
      "C:\\Users\\jaime\\AppData\\Local\\Temp\\ipykernel_2812\\365118819.py:58: FutureWarning: DataFrame.applymap has been deprecated. Use DataFrame.map instead.\n",
      "  df_dim_atrezzo = df_dim_atrezzo.applymap(lambda x: x.replace(\"\\n\",\"\").replace(\"(cm)\",\"\")).astype(int)\n",
      "C:\\Users\\jaime\\AppData\\Local\\Temp\\ipykernel_2812\\365118819.py:31: FutureWarning: DataFrame.applymap has been deprecated. Use DataFrame.map instead.\n",
      "  df_cat_atrezzo = df_cat_atrezzo.applymap(lambda x: x.replace(\"\\n\",\"\"))\n",
      "C:\\Users\\jaime\\AppData\\Local\\Temp\\ipykernel_2812\\365118819.py:40: FutureWarning: DataFrame.applymap has been deprecated. Use DataFrame.map instead.\n",
      "  df_sec_atrezzo = df_sec_atrezzo.applymap(lambda x: x.replace(\"\\n\",\"\"))\n",
      "C:\\Users\\jaime\\AppData\\Local\\Temp\\ipykernel_2812\\365118819.py:49: FutureWarning: DataFrame.applymap has been deprecated. Use DataFrame.map instead.\n",
      "  df_des_atrezzo = df_des_atrezzo.applymap(lambda x: x.replace(\"\\n\",\"\"))\n",
      "C:\\Users\\jaime\\AppData\\Local\\Temp\\ipykernel_2812\\365118819.py:58: FutureWarning: DataFrame.applymap has been deprecated. Use DataFrame.map instead.\n",
      "  df_dim_atrezzo = df_dim_atrezzo.applymap(lambda x: x.replace(\"\\n\",\"\").replace(\"(cm)\",\"\")).astype(int)\n",
      "C:\\Users\\jaime\\AppData\\Local\\Temp\\ipykernel_2812\\365118819.py:31: FutureWarning: DataFrame.applymap has been deprecated. Use DataFrame.map instead.\n",
      "  df_cat_atrezzo = df_cat_atrezzo.applymap(lambda x: x.replace(\"\\n\",\"\"))\n",
      "C:\\Users\\jaime\\AppData\\Local\\Temp\\ipykernel_2812\\365118819.py:40: FutureWarning: DataFrame.applymap has been deprecated. Use DataFrame.map instead.\n",
      "  df_sec_atrezzo = df_sec_atrezzo.applymap(lambda x: x.replace(\"\\n\",\"\"))\n",
      "C:\\Users\\jaime\\AppData\\Local\\Temp\\ipykernel_2812\\365118819.py:49: FutureWarning: DataFrame.applymap has been deprecated. Use DataFrame.map instead.\n",
      "  df_des_atrezzo = df_des_atrezzo.applymap(lambda x: x.replace(\"\\n\",\"\"))\n",
      "C:\\Users\\jaime\\AppData\\Local\\Temp\\ipykernel_2812\\365118819.py:58: FutureWarning: DataFrame.applymap has been deprecated. Use DataFrame.map instead.\n",
      "  df_dim_atrezzo = df_dim_atrezzo.applymap(lambda x: x.replace(\"\\n\",\"\").replace(\"(cm)\",\"\")).astype(int)\n",
      "C:\\Users\\jaime\\AppData\\Local\\Temp\\ipykernel_2812\\365118819.py:31: FutureWarning: DataFrame.applymap has been deprecated. Use DataFrame.map instead.\n",
      "  df_cat_atrezzo = df_cat_atrezzo.applymap(lambda x: x.replace(\"\\n\",\"\"))\n",
      "C:\\Users\\jaime\\AppData\\Local\\Temp\\ipykernel_2812\\365118819.py:40: FutureWarning: DataFrame.applymap has been deprecated. Use DataFrame.map instead.\n",
      "  df_sec_atrezzo = df_sec_atrezzo.applymap(lambda x: x.replace(\"\\n\",\"\"))\n",
      "C:\\Users\\jaime\\AppData\\Local\\Temp\\ipykernel_2812\\365118819.py:49: FutureWarning: DataFrame.applymap has been deprecated. Use DataFrame.map instead.\n",
      "  df_des_atrezzo = df_des_atrezzo.applymap(lambda x: x.replace(\"\\n\",\"\"))\n",
      "C:\\Users\\jaime\\AppData\\Local\\Temp\\ipykernel_2812\\365118819.py:58: FutureWarning: DataFrame.applymap has been deprecated. Use DataFrame.map instead.\n",
      "  df_dim_atrezzo = df_dim_atrezzo.applymap(lambda x: x.replace(\"\\n\",\"\").replace(\"(cm)\",\"\")).astype(int)\n",
      "C:\\Users\\jaime\\AppData\\Local\\Temp\\ipykernel_2812\\365118819.py:31: FutureWarning: DataFrame.applymap has been deprecated. Use DataFrame.map instead.\n",
      "  df_cat_atrezzo = df_cat_atrezzo.applymap(lambda x: x.replace(\"\\n\",\"\"))\n",
      "C:\\Users\\jaime\\AppData\\Local\\Temp\\ipykernel_2812\\365118819.py:40: FutureWarning: DataFrame.applymap has been deprecated. Use DataFrame.map instead.\n",
      "  df_sec_atrezzo = df_sec_atrezzo.applymap(lambda x: x.replace(\"\\n\",\"\"))\n",
      "C:\\Users\\jaime\\AppData\\Local\\Temp\\ipykernel_2812\\365118819.py:49: FutureWarning: DataFrame.applymap has been deprecated. Use DataFrame.map instead.\n",
      "  df_des_atrezzo = df_des_atrezzo.applymap(lambda x: x.replace(\"\\n\",\"\"))\n",
      "C:\\Users\\jaime\\AppData\\Local\\Temp\\ipykernel_2812\\365118819.py:58: FutureWarning: DataFrame.applymap has been deprecated. Use DataFrame.map instead.\n",
      "  df_dim_atrezzo = df_dim_atrezzo.applymap(lambda x: x.replace(\"\\n\",\"\").replace(\"(cm)\",\"\")).astype(int)\n",
      "C:\\Users\\jaime\\AppData\\Local\\Temp\\ipykernel_2812\\365118819.py:31: FutureWarning: DataFrame.applymap has been deprecated. Use DataFrame.map instead.\n",
      "  df_cat_atrezzo = df_cat_atrezzo.applymap(lambda x: x.replace(\"\\n\",\"\"))\n",
      "C:\\Users\\jaime\\AppData\\Local\\Temp\\ipykernel_2812\\365118819.py:40: FutureWarning: DataFrame.applymap has been deprecated. Use DataFrame.map instead.\n",
      "  df_sec_atrezzo = df_sec_atrezzo.applymap(lambda x: x.replace(\"\\n\",\"\"))\n",
      "C:\\Users\\jaime\\AppData\\Local\\Temp\\ipykernel_2812\\365118819.py:49: FutureWarning: DataFrame.applymap has been deprecated. Use DataFrame.map instead.\n",
      "  df_des_atrezzo = df_des_atrezzo.applymap(lambda x: x.replace(\"\\n\",\"\"))\n",
      "C:\\Users\\jaime\\AppData\\Local\\Temp\\ipykernel_2812\\365118819.py:58: FutureWarning: DataFrame.applymap has been deprecated. Use DataFrame.map instead.\n",
      "  df_dim_atrezzo = df_dim_atrezzo.applymap(lambda x: x.replace(\"\\n\",\"\").replace(\"(cm)\",\"\")).astype(int)\n",
      "C:\\Users\\jaime\\AppData\\Local\\Temp\\ipykernel_2812\\365118819.py:31: FutureWarning: DataFrame.applymap has been deprecated. Use DataFrame.map instead.\n",
      "  df_cat_atrezzo = df_cat_atrezzo.applymap(lambda x: x.replace(\"\\n\",\"\"))\n",
      "C:\\Users\\jaime\\AppData\\Local\\Temp\\ipykernel_2812\\365118819.py:40: FutureWarning: DataFrame.applymap has been deprecated. Use DataFrame.map instead.\n",
      "  df_sec_atrezzo = df_sec_atrezzo.applymap(lambda x: x.replace(\"\\n\",\"\"))\n",
      "C:\\Users\\jaime\\AppData\\Local\\Temp\\ipykernel_2812\\365118819.py:49: FutureWarning: DataFrame.applymap has been deprecated. Use DataFrame.map instead.\n",
      "  df_des_atrezzo = df_des_atrezzo.applymap(lambda x: x.replace(\"\\n\",\"\"))\n",
      "C:\\Users\\jaime\\AppData\\Local\\Temp\\ipykernel_2812\\365118819.py:58: FutureWarning: DataFrame.applymap has been deprecated. Use DataFrame.map instead.\n",
      "  df_dim_atrezzo = df_dim_atrezzo.applymap(lambda x: x.replace(\"\\n\",\"\").replace(\"(cm)\",\"\")).astype(int)\n",
      "C:\\Users\\jaime\\AppData\\Local\\Temp\\ipykernel_2812\\365118819.py:31: FutureWarning: DataFrame.applymap has been deprecated. Use DataFrame.map instead.\n",
      "  df_cat_atrezzo = df_cat_atrezzo.applymap(lambda x: x.replace(\"\\n\",\"\"))\n",
      "C:\\Users\\jaime\\AppData\\Local\\Temp\\ipykernel_2812\\365118819.py:40: FutureWarning: DataFrame.applymap has been deprecated. Use DataFrame.map instead.\n",
      "  df_sec_atrezzo = df_sec_atrezzo.applymap(lambda x: x.replace(\"\\n\",\"\"))\n",
      "C:\\Users\\jaime\\AppData\\Local\\Temp\\ipykernel_2812\\365118819.py:49: FutureWarning: DataFrame.applymap has been deprecated. Use DataFrame.map instead.\n",
      "  df_des_atrezzo = df_des_atrezzo.applymap(lambda x: x.replace(\"\\n\",\"\"))\n",
      "C:\\Users\\jaime\\AppData\\Local\\Temp\\ipykernel_2812\\365118819.py:58: FutureWarning: DataFrame.applymap has been deprecated. Use DataFrame.map instead.\n",
      "  df_dim_atrezzo = df_dim_atrezzo.applymap(lambda x: x.replace(\"\\n\",\"\").replace(\"(cm)\",\"\")).astype(int)\n",
      "C:\\Users\\jaime\\AppData\\Local\\Temp\\ipykernel_2812\\365118819.py:31: FutureWarning: DataFrame.applymap has been deprecated. Use DataFrame.map instead.\n",
      "  df_cat_atrezzo = df_cat_atrezzo.applymap(lambda x: x.replace(\"\\n\",\"\"))\n",
      "C:\\Users\\jaime\\AppData\\Local\\Temp\\ipykernel_2812\\365118819.py:40: FutureWarning: DataFrame.applymap has been deprecated. Use DataFrame.map instead.\n",
      "  df_sec_atrezzo = df_sec_atrezzo.applymap(lambda x: x.replace(\"\\n\",\"\"))\n",
      "C:\\Users\\jaime\\AppData\\Local\\Temp\\ipykernel_2812\\365118819.py:49: FutureWarning: DataFrame.applymap has been deprecated. Use DataFrame.map instead.\n",
      "  df_des_atrezzo = df_des_atrezzo.applymap(lambda x: x.replace(\"\\n\",\"\"))\n",
      "C:\\Users\\jaime\\AppData\\Local\\Temp\\ipykernel_2812\\365118819.py:58: FutureWarning: DataFrame.applymap has been deprecated. Use DataFrame.map instead.\n",
      "  df_dim_atrezzo = df_dim_atrezzo.applymap(lambda x: x.replace(\"\\n\",\"\").replace(\"(cm)\",\"\")).astype(int)\n",
      "C:\\Users\\jaime\\AppData\\Local\\Temp\\ipykernel_2812\\365118819.py:31: FutureWarning: DataFrame.applymap has been deprecated. Use DataFrame.map instead.\n",
      "  df_cat_atrezzo = df_cat_atrezzo.applymap(lambda x: x.replace(\"\\n\",\"\"))\n",
      "C:\\Users\\jaime\\AppData\\Local\\Temp\\ipykernel_2812\\365118819.py:40: FutureWarning: DataFrame.applymap has been deprecated. Use DataFrame.map instead.\n",
      "  df_sec_atrezzo = df_sec_atrezzo.applymap(lambda x: x.replace(\"\\n\",\"\"))\n",
      "C:\\Users\\jaime\\AppData\\Local\\Temp\\ipykernel_2812\\365118819.py:49: FutureWarning: DataFrame.applymap has been deprecated. Use DataFrame.map instead.\n",
      "  df_des_atrezzo = df_des_atrezzo.applymap(lambda x: x.replace(\"\\n\",\"\"))\n",
      "C:\\Users\\jaime\\AppData\\Local\\Temp\\ipykernel_2812\\365118819.py:58: FutureWarning: DataFrame.applymap has been deprecated. Use DataFrame.map instead.\n",
      "  df_dim_atrezzo = df_dim_atrezzo.applymap(lambda x: x.replace(\"\\n\",\"\").replace(\"(cm)\",\"\")).astype(int)\n",
      "C:\\Users\\jaime\\AppData\\Local\\Temp\\ipykernel_2812\\365118819.py:31: FutureWarning: DataFrame.applymap has been deprecated. Use DataFrame.map instead.\n",
      "  df_cat_atrezzo = df_cat_atrezzo.applymap(lambda x: x.replace(\"\\n\",\"\"))\n",
      "C:\\Users\\jaime\\AppData\\Local\\Temp\\ipykernel_2812\\365118819.py:40: FutureWarning: DataFrame.applymap has been deprecated. Use DataFrame.map instead.\n",
      "  df_sec_atrezzo = df_sec_atrezzo.applymap(lambda x: x.replace(\"\\n\",\"\"))\n",
      "C:\\Users\\jaime\\AppData\\Local\\Temp\\ipykernel_2812\\365118819.py:49: FutureWarning: DataFrame.applymap has been deprecated. Use DataFrame.map instead.\n",
      "  df_des_atrezzo = df_des_atrezzo.applymap(lambda x: x.replace(\"\\n\",\"\"))\n",
      "C:\\Users\\jaime\\AppData\\Local\\Temp\\ipykernel_2812\\365118819.py:58: FutureWarning: DataFrame.applymap has been deprecated. Use DataFrame.map instead.\n",
      "  df_dim_atrezzo = df_dim_atrezzo.applymap(lambda x: x.replace(\"\\n\",\"\").replace(\"(cm)\",\"\")).astype(int)\n",
      "C:\\Users\\jaime\\AppData\\Local\\Temp\\ipykernel_2812\\365118819.py:31: FutureWarning: DataFrame.applymap has been deprecated. Use DataFrame.map instead.\n",
      "  df_cat_atrezzo = df_cat_atrezzo.applymap(lambda x: x.replace(\"\\n\",\"\"))\n",
      "C:\\Users\\jaime\\AppData\\Local\\Temp\\ipykernel_2812\\365118819.py:40: FutureWarning: DataFrame.applymap has been deprecated. Use DataFrame.map instead.\n",
      "  df_sec_atrezzo = df_sec_atrezzo.applymap(lambda x: x.replace(\"\\n\",\"\"))\n",
      "C:\\Users\\jaime\\AppData\\Local\\Temp\\ipykernel_2812\\365118819.py:49: FutureWarning: DataFrame.applymap has been deprecated. Use DataFrame.map instead.\n",
      "  df_des_atrezzo = df_des_atrezzo.applymap(lambda x: x.replace(\"\\n\",\"\"))\n",
      "C:\\Users\\jaime\\AppData\\Local\\Temp\\ipykernel_2812\\365118819.py:58: FutureWarning: DataFrame.applymap has been deprecated. Use DataFrame.map instead.\n",
      "  df_dim_atrezzo = df_dim_atrezzo.applymap(lambda x: x.replace(\"\\n\",\"\").replace(\"(cm)\",\"\")).astype(int)\n",
      "C:\\Users\\jaime\\AppData\\Local\\Temp\\ipykernel_2812\\365118819.py:31: FutureWarning: DataFrame.applymap has been deprecated. Use DataFrame.map instead.\n",
      "  df_cat_atrezzo = df_cat_atrezzo.applymap(lambda x: x.replace(\"\\n\",\"\"))\n",
      "C:\\Users\\jaime\\AppData\\Local\\Temp\\ipykernel_2812\\365118819.py:40: FutureWarning: DataFrame.applymap has been deprecated. Use DataFrame.map instead.\n",
      "  df_sec_atrezzo = df_sec_atrezzo.applymap(lambda x: x.replace(\"\\n\",\"\"))\n",
      "C:\\Users\\jaime\\AppData\\Local\\Temp\\ipykernel_2812\\365118819.py:49: FutureWarning: DataFrame.applymap has been deprecated. Use DataFrame.map instead.\n",
      "  df_des_atrezzo = df_des_atrezzo.applymap(lambda x: x.replace(\"\\n\",\"\"))\n",
      "C:\\Users\\jaime\\AppData\\Local\\Temp\\ipykernel_2812\\365118819.py:58: FutureWarning: DataFrame.applymap has been deprecated. Use DataFrame.map instead.\n",
      "  df_dim_atrezzo = df_dim_atrezzo.applymap(lambda x: x.replace(\"\\n\",\"\").replace(\"(cm)\",\"\")).astype(int)\n",
      "C:\\Users\\jaime\\AppData\\Local\\Temp\\ipykernel_2812\\365118819.py:31: FutureWarning: DataFrame.applymap has been deprecated. Use DataFrame.map instead.\n",
      "  df_cat_atrezzo = df_cat_atrezzo.applymap(lambda x: x.replace(\"\\n\",\"\"))\n",
      "C:\\Users\\jaime\\AppData\\Local\\Temp\\ipykernel_2812\\365118819.py:40: FutureWarning: DataFrame.applymap has been deprecated. Use DataFrame.map instead.\n",
      "  df_sec_atrezzo = df_sec_atrezzo.applymap(lambda x: x.replace(\"\\n\",\"\"))\n",
      "C:\\Users\\jaime\\AppData\\Local\\Temp\\ipykernel_2812\\365118819.py:49: FutureWarning: DataFrame.applymap has been deprecated. Use DataFrame.map instead.\n",
      "  df_des_atrezzo = df_des_atrezzo.applymap(lambda x: x.replace(\"\\n\",\"\"))\n",
      "C:\\Users\\jaime\\AppData\\Local\\Temp\\ipykernel_2812\\365118819.py:58: FutureWarning: DataFrame.applymap has been deprecated. Use DataFrame.map instead.\n",
      "  df_dim_atrezzo = df_dim_atrezzo.applymap(lambda x: x.replace(\"\\n\",\"\").replace(\"(cm)\",\"\")).astype(int)\n",
      "C:\\Users\\jaime\\AppData\\Local\\Temp\\ipykernel_2812\\365118819.py:31: FutureWarning: DataFrame.applymap has been deprecated. Use DataFrame.map instead.\n",
      "  df_cat_atrezzo = df_cat_atrezzo.applymap(lambda x: x.replace(\"\\n\",\"\"))\n",
      "C:\\Users\\jaime\\AppData\\Local\\Temp\\ipykernel_2812\\365118819.py:40: FutureWarning: DataFrame.applymap has been deprecated. Use DataFrame.map instead.\n",
      "  df_sec_atrezzo = df_sec_atrezzo.applymap(lambda x: x.replace(\"\\n\",\"\"))\n",
      "C:\\Users\\jaime\\AppData\\Local\\Temp\\ipykernel_2812\\365118819.py:49: FutureWarning: DataFrame.applymap has been deprecated. Use DataFrame.map instead.\n",
      "  df_des_atrezzo = df_des_atrezzo.applymap(lambda x: x.replace(\"\\n\",\"\"))\n",
      "C:\\Users\\jaime\\AppData\\Local\\Temp\\ipykernel_2812\\365118819.py:58: FutureWarning: DataFrame.applymap has been deprecated. Use DataFrame.map instead.\n",
      "  df_dim_atrezzo = df_dim_atrezzo.applymap(lambda x: x.replace(\"\\n\",\"\").replace(\"(cm)\",\"\")).astype(int)\n",
      "C:\\Users\\jaime\\AppData\\Local\\Temp\\ipykernel_2812\\365118819.py:31: FutureWarning: DataFrame.applymap has been deprecated. Use DataFrame.map instead.\n",
      "  df_cat_atrezzo = df_cat_atrezzo.applymap(lambda x: x.replace(\"\\n\",\"\"))\n",
      "C:\\Users\\jaime\\AppData\\Local\\Temp\\ipykernel_2812\\365118819.py:40: FutureWarning: DataFrame.applymap has been deprecated. Use DataFrame.map instead.\n",
      "  df_sec_atrezzo = df_sec_atrezzo.applymap(lambda x: x.replace(\"\\n\",\"\"))\n",
      "C:\\Users\\jaime\\AppData\\Local\\Temp\\ipykernel_2812\\365118819.py:49: FutureWarning: DataFrame.applymap has been deprecated. Use DataFrame.map instead.\n",
      "  df_des_atrezzo = df_des_atrezzo.applymap(lambda x: x.replace(\"\\n\",\"\"))\n",
      "C:\\Users\\jaime\\AppData\\Local\\Temp\\ipykernel_2812\\365118819.py:58: FutureWarning: DataFrame.applymap has been deprecated. Use DataFrame.map instead.\n",
      "  df_dim_atrezzo = df_dim_atrezzo.applymap(lambda x: x.replace(\"\\n\",\"\").replace(\"(cm)\",\"\")).astype(int)\n",
      "C:\\Users\\jaime\\AppData\\Local\\Temp\\ipykernel_2812\\365118819.py:31: FutureWarning: DataFrame.applymap has been deprecated. Use DataFrame.map instead.\n",
      "  df_cat_atrezzo = df_cat_atrezzo.applymap(lambda x: x.replace(\"\\n\",\"\"))\n",
      "C:\\Users\\jaime\\AppData\\Local\\Temp\\ipykernel_2812\\365118819.py:40: FutureWarning: DataFrame.applymap has been deprecated. Use DataFrame.map instead.\n",
      "  df_sec_atrezzo = df_sec_atrezzo.applymap(lambda x: x.replace(\"\\n\",\"\"))\n",
      "C:\\Users\\jaime\\AppData\\Local\\Temp\\ipykernel_2812\\365118819.py:49: FutureWarning: DataFrame.applymap has been deprecated. Use DataFrame.map instead.\n",
      "  df_des_atrezzo = df_des_atrezzo.applymap(lambda x: x.replace(\"\\n\",\"\"))\n",
      "C:\\Users\\jaime\\AppData\\Local\\Temp\\ipykernel_2812\\365118819.py:58: FutureWarning: DataFrame.applymap has been deprecated. Use DataFrame.map instead.\n",
      "  df_dim_atrezzo = df_dim_atrezzo.applymap(lambda x: x.replace(\"\\n\",\"\").replace(\"(cm)\",\"\")).astype(int)\n",
      "C:\\Users\\jaime\\AppData\\Local\\Temp\\ipykernel_2812\\365118819.py:31: FutureWarning: DataFrame.applymap has been deprecated. Use DataFrame.map instead.\n",
      "  df_cat_atrezzo = df_cat_atrezzo.applymap(lambda x: x.replace(\"\\n\",\"\"))\n",
      "C:\\Users\\jaime\\AppData\\Local\\Temp\\ipykernel_2812\\365118819.py:40: FutureWarning: DataFrame.applymap has been deprecated. Use DataFrame.map instead.\n",
      "  df_sec_atrezzo = df_sec_atrezzo.applymap(lambda x: x.replace(\"\\n\",\"\"))\n",
      "C:\\Users\\jaime\\AppData\\Local\\Temp\\ipykernel_2812\\365118819.py:49: FutureWarning: DataFrame.applymap has been deprecated. Use DataFrame.map instead.\n",
      "  df_des_atrezzo = df_des_atrezzo.applymap(lambda x: x.replace(\"\\n\",\"\"))\n",
      "C:\\Users\\jaime\\AppData\\Local\\Temp\\ipykernel_2812\\365118819.py:58: FutureWarning: DataFrame.applymap has been deprecated. Use DataFrame.map instead.\n",
      "  df_dim_atrezzo = df_dim_atrezzo.applymap(lambda x: x.replace(\"\\n\",\"\").replace(\"(cm)\",\"\")).astype(int)\n",
      "C:\\Users\\jaime\\AppData\\Local\\Temp\\ipykernel_2812\\365118819.py:31: FutureWarning: DataFrame.applymap has been deprecated. Use DataFrame.map instead.\n",
      "  df_cat_atrezzo = df_cat_atrezzo.applymap(lambda x: x.replace(\"\\n\",\"\"))\n",
      "C:\\Users\\jaime\\AppData\\Local\\Temp\\ipykernel_2812\\365118819.py:40: FutureWarning: DataFrame.applymap has been deprecated. Use DataFrame.map instead.\n",
      "  df_sec_atrezzo = df_sec_atrezzo.applymap(lambda x: x.replace(\"\\n\",\"\"))\n",
      "C:\\Users\\jaime\\AppData\\Local\\Temp\\ipykernel_2812\\365118819.py:49: FutureWarning: DataFrame.applymap has been deprecated. Use DataFrame.map instead.\n",
      "  df_des_atrezzo = df_des_atrezzo.applymap(lambda x: x.replace(\"\\n\",\"\"))\n",
      "C:\\Users\\jaime\\AppData\\Local\\Temp\\ipykernel_2812\\365118819.py:58: FutureWarning: DataFrame.applymap has been deprecated. Use DataFrame.map instead.\n",
      "  df_dim_atrezzo = df_dim_atrezzo.applymap(lambda x: x.replace(\"\\n\",\"\").replace(\"(cm)\",\"\")).astype(int)\n",
      "C:\\Users\\jaime\\AppData\\Local\\Temp\\ipykernel_2812\\365118819.py:31: FutureWarning: DataFrame.applymap has been deprecated. Use DataFrame.map instead.\n",
      "  df_cat_atrezzo = df_cat_atrezzo.applymap(lambda x: x.replace(\"\\n\",\"\"))\n",
      "C:\\Users\\jaime\\AppData\\Local\\Temp\\ipykernel_2812\\365118819.py:40: FutureWarning: DataFrame.applymap has been deprecated. Use DataFrame.map instead.\n",
      "  df_sec_atrezzo = df_sec_atrezzo.applymap(lambda x: x.replace(\"\\n\",\"\"))\n",
      "C:\\Users\\jaime\\AppData\\Local\\Temp\\ipykernel_2812\\365118819.py:49: FutureWarning: DataFrame.applymap has been deprecated. Use DataFrame.map instead.\n",
      "  df_des_atrezzo = df_des_atrezzo.applymap(lambda x: x.replace(\"\\n\",\"\"))\n",
      "C:\\Users\\jaime\\AppData\\Local\\Temp\\ipykernel_2812\\365118819.py:58: FutureWarning: DataFrame.applymap has been deprecated. Use DataFrame.map instead.\n",
      "  df_dim_atrezzo = df_dim_atrezzo.applymap(lambda x: x.replace(\"\\n\",\"\").replace(\"(cm)\",\"\")).astype(int)\n",
      "C:\\Users\\jaime\\AppData\\Local\\Temp\\ipykernel_2812\\365118819.py:31: FutureWarning: DataFrame.applymap has been deprecated. Use DataFrame.map instead.\n",
      "  df_cat_atrezzo = df_cat_atrezzo.applymap(lambda x: x.replace(\"\\n\",\"\"))\n",
      "C:\\Users\\jaime\\AppData\\Local\\Temp\\ipykernel_2812\\365118819.py:40: FutureWarning: DataFrame.applymap has been deprecated. Use DataFrame.map instead.\n",
      "  df_sec_atrezzo = df_sec_atrezzo.applymap(lambda x: x.replace(\"\\n\",\"\"))\n",
      "C:\\Users\\jaime\\AppData\\Local\\Temp\\ipykernel_2812\\365118819.py:49: FutureWarning: DataFrame.applymap has been deprecated. Use DataFrame.map instead.\n",
      "  df_des_atrezzo = df_des_atrezzo.applymap(lambda x: x.replace(\"\\n\",\"\"))\n",
      "C:\\Users\\jaime\\AppData\\Local\\Temp\\ipykernel_2812\\365118819.py:58: FutureWarning: DataFrame.applymap has been deprecated. Use DataFrame.map instead.\n",
      "  df_dim_atrezzo = df_dim_atrezzo.applymap(lambda x: x.replace(\"\\n\",\"\").replace(\"(cm)\",\"\")).astype(int)\n",
      "C:\\Users\\jaime\\AppData\\Local\\Temp\\ipykernel_2812\\365118819.py:31: FutureWarning: DataFrame.applymap has been deprecated. Use DataFrame.map instead.\n",
      "  df_cat_atrezzo = df_cat_atrezzo.applymap(lambda x: x.replace(\"\\n\",\"\"))\n",
      "C:\\Users\\jaime\\AppData\\Local\\Temp\\ipykernel_2812\\365118819.py:40: FutureWarning: DataFrame.applymap has been deprecated. Use DataFrame.map instead.\n",
      "  df_sec_atrezzo = df_sec_atrezzo.applymap(lambda x: x.replace(\"\\n\",\"\"))\n",
      "C:\\Users\\jaime\\AppData\\Local\\Temp\\ipykernel_2812\\365118819.py:49: FutureWarning: DataFrame.applymap has been deprecated. Use DataFrame.map instead.\n",
      "  df_des_atrezzo = df_des_atrezzo.applymap(lambda x: x.replace(\"\\n\",\"\"))\n",
      "C:\\Users\\jaime\\AppData\\Local\\Temp\\ipykernel_2812\\365118819.py:58: FutureWarning: DataFrame.applymap has been deprecated. Use DataFrame.map instead.\n",
      "  df_dim_atrezzo = df_dim_atrezzo.applymap(lambda x: x.replace(\"\\n\",\"\").replace(\"(cm)\",\"\")).astype(int)\n",
      "C:\\Users\\jaime\\AppData\\Local\\Temp\\ipykernel_2812\\365118819.py:31: FutureWarning: DataFrame.applymap has been deprecated. Use DataFrame.map instead.\n",
      "  df_cat_atrezzo = df_cat_atrezzo.applymap(lambda x: x.replace(\"\\n\",\"\"))\n",
      "C:\\Users\\jaime\\AppData\\Local\\Temp\\ipykernel_2812\\365118819.py:40: FutureWarning: DataFrame.applymap has been deprecated. Use DataFrame.map instead.\n",
      "  df_sec_atrezzo = df_sec_atrezzo.applymap(lambda x: x.replace(\"\\n\",\"\"))\n",
      "C:\\Users\\jaime\\AppData\\Local\\Temp\\ipykernel_2812\\365118819.py:49: FutureWarning: DataFrame.applymap has been deprecated. Use DataFrame.map instead.\n",
      "  df_des_atrezzo = df_des_atrezzo.applymap(lambda x: x.replace(\"\\n\",\"\"))\n",
      "C:\\Users\\jaime\\AppData\\Local\\Temp\\ipykernel_2812\\365118819.py:58: FutureWarning: DataFrame.applymap has been deprecated. Use DataFrame.map instead.\n",
      "  df_dim_atrezzo = df_dim_atrezzo.applymap(lambda x: x.replace(\"\\n\",\"\").replace(\"(cm)\",\"\")).astype(int)\n",
      "C:\\Users\\jaime\\AppData\\Local\\Temp\\ipykernel_2812\\365118819.py:31: FutureWarning: DataFrame.applymap has been deprecated. Use DataFrame.map instead.\n",
      "  df_cat_atrezzo = df_cat_atrezzo.applymap(lambda x: x.replace(\"\\n\",\"\"))\n",
      "C:\\Users\\jaime\\AppData\\Local\\Temp\\ipykernel_2812\\365118819.py:40: FutureWarning: DataFrame.applymap has been deprecated. Use DataFrame.map instead.\n",
      "  df_sec_atrezzo = df_sec_atrezzo.applymap(lambda x: x.replace(\"\\n\",\"\"))\n",
      "C:\\Users\\jaime\\AppData\\Local\\Temp\\ipykernel_2812\\365118819.py:49: FutureWarning: DataFrame.applymap has been deprecated. Use DataFrame.map instead.\n",
      "  df_des_atrezzo = df_des_atrezzo.applymap(lambda x: x.replace(\"\\n\",\"\"))\n",
      "C:\\Users\\jaime\\AppData\\Local\\Temp\\ipykernel_2812\\365118819.py:58: FutureWarning: DataFrame.applymap has been deprecated. Use DataFrame.map instead.\n",
      "  df_dim_atrezzo = df_dim_atrezzo.applymap(lambda x: x.replace(\"\\n\",\"\").replace(\"(cm)\",\"\")).astype(int)\n",
      "C:\\Users\\jaime\\AppData\\Local\\Temp\\ipykernel_2812\\365118819.py:31: FutureWarning: DataFrame.applymap has been deprecated. Use DataFrame.map instead.\n",
      "  df_cat_atrezzo = df_cat_atrezzo.applymap(lambda x: x.replace(\"\\n\",\"\"))\n",
      "C:\\Users\\jaime\\AppData\\Local\\Temp\\ipykernel_2812\\365118819.py:40: FutureWarning: DataFrame.applymap has been deprecated. Use DataFrame.map instead.\n",
      "  df_sec_atrezzo = df_sec_atrezzo.applymap(lambda x: x.replace(\"\\n\",\"\"))\n",
      "C:\\Users\\jaime\\AppData\\Local\\Temp\\ipykernel_2812\\365118819.py:49: FutureWarning: DataFrame.applymap has been deprecated. Use DataFrame.map instead.\n",
      "  df_des_atrezzo = df_des_atrezzo.applymap(lambda x: x.replace(\"\\n\",\"\"))\n",
      "C:\\Users\\jaime\\AppData\\Local\\Temp\\ipykernel_2812\\365118819.py:58: FutureWarning: DataFrame.applymap has been deprecated. Use DataFrame.map instead.\n",
      "  df_dim_atrezzo = df_dim_atrezzo.applymap(lambda x: x.replace(\"\\n\",\"\").replace(\"(cm)\",\"\")).astype(int)\n"
     ]
    },
    {
     "data": {
      "text/html": [
       "<div>\n",
       "<style scoped>\n",
       "    .dataframe tbody tr th:only-of-type {\n",
       "        vertical-align: middle;\n",
       "    }\n",
       "\n",
       "    .dataframe tbody tr th {\n",
       "        vertical-align: top;\n",
       "    }\n",
       "\n",
       "    .dataframe thead th {\n",
       "        text-align: right;\n",
       "    }\n",
       "</style>\n",
       "<table border=\"1\" class=\"dataframe\">\n",
       "  <thead>\n",
       "    <tr style=\"text-align: right;\">\n",
       "      <th></th>\n",
       "      <th>nombre_atrezzo</th>\n",
       "      <th>url imagen</th>\n",
       "      <th>categoria_atrezzo</th>\n",
       "      <th>seccion_atrezzo</th>\n",
       "      <th>descripcion_atrezzo</th>\n",
       "      <th>largo</th>\n",
       "      <th>ancho</th>\n",
       "      <th>alto</th>\n",
       "    </tr>\n",
       "  </thead>\n",
       "  <tbody>\n",
       "    <tr>\n",
       "      <th>0</th>\n",
       "      <td>ALF1</td>\n",
       "      <td>https://atrezzovazquez.es/admin/img_prod/ALF1/...</td>\n",
       "      <td>Alfombra</td>\n",
       "      <td>Arabe</td>\n",
       "      <td>Alfombra persa marrón (tiene unas manchas que ...</td>\n",
       "      <td>460</td>\n",
       "      <td>340</td>\n",
       "      <td>1</td>\n",
       "    </tr>\n",
       "    <tr>\n",
       "      <th>1</th>\n",
       "      <td>ADO1</td>\n",
       "      <td>https://atrezzovazquez.es/admin/img_prod/ADO1/...</td>\n",
       "      <td>Adornos</td>\n",
       "      <td></td>\n",
       "      <td>Vitrina con abanico</td>\n",
       "      <td>100</td>\n",
       "      <td>10</td>\n",
       "      <td>60</td>\n",
       "    </tr>\n",
       "    <tr>\n",
       "      <th>2</th>\n",
       "      <td>AFC1</td>\n",
       "      <td>https://atrezzovazquez.es/admin/img_prod/AFC1/...</td>\n",
       "      <td>Alfombra de cama</td>\n",
       "      <td>Dormitorio</td>\n",
       "      <td>Alfombrín de cama círculos azules</td>\n",
       "      <td>150</td>\n",
       "      <td>72</td>\n",
       "      <td>1</td>\n",
       "    </tr>\n",
       "    <tr>\n",
       "      <th>3</th>\n",
       "      <td>AP1</td>\n",
       "      <td>https://atrezzovazquez.es/admin/img_prod/AP1/A...</td>\n",
       "      <td>Aparador</td>\n",
       "      <td>Alemán  Comedor</td>\n",
       "      <td>Aparador alemán 2 cuerpos</td>\n",
       "      <td>207</td>\n",
       "      <td>64</td>\n",
       "      <td>300</td>\n",
       "    </tr>\n",
       "    <tr>\n",
       "      <th>4</th>\n",
       "      <td>AST1</td>\n",
       "      <td>https://atrezzovazquez.es/admin/img_prod/AST1/...</td>\n",
       "      <td>Atrezzo astronomia</td>\n",
       "      <td>Astronomía</td>\n",
       "      <td>Pie de madera para astrolabio</td>\n",
       "      <td>78</td>\n",
       "      <td>78</td>\n",
       "      <td>130</td>\n",
       "    </tr>\n",
       "    <tr>\n",
       "      <th>...</th>\n",
       "      <td>...</td>\n",
       "      <td>...</td>\n",
       "      <td>...</td>\n",
       "      <td>...</td>\n",
       "      <td>...</td>\n",
       "      <td>...</td>\n",
       "      <td>...</td>\n",
       "      <td>...</td>\n",
       "    </tr>\n",
       "    <tr>\n",
       "      <th>43</th>\n",
       "      <td>TYV65</td>\n",
       "      <td>https://atrezzovazquez.es/admin/img_prod/TYV65...</td>\n",
       "      <td>Televisores y vídeos</td>\n",
       "      <td>Televisor</td>\n",
       "      <td>Televisión caja gris Toshiba 18\"</td>\n",
       "      <td>62</td>\n",
       "      <td>46</td>\n",
       "      <td>43</td>\n",
       "    </tr>\n",
       "    <tr>\n",
       "      <th>44</th>\n",
       "      <td>PV65</td>\n",
       "      <td>https://atrezzovazquez.es/admin/img_prod/PV65/...</td>\n",
       "      <td>Pie de vela</td>\n",
       "      <td>Candelabro</td>\n",
       "      <td>Candelabro de hierro en línea 3 luces</td>\n",
       "      <td>0</td>\n",
       "      <td>0</td>\n",
       "      <td>0</td>\n",
       "    </tr>\n",
       "    <tr>\n",
       "      <th>45</th>\n",
       "      <td>TP65</td>\n",
       "      <td>https://atrezzovazquez.es/admin/img_prod/TP65/...</td>\n",
       "      <td>Tapices y estandartes</td>\n",
       "      <td>Salón</td>\n",
       "      <td>Tapiz bordado en terciopelo de una ciudad con ...</td>\n",
       "      <td>180</td>\n",
       "      <td>5</td>\n",
       "      <td>122</td>\n",
       "    </tr>\n",
       "    <tr>\n",
       "      <th>46</th>\n",
       "      <td>PER65</td>\n",
       "      <td>https://atrezzovazquez.es/admin/img_prod/PER65...</td>\n",
       "      <td>Perchero</td>\n",
       "      <td>Recibidor  Italiano  Dormitorio</td>\n",
       "      <td>Perchero de colgar italiano formica crema y bo...</td>\n",
       "      <td>1</td>\n",
       "      <td>1</td>\n",
       "      <td>1</td>\n",
       "    </tr>\n",
       "    <tr>\n",
       "      <th>47</th>\n",
       "      <td>AFC65</td>\n",
       "      <td>https://atrezzovazquez.es/admin/img_prod/AFC65...</td>\n",
       "      <td>Alfombra de cama</td>\n",
       "      <td>Dormitorio</td>\n",
       "      <td>Alfombrín de cama verde y flores</td>\n",
       "      <td>120</td>\n",
       "      <td>60</td>\n",
       "      <td>1</td>\n",
       "    </tr>\n",
       "  </tbody>\n",
       "</table>\n",
       "<p>4800 rows × 8 columns</p>\n",
       "</div>"
      ],
      "text/plain": [
       "   nombre_atrezzo                                         url imagen  \\\n",
       "0            ALF1  https://atrezzovazquez.es/admin/img_prod/ALF1/...   \n",
       "1            ADO1  https://atrezzovazquez.es/admin/img_prod/ADO1/...   \n",
       "2            AFC1  https://atrezzovazquez.es/admin/img_prod/AFC1/...   \n",
       "3             AP1  https://atrezzovazquez.es/admin/img_prod/AP1/A...   \n",
       "4            AST1  https://atrezzovazquez.es/admin/img_prod/AST1/...   \n",
       "..            ...                                                ...   \n",
       "43          TYV65  https://atrezzovazquez.es/admin/img_prod/TYV65...   \n",
       "44           PV65  https://atrezzovazquez.es/admin/img_prod/PV65/...   \n",
       "45           TP65  https://atrezzovazquez.es/admin/img_prod/TP65/...   \n",
       "46          PER65  https://atrezzovazquez.es/admin/img_prod/PER65...   \n",
       "47          AFC65  https://atrezzovazquez.es/admin/img_prod/AFC65...   \n",
       "\n",
       "        categoria_atrezzo                    seccion_atrezzo  \\\n",
       "0                Alfombra                            Arabe     \n",
       "1                 Adornos                                      \n",
       "2        Alfombra de cama                       Dormitorio     \n",
       "3                Aparador                  Alemán  Comedor     \n",
       "4      Atrezzo astronomia                       Astronomía     \n",
       "..                    ...                                ...   \n",
       "43   Televisores y vídeos                        Televisor     \n",
       "44            Pie de vela                       Candelabro     \n",
       "45  Tapices y estandartes                            Salón     \n",
       "46               Perchero  Recibidor  Italiano  Dormitorio     \n",
       "47       Alfombra de cama                       Dormitorio     \n",
       "\n",
       "                                  descripcion_atrezzo  largo  ancho  alto  \n",
       "0   Alfombra persa marrón (tiene unas manchas que ...    460    340     1  \n",
       "1                                 Vitrina con abanico    100     10    60  \n",
       "2                   Alfombrín de cama círculos azules    150     72     1  \n",
       "3                           Aparador alemán 2 cuerpos    207     64   300  \n",
       "4                       Pie de madera para astrolabio     78     78   130  \n",
       "..                                                ...    ...    ...   ...  \n",
       "43                   Televisión caja gris Toshiba 18\"     62     46    43  \n",
       "44              Candelabro de hierro en línea 3 luces      0      0     0  \n",
       "45  Tapiz bordado en terciopelo de una ciudad con ...    180      5   122  \n",
       "46  Perchero de colgar italiano formica crema y bo...      1      1     1  \n",
       "47                   Alfombrín de cama verde y flores    120     60     1  \n",
       "\n",
       "[4800 rows x 8 columns]"
      ]
     },
     "execution_count": 78,
     "metadata": {},
     "output_type": "execute_result"
    }
   ],
   "source": [
    "\n",
    "def creardf_final():\n",
    "    df_pag_final= pd.DataFrame()\n",
    "    for pag in range(1,101):\n",
    "        url= f\"https://atrezzovazquez.es/shop.php?search_type=-1&search_terms=&limit=48&page={pag}\"\n",
    "        df_pag_final=pd.concat([df_pag_final,crear_df_pag(url)])\n",
    "        \n",
    "    return df_pag_final\n",
    "        \n",
    "creardf_final()\n",
    "\n"
   ]
  },
  {
   "cell_type": "code",
   "execution_count": 42,
   "metadata": {},
   "outputs": [
    {
     "name": "stdout",
     "output_type": "stream",
     "text": [
      "<Response [200]>\n"
     ]
    },
    {
     "name": "stderr",
     "output_type": "stream",
     "text": [
      "C:\\Users\\jaime\\AppData\\Local\\Temp\\ipykernel_2812\\4077119456.py:11: FutureWarning: DataFrame.applymap has been deprecated. Use DataFrame.map instead.\n",
      "  df_cat_atrezzo = df_cat_atrezzo.applymap(lambda x: x.replace(\"\\n\",\"\"))\n"
     ]
    },
    {
     "name": "stdout",
     "output_type": "stream",
     "text": [
      "<Response [200]>\n"
     ]
    },
    {
     "name": "stderr",
     "output_type": "stream",
     "text": [
      "C:\\Users\\jaime\\AppData\\Local\\Temp\\ipykernel_2812\\4077119456.py:11: FutureWarning: DataFrame.applymap has been deprecated. Use DataFrame.map instead.\n",
      "  df_cat_atrezzo = df_cat_atrezzo.applymap(lambda x: x.replace(\"\\n\",\"\"))\n"
     ]
    },
    {
     "name": "stdout",
     "output_type": "stream",
     "text": [
      "<Response [200]>\n"
     ]
    },
    {
     "name": "stderr",
     "output_type": "stream",
     "text": [
      "C:\\Users\\jaime\\AppData\\Local\\Temp\\ipykernel_2812\\4077119456.py:11: FutureWarning: DataFrame.applymap has been deprecated. Use DataFrame.map instead.\n",
      "  df_cat_atrezzo = df_cat_atrezzo.applymap(lambda x: x.replace(\"\\n\",\"\"))\n"
     ]
    },
    {
     "name": "stdout",
     "output_type": "stream",
     "text": [
      "<Response [200]>\n"
     ]
    },
    {
     "name": "stderr",
     "output_type": "stream",
     "text": [
      "C:\\Users\\jaime\\AppData\\Local\\Temp\\ipykernel_2812\\4077119456.py:11: FutureWarning: DataFrame.applymap has been deprecated. Use DataFrame.map instead.\n",
      "  df_cat_atrezzo = df_cat_atrezzo.applymap(lambda x: x.replace(\"\\n\",\"\"))\n"
     ]
    },
    {
     "name": "stdout",
     "output_type": "stream",
     "text": [
      "<Response [200]>\n"
     ]
    },
    {
     "name": "stderr",
     "output_type": "stream",
     "text": [
      "C:\\Users\\jaime\\AppData\\Local\\Temp\\ipykernel_2812\\4077119456.py:11: FutureWarning: DataFrame.applymap has been deprecated. Use DataFrame.map instead.\n",
      "  df_cat_atrezzo = df_cat_atrezzo.applymap(lambda x: x.replace(\"\\n\",\"\"))\n"
     ]
    },
    {
     "name": "stdout",
     "output_type": "stream",
     "text": [
      "<Response [200]>\n"
     ]
    },
    {
     "name": "stderr",
     "output_type": "stream",
     "text": [
      "C:\\Users\\jaime\\AppData\\Local\\Temp\\ipykernel_2812\\4077119456.py:11: FutureWarning: DataFrame.applymap has been deprecated. Use DataFrame.map instead.\n",
      "  df_cat_atrezzo = df_cat_atrezzo.applymap(lambda x: x.replace(\"\\n\",\"\"))\n"
     ]
    },
    {
     "name": "stdout",
     "output_type": "stream",
     "text": [
      "<Response [200]>\n"
     ]
    },
    {
     "name": "stderr",
     "output_type": "stream",
     "text": [
      "C:\\Users\\jaime\\AppData\\Local\\Temp\\ipykernel_2812\\4077119456.py:11: FutureWarning: DataFrame.applymap has been deprecated. Use DataFrame.map instead.\n",
      "  df_cat_atrezzo = df_cat_atrezzo.applymap(lambda x: x.replace(\"\\n\",\"\"))\n"
     ]
    },
    {
     "name": "stdout",
     "output_type": "stream",
     "text": [
      "<Response [200]>\n"
     ]
    },
    {
     "name": "stderr",
     "output_type": "stream",
     "text": [
      "C:\\Users\\jaime\\AppData\\Local\\Temp\\ipykernel_2812\\4077119456.py:11: FutureWarning: DataFrame.applymap has been deprecated. Use DataFrame.map instead.\n",
      "  df_cat_atrezzo = df_cat_atrezzo.applymap(lambda x: x.replace(\"\\n\",\"\"))\n"
     ]
    },
    {
     "name": "stdout",
     "output_type": "stream",
     "text": [
      "<Response [200]>\n"
     ]
    },
    {
     "name": "stderr",
     "output_type": "stream",
     "text": [
      "C:\\Users\\jaime\\AppData\\Local\\Temp\\ipykernel_2812\\4077119456.py:11: FutureWarning: DataFrame.applymap has been deprecated. Use DataFrame.map instead.\n",
      "  df_cat_atrezzo = df_cat_atrezzo.applymap(lambda x: x.replace(\"\\n\",\"\"))\n"
     ]
    },
    {
     "name": "stdout",
     "output_type": "stream",
     "text": [
      "<Response [200]>\n"
     ]
    },
    {
     "name": "stderr",
     "output_type": "stream",
     "text": [
      "C:\\Users\\jaime\\AppData\\Local\\Temp\\ipykernel_2812\\4077119456.py:11: FutureWarning: DataFrame.applymap has been deprecated. Use DataFrame.map instead.\n",
      "  df_cat_atrezzo = df_cat_atrezzo.applymap(lambda x: x.replace(\"\\n\",\"\"))\n"
     ]
    },
    {
     "name": "stdout",
     "output_type": "stream",
     "text": [
      "<Response [200]>\n"
     ]
    },
    {
     "name": "stderr",
     "output_type": "stream",
     "text": [
      "C:\\Users\\jaime\\AppData\\Local\\Temp\\ipykernel_2812\\4077119456.py:11: FutureWarning: DataFrame.applymap has been deprecated. Use DataFrame.map instead.\n",
      "  df_cat_atrezzo = df_cat_atrezzo.applymap(lambda x: x.replace(\"\\n\",\"\"))\n"
     ]
    },
    {
     "name": "stdout",
     "output_type": "stream",
     "text": [
      "<Response [200]>\n"
     ]
    },
    {
     "name": "stderr",
     "output_type": "stream",
     "text": [
      "C:\\Users\\jaime\\AppData\\Local\\Temp\\ipykernel_2812\\4077119456.py:11: FutureWarning: DataFrame.applymap has been deprecated. Use DataFrame.map instead.\n",
      "  df_cat_atrezzo = df_cat_atrezzo.applymap(lambda x: x.replace(\"\\n\",\"\"))\n"
     ]
    },
    {
     "name": "stdout",
     "output_type": "stream",
     "text": [
      "<Response [200]>\n"
     ]
    },
    {
     "name": "stderr",
     "output_type": "stream",
     "text": [
      "C:\\Users\\jaime\\AppData\\Local\\Temp\\ipykernel_2812\\4077119456.py:11: FutureWarning: DataFrame.applymap has been deprecated. Use DataFrame.map instead.\n",
      "  df_cat_atrezzo = df_cat_atrezzo.applymap(lambda x: x.replace(\"\\n\",\"\"))\n"
     ]
    },
    {
     "name": "stdout",
     "output_type": "stream",
     "text": [
      "<Response [200]>\n"
     ]
    },
    {
     "name": "stderr",
     "output_type": "stream",
     "text": [
      "C:\\Users\\jaime\\AppData\\Local\\Temp\\ipykernel_2812\\4077119456.py:11: FutureWarning: DataFrame.applymap has been deprecated. Use DataFrame.map instead.\n",
      "  df_cat_atrezzo = df_cat_atrezzo.applymap(lambda x: x.replace(\"\\n\",\"\"))\n"
     ]
    },
    {
     "name": "stdout",
     "output_type": "stream",
     "text": [
      "<Response [200]>\n"
     ]
    },
    {
     "name": "stderr",
     "output_type": "stream",
     "text": [
      "C:\\Users\\jaime\\AppData\\Local\\Temp\\ipykernel_2812\\4077119456.py:11: FutureWarning: DataFrame.applymap has been deprecated. Use DataFrame.map instead.\n",
      "  df_cat_atrezzo = df_cat_atrezzo.applymap(lambda x: x.replace(\"\\n\",\"\"))\n"
     ]
    },
    {
     "name": "stdout",
     "output_type": "stream",
     "text": [
      "<Response [200]>\n"
     ]
    },
    {
     "name": "stderr",
     "output_type": "stream",
     "text": [
      "C:\\Users\\jaime\\AppData\\Local\\Temp\\ipykernel_2812\\4077119456.py:11: FutureWarning: DataFrame.applymap has been deprecated. Use DataFrame.map instead.\n",
      "  df_cat_atrezzo = df_cat_atrezzo.applymap(lambda x: x.replace(\"\\n\",\"\"))\n"
     ]
    },
    {
     "name": "stdout",
     "output_type": "stream",
     "text": [
      "<Response [200]>\n"
     ]
    },
    {
     "name": "stderr",
     "output_type": "stream",
     "text": [
      "C:\\Users\\jaime\\AppData\\Local\\Temp\\ipykernel_2812\\4077119456.py:11: FutureWarning: DataFrame.applymap has been deprecated. Use DataFrame.map instead.\n",
      "  df_cat_atrezzo = df_cat_atrezzo.applymap(lambda x: x.replace(\"\\n\",\"\"))\n"
     ]
    },
    {
     "name": "stdout",
     "output_type": "stream",
     "text": [
      "<Response [200]>\n"
     ]
    },
    {
     "name": "stderr",
     "output_type": "stream",
     "text": [
      "C:\\Users\\jaime\\AppData\\Local\\Temp\\ipykernel_2812\\4077119456.py:11: FutureWarning: DataFrame.applymap has been deprecated. Use DataFrame.map instead.\n",
      "  df_cat_atrezzo = df_cat_atrezzo.applymap(lambda x: x.replace(\"\\n\",\"\"))\n"
     ]
    },
    {
     "name": "stdout",
     "output_type": "stream",
     "text": [
      "<Response [200]>\n"
     ]
    },
    {
     "name": "stderr",
     "output_type": "stream",
     "text": [
      "C:\\Users\\jaime\\AppData\\Local\\Temp\\ipykernel_2812\\4077119456.py:11: FutureWarning: DataFrame.applymap has been deprecated. Use DataFrame.map instead.\n",
      "  df_cat_atrezzo = df_cat_atrezzo.applymap(lambda x: x.replace(\"\\n\",\"\"))\n"
     ]
    },
    {
     "name": "stdout",
     "output_type": "stream",
     "text": [
      "<Response [200]>\n"
     ]
    },
    {
     "name": "stderr",
     "output_type": "stream",
     "text": [
      "C:\\Users\\jaime\\AppData\\Local\\Temp\\ipykernel_2812\\4077119456.py:11: FutureWarning: DataFrame.applymap has been deprecated. Use DataFrame.map instead.\n",
      "  df_cat_atrezzo = df_cat_atrezzo.applymap(lambda x: x.replace(\"\\n\",\"\"))\n"
     ]
    },
    {
     "name": "stdout",
     "output_type": "stream",
     "text": [
      "<Response [200]>\n"
     ]
    },
    {
     "name": "stderr",
     "output_type": "stream",
     "text": [
      "C:\\Users\\jaime\\AppData\\Local\\Temp\\ipykernel_2812\\4077119456.py:11: FutureWarning: DataFrame.applymap has been deprecated. Use DataFrame.map instead.\n",
      "  df_cat_atrezzo = df_cat_atrezzo.applymap(lambda x: x.replace(\"\\n\",\"\"))\n"
     ]
    },
    {
     "name": "stdout",
     "output_type": "stream",
     "text": [
      "<Response [200]>\n"
     ]
    },
    {
     "name": "stderr",
     "output_type": "stream",
     "text": [
      "C:\\Users\\jaime\\AppData\\Local\\Temp\\ipykernel_2812\\4077119456.py:11: FutureWarning: DataFrame.applymap has been deprecated. Use DataFrame.map instead.\n",
      "  df_cat_atrezzo = df_cat_atrezzo.applymap(lambda x: x.replace(\"\\n\",\"\"))\n"
     ]
    },
    {
     "name": "stdout",
     "output_type": "stream",
     "text": [
      "<Response [200]>\n"
     ]
    },
    {
     "name": "stderr",
     "output_type": "stream",
     "text": [
      "C:\\Users\\jaime\\AppData\\Local\\Temp\\ipykernel_2812\\4077119456.py:11: FutureWarning: DataFrame.applymap has been deprecated. Use DataFrame.map instead.\n",
      "  df_cat_atrezzo = df_cat_atrezzo.applymap(lambda x: x.replace(\"\\n\",\"\"))\n"
     ]
    },
    {
     "name": "stdout",
     "output_type": "stream",
     "text": [
      "<Response [200]>\n"
     ]
    },
    {
     "name": "stderr",
     "output_type": "stream",
     "text": [
      "C:\\Users\\jaime\\AppData\\Local\\Temp\\ipykernel_2812\\4077119456.py:11: FutureWarning: DataFrame.applymap has been deprecated. Use DataFrame.map instead.\n",
      "  df_cat_atrezzo = df_cat_atrezzo.applymap(lambda x: x.replace(\"\\n\",\"\"))\n"
     ]
    },
    {
     "name": "stdout",
     "output_type": "stream",
     "text": [
      "<Response [200]>\n"
     ]
    },
    {
     "name": "stderr",
     "output_type": "stream",
     "text": [
      "C:\\Users\\jaime\\AppData\\Local\\Temp\\ipykernel_2812\\4077119456.py:11: FutureWarning: DataFrame.applymap has been deprecated. Use DataFrame.map instead.\n",
      "  df_cat_atrezzo = df_cat_atrezzo.applymap(lambda x: x.replace(\"\\n\",\"\"))\n"
     ]
    },
    {
     "name": "stdout",
     "output_type": "stream",
     "text": [
      "<Response [200]>\n"
     ]
    },
    {
     "name": "stderr",
     "output_type": "stream",
     "text": [
      "C:\\Users\\jaime\\AppData\\Local\\Temp\\ipykernel_2812\\4077119456.py:11: FutureWarning: DataFrame.applymap has been deprecated. Use DataFrame.map instead.\n",
      "  df_cat_atrezzo = df_cat_atrezzo.applymap(lambda x: x.replace(\"\\n\",\"\"))\n"
     ]
    },
    {
     "name": "stdout",
     "output_type": "stream",
     "text": [
      "<Response [200]>\n"
     ]
    },
    {
     "name": "stderr",
     "output_type": "stream",
     "text": [
      "C:\\Users\\jaime\\AppData\\Local\\Temp\\ipykernel_2812\\4077119456.py:11: FutureWarning: DataFrame.applymap has been deprecated. Use DataFrame.map instead.\n",
      "  df_cat_atrezzo = df_cat_atrezzo.applymap(lambda x: x.replace(\"\\n\",\"\"))\n"
     ]
    },
    {
     "name": "stdout",
     "output_type": "stream",
     "text": [
      "<Response [200]>\n"
     ]
    },
    {
     "name": "stderr",
     "output_type": "stream",
     "text": [
      "C:\\Users\\jaime\\AppData\\Local\\Temp\\ipykernel_2812\\4077119456.py:11: FutureWarning: DataFrame.applymap has been deprecated. Use DataFrame.map instead.\n",
      "  df_cat_atrezzo = df_cat_atrezzo.applymap(lambda x: x.replace(\"\\n\",\"\"))\n"
     ]
    },
    {
     "name": "stdout",
     "output_type": "stream",
     "text": [
      "<Response [200]>\n"
     ]
    },
    {
     "name": "stderr",
     "output_type": "stream",
     "text": [
      "C:\\Users\\jaime\\AppData\\Local\\Temp\\ipykernel_2812\\4077119456.py:11: FutureWarning: DataFrame.applymap has been deprecated. Use DataFrame.map instead.\n",
      "  df_cat_atrezzo = df_cat_atrezzo.applymap(lambda x: x.replace(\"\\n\",\"\"))\n"
     ]
    },
    {
     "name": "stdout",
     "output_type": "stream",
     "text": [
      "<Response [200]>\n"
     ]
    },
    {
     "name": "stderr",
     "output_type": "stream",
     "text": [
      "C:\\Users\\jaime\\AppData\\Local\\Temp\\ipykernel_2812\\4077119456.py:11: FutureWarning: DataFrame.applymap has been deprecated. Use DataFrame.map instead.\n",
      "  df_cat_atrezzo = df_cat_atrezzo.applymap(lambda x: x.replace(\"\\n\",\"\"))\n"
     ]
    },
    {
     "name": "stdout",
     "output_type": "stream",
     "text": [
      "<Response [200]>\n"
     ]
    },
    {
     "name": "stderr",
     "output_type": "stream",
     "text": [
      "C:\\Users\\jaime\\AppData\\Local\\Temp\\ipykernel_2812\\4077119456.py:11: FutureWarning: DataFrame.applymap has been deprecated. Use DataFrame.map instead.\n",
      "  df_cat_atrezzo = df_cat_atrezzo.applymap(lambda x: x.replace(\"\\n\",\"\"))\n"
     ]
    },
    {
     "name": "stdout",
     "output_type": "stream",
     "text": [
      "<Response [200]>\n"
     ]
    },
    {
     "name": "stderr",
     "output_type": "stream",
     "text": [
      "C:\\Users\\jaime\\AppData\\Local\\Temp\\ipykernel_2812\\4077119456.py:11: FutureWarning: DataFrame.applymap has been deprecated. Use DataFrame.map instead.\n",
      "  df_cat_atrezzo = df_cat_atrezzo.applymap(lambda x: x.replace(\"\\n\",\"\"))\n"
     ]
    },
    {
     "name": "stdout",
     "output_type": "stream",
     "text": [
      "<Response [200]>\n"
     ]
    },
    {
     "name": "stderr",
     "output_type": "stream",
     "text": [
      "C:\\Users\\jaime\\AppData\\Local\\Temp\\ipykernel_2812\\4077119456.py:11: FutureWarning: DataFrame.applymap has been deprecated. Use DataFrame.map instead.\n",
      "  df_cat_atrezzo = df_cat_atrezzo.applymap(lambda x: x.replace(\"\\n\",\"\"))\n"
     ]
    },
    {
     "name": "stdout",
     "output_type": "stream",
     "text": [
      "<Response [200]>\n"
     ]
    },
    {
     "name": "stderr",
     "output_type": "stream",
     "text": [
      "C:\\Users\\jaime\\AppData\\Local\\Temp\\ipykernel_2812\\4077119456.py:11: FutureWarning: DataFrame.applymap has been deprecated. Use DataFrame.map instead.\n",
      "  df_cat_atrezzo = df_cat_atrezzo.applymap(lambda x: x.replace(\"\\n\",\"\"))\n"
     ]
    },
    {
     "name": "stdout",
     "output_type": "stream",
     "text": [
      "<Response [200]>\n"
     ]
    },
    {
     "name": "stderr",
     "output_type": "stream",
     "text": [
      "C:\\Users\\jaime\\AppData\\Local\\Temp\\ipykernel_2812\\4077119456.py:11: FutureWarning: DataFrame.applymap has been deprecated. Use DataFrame.map instead.\n",
      "  df_cat_atrezzo = df_cat_atrezzo.applymap(lambda x: x.replace(\"\\n\",\"\"))\n"
     ]
    },
    {
     "name": "stdout",
     "output_type": "stream",
     "text": [
      "<Response [200]>\n"
     ]
    },
    {
     "name": "stderr",
     "output_type": "stream",
     "text": [
      "C:\\Users\\jaime\\AppData\\Local\\Temp\\ipykernel_2812\\4077119456.py:11: FutureWarning: DataFrame.applymap has been deprecated. Use DataFrame.map instead.\n",
      "  df_cat_atrezzo = df_cat_atrezzo.applymap(lambda x: x.replace(\"\\n\",\"\"))\n"
     ]
    },
    {
     "name": "stdout",
     "output_type": "stream",
     "text": [
      "<Response [200]>\n"
     ]
    },
    {
     "name": "stderr",
     "output_type": "stream",
     "text": [
      "C:\\Users\\jaime\\AppData\\Local\\Temp\\ipykernel_2812\\4077119456.py:11: FutureWarning: DataFrame.applymap has been deprecated. Use DataFrame.map instead.\n",
      "  df_cat_atrezzo = df_cat_atrezzo.applymap(lambda x: x.replace(\"\\n\",\"\"))\n"
     ]
    },
    {
     "name": "stdout",
     "output_type": "stream",
     "text": [
      "<Response [200]>\n"
     ]
    },
    {
     "name": "stderr",
     "output_type": "stream",
     "text": [
      "C:\\Users\\jaime\\AppData\\Local\\Temp\\ipykernel_2812\\4077119456.py:11: FutureWarning: DataFrame.applymap has been deprecated. Use DataFrame.map instead.\n",
      "  df_cat_atrezzo = df_cat_atrezzo.applymap(lambda x: x.replace(\"\\n\",\"\"))\n"
     ]
    },
    {
     "name": "stdout",
     "output_type": "stream",
     "text": [
      "<Response [200]>\n"
     ]
    },
    {
     "name": "stderr",
     "output_type": "stream",
     "text": [
      "C:\\Users\\jaime\\AppData\\Local\\Temp\\ipykernel_2812\\4077119456.py:11: FutureWarning: DataFrame.applymap has been deprecated. Use DataFrame.map instead.\n",
      "  df_cat_atrezzo = df_cat_atrezzo.applymap(lambda x: x.replace(\"\\n\",\"\"))\n"
     ]
    },
    {
     "name": "stdout",
     "output_type": "stream",
     "text": [
      "<Response [200]>\n"
     ]
    },
    {
     "name": "stderr",
     "output_type": "stream",
     "text": [
      "C:\\Users\\jaime\\AppData\\Local\\Temp\\ipykernel_2812\\4077119456.py:11: FutureWarning: DataFrame.applymap has been deprecated. Use DataFrame.map instead.\n",
      "  df_cat_atrezzo = df_cat_atrezzo.applymap(lambda x: x.replace(\"\\n\",\"\"))\n"
     ]
    },
    {
     "name": "stdout",
     "output_type": "stream",
     "text": [
      "<Response [200]>\n"
     ]
    },
    {
     "name": "stderr",
     "output_type": "stream",
     "text": [
      "C:\\Users\\jaime\\AppData\\Local\\Temp\\ipykernel_2812\\4077119456.py:11: FutureWarning: DataFrame.applymap has been deprecated. Use DataFrame.map instead.\n",
      "  df_cat_atrezzo = df_cat_atrezzo.applymap(lambda x: x.replace(\"\\n\",\"\"))\n"
     ]
    },
    {
     "name": "stdout",
     "output_type": "stream",
     "text": [
      "<Response [200]>\n"
     ]
    },
    {
     "name": "stderr",
     "output_type": "stream",
     "text": [
      "C:\\Users\\jaime\\AppData\\Local\\Temp\\ipykernel_2812\\4077119456.py:11: FutureWarning: DataFrame.applymap has been deprecated. Use DataFrame.map instead.\n",
      "  df_cat_atrezzo = df_cat_atrezzo.applymap(lambda x: x.replace(\"\\n\",\"\"))\n"
     ]
    },
    {
     "name": "stdout",
     "output_type": "stream",
     "text": [
      "<Response [200]>\n"
     ]
    },
    {
     "name": "stderr",
     "output_type": "stream",
     "text": [
      "C:\\Users\\jaime\\AppData\\Local\\Temp\\ipykernel_2812\\4077119456.py:11: FutureWarning: DataFrame.applymap has been deprecated. Use DataFrame.map instead.\n",
      "  df_cat_atrezzo = df_cat_atrezzo.applymap(lambda x: x.replace(\"\\n\",\"\"))\n"
     ]
    },
    {
     "name": "stdout",
     "output_type": "stream",
     "text": [
      "<Response [200]>\n"
     ]
    },
    {
     "name": "stderr",
     "output_type": "stream",
     "text": [
      "C:\\Users\\jaime\\AppData\\Local\\Temp\\ipykernel_2812\\4077119456.py:11: FutureWarning: DataFrame.applymap has been deprecated. Use DataFrame.map instead.\n",
      "  df_cat_atrezzo = df_cat_atrezzo.applymap(lambda x: x.replace(\"\\n\",\"\"))\n"
     ]
    },
    {
     "name": "stdout",
     "output_type": "stream",
     "text": [
      "<Response [200]>\n"
     ]
    },
    {
     "name": "stderr",
     "output_type": "stream",
     "text": [
      "C:\\Users\\jaime\\AppData\\Local\\Temp\\ipykernel_2812\\4077119456.py:11: FutureWarning: DataFrame.applymap has been deprecated. Use DataFrame.map instead.\n",
      "  df_cat_atrezzo = df_cat_atrezzo.applymap(lambda x: x.replace(\"\\n\",\"\"))\n"
     ]
    },
    {
     "name": "stdout",
     "output_type": "stream",
     "text": [
      "<Response [200]>\n"
     ]
    },
    {
     "name": "stderr",
     "output_type": "stream",
     "text": [
      "C:\\Users\\jaime\\AppData\\Local\\Temp\\ipykernel_2812\\4077119456.py:11: FutureWarning: DataFrame.applymap has been deprecated. Use DataFrame.map instead.\n",
      "  df_cat_atrezzo = df_cat_atrezzo.applymap(lambda x: x.replace(\"\\n\",\"\"))\n"
     ]
    },
    {
     "name": "stdout",
     "output_type": "stream",
     "text": [
      "<Response [200]>\n"
     ]
    },
    {
     "name": "stderr",
     "output_type": "stream",
     "text": [
      "C:\\Users\\jaime\\AppData\\Local\\Temp\\ipykernel_2812\\4077119456.py:11: FutureWarning: DataFrame.applymap has been deprecated. Use DataFrame.map instead.\n",
      "  df_cat_atrezzo = df_cat_atrezzo.applymap(lambda x: x.replace(\"\\n\",\"\"))\n"
     ]
    },
    {
     "name": "stdout",
     "output_type": "stream",
     "text": [
      "<Response [200]>\n"
     ]
    },
    {
     "name": "stderr",
     "output_type": "stream",
     "text": [
      "C:\\Users\\jaime\\AppData\\Local\\Temp\\ipykernel_2812\\4077119456.py:11: FutureWarning: DataFrame.applymap has been deprecated. Use DataFrame.map instead.\n",
      "  df_cat_atrezzo = df_cat_atrezzo.applymap(lambda x: x.replace(\"\\n\",\"\"))\n"
     ]
    },
    {
     "name": "stdout",
     "output_type": "stream",
     "text": [
      "<Response [200]>\n"
     ]
    },
    {
     "name": "stderr",
     "output_type": "stream",
     "text": [
      "C:\\Users\\jaime\\AppData\\Local\\Temp\\ipykernel_2812\\4077119456.py:11: FutureWarning: DataFrame.applymap has been deprecated. Use DataFrame.map instead.\n",
      "  df_cat_atrezzo = df_cat_atrezzo.applymap(lambda x: x.replace(\"\\n\",\"\"))\n"
     ]
    },
    {
     "name": "stdout",
     "output_type": "stream",
     "text": [
      "<Response [200]>\n"
     ]
    },
    {
     "name": "stderr",
     "output_type": "stream",
     "text": [
      "C:\\Users\\jaime\\AppData\\Local\\Temp\\ipykernel_2812\\4077119456.py:11: FutureWarning: DataFrame.applymap has been deprecated. Use DataFrame.map instead.\n",
      "  df_cat_atrezzo = df_cat_atrezzo.applymap(lambda x: x.replace(\"\\n\",\"\"))\n"
     ]
    },
    {
     "name": "stdout",
     "output_type": "stream",
     "text": [
      "<Response [200]>\n"
     ]
    },
    {
     "name": "stderr",
     "output_type": "stream",
     "text": [
      "C:\\Users\\jaime\\AppData\\Local\\Temp\\ipykernel_2812\\4077119456.py:11: FutureWarning: DataFrame.applymap has been deprecated. Use DataFrame.map instead.\n",
      "  df_cat_atrezzo = df_cat_atrezzo.applymap(lambda x: x.replace(\"\\n\",\"\"))\n"
     ]
    },
    {
     "name": "stdout",
     "output_type": "stream",
     "text": [
      "<Response [200]>\n"
     ]
    },
    {
     "name": "stderr",
     "output_type": "stream",
     "text": [
      "C:\\Users\\jaime\\AppData\\Local\\Temp\\ipykernel_2812\\4077119456.py:11: FutureWarning: DataFrame.applymap has been deprecated. Use DataFrame.map instead.\n",
      "  df_cat_atrezzo = df_cat_atrezzo.applymap(lambda x: x.replace(\"\\n\",\"\"))\n"
     ]
    },
    {
     "name": "stdout",
     "output_type": "stream",
     "text": [
      "<Response [200]>\n"
     ]
    },
    {
     "name": "stderr",
     "output_type": "stream",
     "text": [
      "C:\\Users\\jaime\\AppData\\Local\\Temp\\ipykernel_2812\\4077119456.py:11: FutureWarning: DataFrame.applymap has been deprecated. Use DataFrame.map instead.\n",
      "  df_cat_atrezzo = df_cat_atrezzo.applymap(lambda x: x.replace(\"\\n\",\"\"))\n"
     ]
    },
    {
     "name": "stdout",
     "output_type": "stream",
     "text": [
      "<Response [200]>\n"
     ]
    },
    {
     "name": "stderr",
     "output_type": "stream",
     "text": [
      "C:\\Users\\jaime\\AppData\\Local\\Temp\\ipykernel_2812\\4077119456.py:11: FutureWarning: DataFrame.applymap has been deprecated. Use DataFrame.map instead.\n",
      "  df_cat_atrezzo = df_cat_atrezzo.applymap(lambda x: x.replace(\"\\n\",\"\"))\n"
     ]
    },
    {
     "name": "stdout",
     "output_type": "stream",
     "text": [
      "<Response [200]>\n"
     ]
    },
    {
     "name": "stderr",
     "output_type": "stream",
     "text": [
      "C:\\Users\\jaime\\AppData\\Local\\Temp\\ipykernel_2812\\4077119456.py:11: FutureWarning: DataFrame.applymap has been deprecated. Use DataFrame.map instead.\n",
      "  df_cat_atrezzo = df_cat_atrezzo.applymap(lambda x: x.replace(\"\\n\",\"\"))\n"
     ]
    },
    {
     "name": "stdout",
     "output_type": "stream",
     "text": [
      "<Response [200]>\n"
     ]
    },
    {
     "name": "stderr",
     "output_type": "stream",
     "text": [
      "C:\\Users\\jaime\\AppData\\Local\\Temp\\ipykernel_2812\\4077119456.py:11: FutureWarning: DataFrame.applymap has been deprecated. Use DataFrame.map instead.\n",
      "  df_cat_atrezzo = df_cat_atrezzo.applymap(lambda x: x.replace(\"\\n\",\"\"))\n"
     ]
    },
    {
     "name": "stdout",
     "output_type": "stream",
     "text": [
      "<Response [200]>\n"
     ]
    },
    {
     "name": "stderr",
     "output_type": "stream",
     "text": [
      "C:\\Users\\jaime\\AppData\\Local\\Temp\\ipykernel_2812\\4077119456.py:11: FutureWarning: DataFrame.applymap has been deprecated. Use DataFrame.map instead.\n",
      "  df_cat_atrezzo = df_cat_atrezzo.applymap(lambda x: x.replace(\"\\n\",\"\"))\n"
     ]
    },
    {
     "name": "stdout",
     "output_type": "stream",
     "text": [
      "<Response [200]>\n"
     ]
    },
    {
     "name": "stderr",
     "output_type": "stream",
     "text": [
      "C:\\Users\\jaime\\AppData\\Local\\Temp\\ipykernel_2812\\4077119456.py:11: FutureWarning: DataFrame.applymap has been deprecated. Use DataFrame.map instead.\n",
      "  df_cat_atrezzo = df_cat_atrezzo.applymap(lambda x: x.replace(\"\\n\",\"\"))\n"
     ]
    },
    {
     "name": "stdout",
     "output_type": "stream",
     "text": [
      "<Response [200]>\n"
     ]
    },
    {
     "name": "stderr",
     "output_type": "stream",
     "text": [
      "C:\\Users\\jaime\\AppData\\Local\\Temp\\ipykernel_2812\\4077119456.py:11: FutureWarning: DataFrame.applymap has been deprecated. Use DataFrame.map instead.\n",
      "  df_cat_atrezzo = df_cat_atrezzo.applymap(lambda x: x.replace(\"\\n\",\"\"))\n"
     ]
    },
    {
     "name": "stdout",
     "output_type": "stream",
     "text": [
      "<Response [200]>\n"
     ]
    },
    {
     "name": "stderr",
     "output_type": "stream",
     "text": [
      "C:\\Users\\jaime\\AppData\\Local\\Temp\\ipykernel_2812\\4077119456.py:11: FutureWarning: DataFrame.applymap has been deprecated. Use DataFrame.map instead.\n",
      "  df_cat_atrezzo = df_cat_atrezzo.applymap(lambda x: x.replace(\"\\n\",\"\"))\n"
     ]
    },
    {
     "name": "stdout",
     "output_type": "stream",
     "text": [
      "<Response [200]>\n"
     ]
    },
    {
     "name": "stderr",
     "output_type": "stream",
     "text": [
      "C:\\Users\\jaime\\AppData\\Local\\Temp\\ipykernel_2812\\4077119456.py:11: FutureWarning: DataFrame.applymap has been deprecated. Use DataFrame.map instead.\n",
      "  df_cat_atrezzo = df_cat_atrezzo.applymap(lambda x: x.replace(\"\\n\",\"\"))\n"
     ]
    },
    {
     "name": "stdout",
     "output_type": "stream",
     "text": [
      "<Response [200]>\n"
     ]
    },
    {
     "name": "stderr",
     "output_type": "stream",
     "text": [
      "C:\\Users\\jaime\\AppData\\Local\\Temp\\ipykernel_2812\\4077119456.py:11: FutureWarning: DataFrame.applymap has been deprecated. Use DataFrame.map instead.\n",
      "  df_cat_atrezzo = df_cat_atrezzo.applymap(lambda x: x.replace(\"\\n\",\"\"))\n"
     ]
    },
    {
     "name": "stdout",
     "output_type": "stream",
     "text": [
      "<Response [200]>\n"
     ]
    },
    {
     "name": "stderr",
     "output_type": "stream",
     "text": [
      "C:\\Users\\jaime\\AppData\\Local\\Temp\\ipykernel_2812\\4077119456.py:11: FutureWarning: DataFrame.applymap has been deprecated. Use DataFrame.map instead.\n",
      "  df_cat_atrezzo = df_cat_atrezzo.applymap(lambda x: x.replace(\"\\n\",\"\"))\n"
     ]
    },
    {
     "name": "stdout",
     "output_type": "stream",
     "text": [
      "<Response [200]>\n"
     ]
    },
    {
     "name": "stderr",
     "output_type": "stream",
     "text": [
      "C:\\Users\\jaime\\AppData\\Local\\Temp\\ipykernel_2812\\4077119456.py:11: FutureWarning: DataFrame.applymap has been deprecated. Use DataFrame.map instead.\n",
      "  df_cat_atrezzo = df_cat_atrezzo.applymap(lambda x: x.replace(\"\\n\",\"\"))\n"
     ]
    },
    {
     "name": "stdout",
     "output_type": "stream",
     "text": [
      "<Response [200]>\n"
     ]
    },
    {
     "name": "stderr",
     "output_type": "stream",
     "text": [
      "C:\\Users\\jaime\\AppData\\Local\\Temp\\ipykernel_2812\\4077119456.py:11: FutureWarning: DataFrame.applymap has been deprecated. Use DataFrame.map instead.\n",
      "  df_cat_atrezzo = df_cat_atrezzo.applymap(lambda x: x.replace(\"\\n\",\"\"))\n"
     ]
    },
    {
     "name": "stdout",
     "output_type": "stream",
     "text": [
      "<Response [200]>\n"
     ]
    },
    {
     "name": "stderr",
     "output_type": "stream",
     "text": [
      "C:\\Users\\jaime\\AppData\\Local\\Temp\\ipykernel_2812\\4077119456.py:11: FutureWarning: DataFrame.applymap has been deprecated. Use DataFrame.map instead.\n",
      "  df_cat_atrezzo = df_cat_atrezzo.applymap(lambda x: x.replace(\"\\n\",\"\"))\n"
     ]
    },
    {
     "name": "stdout",
     "output_type": "stream",
     "text": [
      "<Response [200]>\n"
     ]
    },
    {
     "name": "stderr",
     "output_type": "stream",
     "text": [
      "C:\\Users\\jaime\\AppData\\Local\\Temp\\ipykernel_2812\\4077119456.py:11: FutureWarning: DataFrame.applymap has been deprecated. Use DataFrame.map instead.\n",
      "  df_cat_atrezzo = df_cat_atrezzo.applymap(lambda x: x.replace(\"\\n\",\"\"))\n"
     ]
    },
    {
     "name": "stdout",
     "output_type": "stream",
     "text": [
      "<Response [200]>\n"
     ]
    },
    {
     "name": "stderr",
     "output_type": "stream",
     "text": [
      "C:\\Users\\jaime\\AppData\\Local\\Temp\\ipykernel_2812\\4077119456.py:11: FutureWarning: DataFrame.applymap has been deprecated. Use DataFrame.map instead.\n",
      "  df_cat_atrezzo = df_cat_atrezzo.applymap(lambda x: x.replace(\"\\n\",\"\"))\n"
     ]
    },
    {
     "name": "stdout",
     "output_type": "stream",
     "text": [
      "<Response [200]>\n"
     ]
    },
    {
     "name": "stderr",
     "output_type": "stream",
     "text": [
      "C:\\Users\\jaime\\AppData\\Local\\Temp\\ipykernel_2812\\4077119456.py:11: FutureWarning: DataFrame.applymap has been deprecated. Use DataFrame.map instead.\n",
      "  df_cat_atrezzo = df_cat_atrezzo.applymap(lambda x: x.replace(\"\\n\",\"\"))\n"
     ]
    },
    {
     "name": "stdout",
     "output_type": "stream",
     "text": [
      "<Response [200]>\n"
     ]
    },
    {
     "name": "stderr",
     "output_type": "stream",
     "text": [
      "C:\\Users\\jaime\\AppData\\Local\\Temp\\ipykernel_2812\\4077119456.py:11: FutureWarning: DataFrame.applymap has been deprecated. Use DataFrame.map instead.\n",
      "  df_cat_atrezzo = df_cat_atrezzo.applymap(lambda x: x.replace(\"\\n\",\"\"))\n"
     ]
    },
    {
     "name": "stdout",
     "output_type": "stream",
     "text": [
      "<Response [200]>\n"
     ]
    },
    {
     "name": "stderr",
     "output_type": "stream",
     "text": [
      "C:\\Users\\jaime\\AppData\\Local\\Temp\\ipykernel_2812\\4077119456.py:11: FutureWarning: DataFrame.applymap has been deprecated. Use DataFrame.map instead.\n",
      "  df_cat_atrezzo = df_cat_atrezzo.applymap(lambda x: x.replace(\"\\n\",\"\"))\n"
     ]
    },
    {
     "name": "stdout",
     "output_type": "stream",
     "text": [
      "<Response [200]>\n"
     ]
    },
    {
     "name": "stderr",
     "output_type": "stream",
     "text": [
      "C:\\Users\\jaime\\AppData\\Local\\Temp\\ipykernel_2812\\4077119456.py:11: FutureWarning: DataFrame.applymap has been deprecated. Use DataFrame.map instead.\n",
      "  df_cat_atrezzo = df_cat_atrezzo.applymap(lambda x: x.replace(\"\\n\",\"\"))\n"
     ]
    },
    {
     "name": "stdout",
     "output_type": "stream",
     "text": [
      "<Response [200]>\n"
     ]
    },
    {
     "name": "stderr",
     "output_type": "stream",
     "text": [
      "C:\\Users\\jaime\\AppData\\Local\\Temp\\ipykernel_2812\\4077119456.py:11: FutureWarning: DataFrame.applymap has been deprecated. Use DataFrame.map instead.\n",
      "  df_cat_atrezzo = df_cat_atrezzo.applymap(lambda x: x.replace(\"\\n\",\"\"))\n"
     ]
    },
    {
     "name": "stdout",
     "output_type": "stream",
     "text": [
      "<Response [200]>\n"
     ]
    },
    {
     "name": "stderr",
     "output_type": "stream",
     "text": [
      "C:\\Users\\jaime\\AppData\\Local\\Temp\\ipykernel_2812\\4077119456.py:11: FutureWarning: DataFrame.applymap has been deprecated. Use DataFrame.map instead.\n",
      "  df_cat_atrezzo = df_cat_atrezzo.applymap(lambda x: x.replace(\"\\n\",\"\"))\n"
     ]
    },
    {
     "name": "stdout",
     "output_type": "stream",
     "text": [
      "<Response [200]>\n"
     ]
    },
    {
     "name": "stderr",
     "output_type": "stream",
     "text": [
      "C:\\Users\\jaime\\AppData\\Local\\Temp\\ipykernel_2812\\4077119456.py:11: FutureWarning: DataFrame.applymap has been deprecated. Use DataFrame.map instead.\n",
      "  df_cat_atrezzo = df_cat_atrezzo.applymap(lambda x: x.replace(\"\\n\",\"\"))\n"
     ]
    },
    {
     "name": "stdout",
     "output_type": "stream",
     "text": [
      "<Response [200]>\n"
     ]
    },
    {
     "name": "stderr",
     "output_type": "stream",
     "text": [
      "C:\\Users\\jaime\\AppData\\Local\\Temp\\ipykernel_2812\\4077119456.py:11: FutureWarning: DataFrame.applymap has been deprecated. Use DataFrame.map instead.\n",
      "  df_cat_atrezzo = df_cat_atrezzo.applymap(lambda x: x.replace(\"\\n\",\"\"))\n"
     ]
    },
    {
     "name": "stdout",
     "output_type": "stream",
     "text": [
      "<Response [200]>\n"
     ]
    },
    {
     "name": "stderr",
     "output_type": "stream",
     "text": [
      "C:\\Users\\jaime\\AppData\\Local\\Temp\\ipykernel_2812\\4077119456.py:11: FutureWarning: DataFrame.applymap has been deprecated. Use DataFrame.map instead.\n",
      "  df_cat_atrezzo = df_cat_atrezzo.applymap(lambda x: x.replace(\"\\n\",\"\"))\n"
     ]
    },
    {
     "name": "stdout",
     "output_type": "stream",
     "text": [
      "<Response [200]>\n"
     ]
    },
    {
     "name": "stderr",
     "output_type": "stream",
     "text": [
      "C:\\Users\\jaime\\AppData\\Local\\Temp\\ipykernel_2812\\4077119456.py:11: FutureWarning: DataFrame.applymap has been deprecated. Use DataFrame.map instead.\n",
      "  df_cat_atrezzo = df_cat_atrezzo.applymap(lambda x: x.replace(\"\\n\",\"\"))\n"
     ]
    },
    {
     "name": "stdout",
     "output_type": "stream",
     "text": [
      "<Response [200]>\n"
     ]
    },
    {
     "name": "stderr",
     "output_type": "stream",
     "text": [
      "C:\\Users\\jaime\\AppData\\Local\\Temp\\ipykernel_2812\\4077119456.py:11: FutureWarning: DataFrame.applymap has been deprecated. Use DataFrame.map instead.\n",
      "  df_cat_atrezzo = df_cat_atrezzo.applymap(lambda x: x.replace(\"\\n\",\"\"))\n"
     ]
    },
    {
     "name": "stdout",
     "output_type": "stream",
     "text": [
      "<Response [200]>\n"
     ]
    },
    {
     "name": "stderr",
     "output_type": "stream",
     "text": [
      "C:\\Users\\jaime\\AppData\\Local\\Temp\\ipykernel_2812\\4077119456.py:11: FutureWarning: DataFrame.applymap has been deprecated. Use DataFrame.map instead.\n",
      "  df_cat_atrezzo = df_cat_atrezzo.applymap(lambda x: x.replace(\"\\n\",\"\"))\n"
     ]
    },
    {
     "name": "stdout",
     "output_type": "stream",
     "text": [
      "<Response [200]>\n"
     ]
    },
    {
     "name": "stderr",
     "output_type": "stream",
     "text": [
      "C:\\Users\\jaime\\AppData\\Local\\Temp\\ipykernel_2812\\4077119456.py:11: FutureWarning: DataFrame.applymap has been deprecated. Use DataFrame.map instead.\n",
      "  df_cat_atrezzo = df_cat_atrezzo.applymap(lambda x: x.replace(\"\\n\",\"\"))\n"
     ]
    },
    {
     "name": "stdout",
     "output_type": "stream",
     "text": [
      "<Response [200]>\n"
     ]
    },
    {
     "name": "stderr",
     "output_type": "stream",
     "text": [
      "C:\\Users\\jaime\\AppData\\Local\\Temp\\ipykernel_2812\\4077119456.py:11: FutureWarning: DataFrame.applymap has been deprecated. Use DataFrame.map instead.\n",
      "  df_cat_atrezzo = df_cat_atrezzo.applymap(lambda x: x.replace(\"\\n\",\"\"))\n"
     ]
    },
    {
     "name": "stdout",
     "output_type": "stream",
     "text": [
      "<Response [200]>\n"
     ]
    },
    {
     "name": "stderr",
     "output_type": "stream",
     "text": [
      "C:\\Users\\jaime\\AppData\\Local\\Temp\\ipykernel_2812\\4077119456.py:11: FutureWarning: DataFrame.applymap has been deprecated. Use DataFrame.map instead.\n",
      "  df_cat_atrezzo = df_cat_atrezzo.applymap(lambda x: x.replace(\"\\n\",\"\"))\n"
     ]
    },
    {
     "name": "stdout",
     "output_type": "stream",
     "text": [
      "<Response [200]>\n"
     ]
    },
    {
     "name": "stderr",
     "output_type": "stream",
     "text": [
      "C:\\Users\\jaime\\AppData\\Local\\Temp\\ipykernel_2812\\4077119456.py:11: FutureWarning: DataFrame.applymap has been deprecated. Use DataFrame.map instead.\n",
      "  df_cat_atrezzo = df_cat_atrezzo.applymap(lambda x: x.replace(\"\\n\",\"\"))\n"
     ]
    },
    {
     "name": "stdout",
     "output_type": "stream",
     "text": [
      "<Response [200]>\n"
     ]
    },
    {
     "name": "stderr",
     "output_type": "stream",
     "text": [
      "C:\\Users\\jaime\\AppData\\Local\\Temp\\ipykernel_2812\\4077119456.py:11: FutureWarning: DataFrame.applymap has been deprecated. Use DataFrame.map instead.\n",
      "  df_cat_atrezzo = df_cat_atrezzo.applymap(lambda x: x.replace(\"\\n\",\"\"))\n"
     ]
    },
    {
     "name": "stdout",
     "output_type": "stream",
     "text": [
      "<Response [200]>\n"
     ]
    },
    {
     "name": "stderr",
     "output_type": "stream",
     "text": [
      "C:\\Users\\jaime\\AppData\\Local\\Temp\\ipykernel_2812\\4077119456.py:11: FutureWarning: DataFrame.applymap has been deprecated. Use DataFrame.map instead.\n",
      "  df_cat_atrezzo = df_cat_atrezzo.applymap(lambda x: x.replace(\"\\n\",\"\"))\n"
     ]
    },
    {
     "name": "stdout",
     "output_type": "stream",
     "text": [
      "<Response [200]>\n"
     ]
    },
    {
     "name": "stderr",
     "output_type": "stream",
     "text": [
      "C:\\Users\\jaime\\AppData\\Local\\Temp\\ipykernel_2812\\4077119456.py:11: FutureWarning: DataFrame.applymap has been deprecated. Use DataFrame.map instead.\n",
      "  df_cat_atrezzo = df_cat_atrezzo.applymap(lambda x: x.replace(\"\\n\",\"\"))\n"
     ]
    },
    {
     "name": "stdout",
     "output_type": "stream",
     "text": [
      "<Response [200]>\n"
     ]
    },
    {
     "name": "stderr",
     "output_type": "stream",
     "text": [
      "C:\\Users\\jaime\\AppData\\Local\\Temp\\ipykernel_2812\\4077119456.py:11: FutureWarning: DataFrame.applymap has been deprecated. Use DataFrame.map instead.\n",
      "  df_cat_atrezzo = df_cat_atrezzo.applymap(lambda x: x.replace(\"\\n\",\"\"))\n"
     ]
    },
    {
     "name": "stdout",
     "output_type": "stream",
     "text": [
      "<Response [200]>\n"
     ]
    },
    {
     "name": "stderr",
     "output_type": "stream",
     "text": [
      "C:\\Users\\jaime\\AppData\\Local\\Temp\\ipykernel_2812\\4077119456.py:11: FutureWarning: DataFrame.applymap has been deprecated. Use DataFrame.map instead.\n",
      "  df_cat_atrezzo = df_cat_atrezzo.applymap(lambda x: x.replace(\"\\n\",\"\"))\n"
     ]
    },
    {
     "name": "stdout",
     "output_type": "stream",
     "text": [
      "<Response [200]>\n"
     ]
    },
    {
     "name": "stderr",
     "output_type": "stream",
     "text": [
      "C:\\Users\\jaime\\AppData\\Local\\Temp\\ipykernel_2812\\4077119456.py:11: FutureWarning: DataFrame.applymap has been deprecated. Use DataFrame.map instead.\n",
      "  df_cat_atrezzo = df_cat_atrezzo.applymap(lambda x: x.replace(\"\\n\",\"\"))\n"
     ]
    },
    {
     "name": "stdout",
     "output_type": "stream",
     "text": [
      "<Response [200]>\n"
     ]
    },
    {
     "name": "stderr",
     "output_type": "stream",
     "text": [
      "C:\\Users\\jaime\\AppData\\Local\\Temp\\ipykernel_2812\\4077119456.py:11: FutureWarning: DataFrame.applymap has been deprecated. Use DataFrame.map instead.\n",
      "  df_cat_atrezzo = df_cat_atrezzo.applymap(lambda x: x.replace(\"\\n\",\"\"))\n"
     ]
    },
    {
     "name": "stdout",
     "output_type": "stream",
     "text": [
      "<Response [200]>\n"
     ]
    },
    {
     "name": "stderr",
     "output_type": "stream",
     "text": [
      "C:\\Users\\jaime\\AppData\\Local\\Temp\\ipykernel_2812\\4077119456.py:11: FutureWarning: DataFrame.applymap has been deprecated. Use DataFrame.map instead.\n",
      "  df_cat_atrezzo = df_cat_atrezzo.applymap(lambda x: x.replace(\"\\n\",\"\"))\n"
     ]
    },
    {
     "name": "stdout",
     "output_type": "stream",
     "text": [
      "<Response [200]>\n"
     ]
    },
    {
     "name": "stderr",
     "output_type": "stream",
     "text": [
      "C:\\Users\\jaime\\AppData\\Local\\Temp\\ipykernel_2812\\4077119456.py:11: FutureWarning: DataFrame.applymap has been deprecated. Use DataFrame.map instead.\n",
      "  df_cat_atrezzo = df_cat_atrezzo.applymap(lambda x: x.replace(\"\\n\",\"\"))\n"
     ]
    },
    {
     "name": "stdout",
     "output_type": "stream",
     "text": [
      "<Response [200]>\n"
     ]
    },
    {
     "name": "stderr",
     "output_type": "stream",
     "text": [
      "C:\\Users\\jaime\\AppData\\Local\\Temp\\ipykernel_2812\\4077119456.py:11: FutureWarning: DataFrame.applymap has been deprecated. Use DataFrame.map instead.\n",
      "  df_cat_atrezzo = df_cat_atrezzo.applymap(lambda x: x.replace(\"\\n\",\"\"))\n"
     ]
    },
    {
     "name": "stdout",
     "output_type": "stream",
     "text": [
      "<Response [200]>\n"
     ]
    },
    {
     "name": "stderr",
     "output_type": "stream",
     "text": [
      "C:\\Users\\jaime\\AppData\\Local\\Temp\\ipykernel_2812\\4077119456.py:11: FutureWarning: DataFrame.applymap has been deprecated. Use DataFrame.map instead.\n",
      "  df_cat_atrezzo = df_cat_atrezzo.applymap(lambda x: x.replace(\"\\n\",\"\"))\n"
     ]
    },
    {
     "name": "stdout",
     "output_type": "stream",
     "text": [
      "<Response [200]>\n"
     ]
    },
    {
     "name": "stderr",
     "output_type": "stream",
     "text": [
      "C:\\Users\\jaime\\AppData\\Local\\Temp\\ipykernel_2812\\4077119456.py:11: FutureWarning: DataFrame.applymap has been deprecated. Use DataFrame.map instead.\n",
      "  df_cat_atrezzo = df_cat_atrezzo.applymap(lambda x: x.replace(\"\\n\",\"\"))\n"
     ]
    },
    {
     "name": "stdout",
     "output_type": "stream",
     "text": [
      "<Response [200]>\n"
     ]
    },
    {
     "name": "stderr",
     "output_type": "stream",
     "text": [
      "C:\\Users\\jaime\\AppData\\Local\\Temp\\ipykernel_2812\\4077119456.py:11: FutureWarning: DataFrame.applymap has been deprecated. Use DataFrame.map instead.\n",
      "  df_cat_atrezzo = df_cat_atrezzo.applymap(lambda x: x.replace(\"\\n\",\"\"))\n"
     ]
    },
    {
     "name": "stdout",
     "output_type": "stream",
     "text": [
      "<Response [200]>\n"
     ]
    },
    {
     "name": "stderr",
     "output_type": "stream",
     "text": [
      "C:\\Users\\jaime\\AppData\\Local\\Temp\\ipykernel_2812\\4077119456.py:11: FutureWarning: DataFrame.applymap has been deprecated. Use DataFrame.map instead.\n",
      "  df_cat_atrezzo = df_cat_atrezzo.applymap(lambda x: x.replace(\"\\n\",\"\"))\n"
     ]
    },
    {
     "name": "stdout",
     "output_type": "stream",
     "text": [
      "<Response [200]>\n"
     ]
    },
    {
     "name": "stderr",
     "output_type": "stream",
     "text": [
      "C:\\Users\\jaime\\AppData\\Local\\Temp\\ipykernel_2812\\4077119456.py:11: FutureWarning: DataFrame.applymap has been deprecated. Use DataFrame.map instead.\n",
      "  df_cat_atrezzo = df_cat_atrezzo.applymap(lambda x: x.replace(\"\\n\",\"\"))\n"
     ]
    },
    {
     "name": "stdout",
     "output_type": "stream",
     "text": [
      "<Response [200]>\n"
     ]
    },
    {
     "name": "stderr",
     "output_type": "stream",
     "text": [
      "C:\\Users\\jaime\\AppData\\Local\\Temp\\ipykernel_2812\\4077119456.py:11: FutureWarning: DataFrame.applymap has been deprecated. Use DataFrame.map instead.\n",
      "  df_cat_atrezzo = df_cat_atrezzo.applymap(lambda x: x.replace(\"\\n\",\"\"))\n"
     ]
    },
    {
     "name": "stdout",
     "output_type": "stream",
     "text": [
      "<Response [200]>\n"
     ]
    },
    {
     "name": "stderr",
     "output_type": "stream",
     "text": [
      "C:\\Users\\jaime\\AppData\\Local\\Temp\\ipykernel_2812\\4077119456.py:11: FutureWarning: DataFrame.applymap has been deprecated. Use DataFrame.map instead.\n",
      "  df_cat_atrezzo = df_cat_atrezzo.applymap(lambda x: x.replace(\"\\n\",\"\"))\n"
     ]
    }
   ],
   "source": [
    "for pag in range(1,101):\n",
    "    url_atrezzo= f\"https://atrezzovazquez.es/shop.php?search_type=-1&search_terms=&limit=48&page={pag}\"\n",
    "    resp= requests.get(url_atrezzo)\n",
    "    if resp.status_code == 200:\n",
    "        lista_categoria= sopa_atrezzo1.find_all(\"a\", {\"class\": \"tag\"})\n",
    "        categoria_at=[categoria.getText() for categoria in lista_categoria]\n",
    "        df_cat_at= pd.DataFrame(categoria_at)\n",
    "        df_cat_at.drop(columns= 0, inplace= True)\n",
    "        df_cat_atrezzo= df_cat_at.copy()\n",
    "        df_cat_atrezzo[\"categoria_atrezzo\"]= categoria_at\n",
    "        df_cat_atrezzo = df_cat_atrezzo.applymap(lambda x: x.replace(\"\\n\",\"\"))\n",
    "\n",
    "\n",
    "        lista_nombre_at= sopa_atrezzo1.find_all(\"a\", {\"class\": \"title\"})\n",
    "\n",
    "        nombre_at=[nombre.getText() for nombre in lista_nombre_at]\n",
    "\n",
    "        df_nombre_at= pd.DataFrame(nombre_at)\n",
    "\n",
    "        df_nombre_at.drop(columns= 0, inplace=True)\n",
    "\n",
    "        df_nombre_atrezzo= df_nombre_at.copy()\n",
    "\n",
    "        df_nombre_atrezzo[\"nombre_atrezzo\"]= nombre_at\n",
    "\n",
    "\n",
    "        lista_dimension= sopa_atrezzo1.find_all(\"div\", {\"class\": \"price\"}) \n",
    "        dimension_at=[dimension.getText() for dimension in lista_dimension]\n",
    "        df_dim_at= pd.DataFrame(dimension_at)\n",
    "        df_dim_atrezzo= df_dim_at.copy()\n",
    "        df_dim_atrezzo[\"descripcion_atrezzo\"]= dimension_at\n",
    "        df_dim_atrezzo = df_dim_atrezzo[\"descripcion_atrezzo\"].str.split(\"x\",expand=True)\n",
    "        df_dim_atrezzo.columns = [\"largo\",\"ancho\",\"alto\"] \n",
    "        df_dim_atrezzo = df_dim_atrezzo.applymap(lambda x: x.replace(\"\\n\",\"\").replace(\"(cm)\",\"\")).astype(int)\n",
    "\n",
    "        \n",
    "    else:\n",
    "        print(\"Hay un problema\")\n",
    "        break\n",
    "\n",
    "    "
   ]
  },
  {
   "cell_type": "markdown",
   "metadata": {},
   "source": [
    "2. **Verificación del Código de Estado de la Respuesta**:\n",
    "\n",
    "   - Antes de extraer cualquier información, es fundamental verificar que la solicitud a la página web ha sido exitosa. Un código de estado 200 indica que la página se ha cargado correctamente.\n",
    "\n",
    "   - Si el código no es 200, debes imprimir un mensaje de error y detener la ejecución de la extracción para evitar problemas posteriores.\n",
    "\n",
    "\n",
    "(Un if 200 perfe y el resto print error y break)"
   ]
  },
  {
   "cell_type": "markdown",
   "metadata": {},
   "source": [
    "3. **Extracción de Información Específica**:\n",
    "\n",
    "   De cada página, deberás extraer los siguientes detalles de los objetos de atrezzo:\n",
    "\n",
    "   - **Nombre del Objeto**: El nombre o identificador del objeto.\n",
    "\n",
    "   - **Categoría**: La categoría en la que se clasifica el objeto (ej.: mobiliario, decorado, utilería, etc.).\n",
    "\n",
    "   - **Sección**: La sección específica dentro de la categoría.\n",
    "\n",
    "   - **Descripción**: Una breve descripción del objeto que puede incluir detalles sobre su estilo, material o uso.\n",
    "\n",
    "   - **Dimensiones**: El tamaño del objeto en formato (largo x ancho x alto).\n",
    "\n",
    "   - **Enlace a la Imagen**: El link a la imagen del objeto, útil para tener una vista previa visual."
   ]
  },
  {
   "cell_type": "markdown",
   "metadata": {},
   "source": [
    "4. **Organización de los Datos en un Diccionario**:\n",
    "\n",
    "   Una vez extraída la información, deberás organizarla en un diccionario con las siguientes claves:\n",
    "\n",
    "   - `\"nombre\"`: Nombres del objeto.\n",
    "\n",
    "   - `\"categoria\"`: Categoría a la que pertenece el objeto.\n",
    "\n",
    "   - `\"seccion\"`: Sección específica dentro de la categoría.\n",
    "\n",
    "   - `\"descripcion\"`: Breve descripción del objeto.\n",
    "\n",
    "   - `\"dimensiones\"`: Dimensiones del objeto en el formato adecuado.\n",
    "\n",
    "   - `\"imagen\"`: URL de la imagen del objeto."
   ]
  },
  {
   "cell_type": "markdown",
   "metadata": {},
   "source": [
    "5. **Almacenamiento de la Información en un DataFrame**:\n",
    "\n",
    "   Una vez que tengas toda la información organizada en diccionarios, el siguiente paso es convertirla en un DataFrame de Pandas. Este DataFrame te permitirá manipular y analizar los datos con facilidad. Tu DataFrame debería verse similar al ejemplo proporcionado, donde cada fila representa un objeto diferente y cada columna contiene la información extraída:\n",
    "\n",
    "![Dataframe](https://github.com/Hack-io-Data/Imagenes/blob/main/02-Imagenes/BS/df_atrezzo.png?raw=true)\n"
   ]
  },
  {
   "cell_type": "markdown",
   "metadata": {},
   "source": [
    "6.  Consideraciones Adicionales:\n",
    "\n",
    "- Asegúrate de manejar posibles errores o excepciones durante el scraping, como tiempos de espera agotados, páginas inaccesibles o datos faltantes.\n",
    "\n",
    "- Recuerda que el scraping debe hacerse de manera respetuosa, evitando sobrecargar el servidor de la página web (puedes usar pausas entre solicitudes).\n",
    "\n",
    "- Finalmente, asegúrate de almacenar el DataFrame en un archivo CSV para que puedas reutilizar esta información en análisis futuros.\n"
   ]
  }
 ],
 "metadata": {
  "kernelspec": {
   "display_name": "Python 3",
   "language": "python",
   "name": "python3"
  },
  "language_info": {
   "codemirror_mode": {
    "name": "ipython",
    "version": 3
   },
   "file_extension": ".py",
   "mimetype": "text/x-python",
   "name": "python",
   "nbconvert_exporter": "python",
   "pygments_lexer": "ipython3",
   "version": "3.11.9"
  }
 },
 "nbformat": 4,
 "nbformat_minor": 2
}
